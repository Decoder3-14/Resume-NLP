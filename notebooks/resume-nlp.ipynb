{
  "nbformat": 4,
  "nbformat_minor": 0,
  "metadata": {
    "colab": {
      "name": "assignment2.ipynb",
      "provenance": [],
      "collapsed_sections": [],
      "machine_shape": "hm"
    },
    "kernelspec": {
      "name": "python3",
      "display_name": "Python 3"
    }
  },
  "cells": [
    {
      "cell_type": "markdown",
      "metadata": {
        "id": "fY__v_nxYtzr",
        "colab_type": "text"
      },
      "source": [
        ""
      ]
    },
    {
      "cell_type": "code",
      "metadata": {
        "id": "mgtukeIMIMTG",
        "colab_type": "code",
        "colab": {
          "base_uri": "https://localhost:8080/",
          "height": 35
        },
        "outputId": "3d5f9a8b-c7b5-4ad6-acf2-dbb7b0fba74b"
      },
      "source": [
        "pip install TurkishStemmer"
      ],
      "execution_count": null,
      "outputs": [
        {
          "output_type": "stream",
          "text": [
            "Requirement already satisfied: TurkishStemmer in /usr/local/lib/python3.6/dist-packages (1.3)\n"
          ],
          "name": "stdout"
        }
      ]
    },
    {
      "cell_type": "code",
      "metadata": {
        "id": "SWMh2m86g4zL",
        "colab_type": "code",
        "colab": {}
      },
      "source": [
        "import pandas as pd\n",
        "import numpy as np\n",
        "\n",
        "from matplotlib import pyplot as plt\n",
        "import seaborn as sns\n",
        "\n",
        "# functions for data cleaning techniques\n",
        "import re\n",
        "import string\n",
        "\n",
        "# importing packages and downloading stop words\n",
        "from nltk.corpus import stopwords\n",
        "import nltk\n",
        "\n",
        "from TurkishStemmer import TurkishStemmer\n",
        "\n",
        "import pprint\n",
        "from sklearn.ensemble import RandomForestClassifier\n",
        "from sklearn.model_selection import GridSearchCV, StratifiedKFold, cross_val_score, cross_val_predict, cross_validate, train_test_split\n",
        "from sklearn.model_selection import cross_val_score, cross_val_predict\n",
        "from sklearn.pipeline import Pipeline\n",
        "from sklearn.metrics import accuracy_score\n",
        "from sklearn.metrics import confusion_matrix, classification_report, accuracy_score\n",
        "from pprint import pprint\n",
        "import sklearn\n",
        "\n",
        "\n",
        "# calculating countvectorizer\n",
        "from sklearn.feature_extraction.text import CountVectorizer\n",
        "\n",
        "# calculating tfidf\n",
        "from sklearn.feature_extraction.text import TfidfTransformer\n"
      ],
      "execution_count": null,
      "outputs": []
    },
    {
      "cell_type": "code",
      "metadata": {
        "id": "uELPx-xShTXT",
        "colab_type": "code",
        "colab": {}
      },
      "source": [
        "cv_list_df = pd.read_excel('cv_list.xlsx')\n",
        "job_ad_contents_df = pd.read_excel('job_ad_contents.xlsx')\n",
        "job_ad_cv_evaluations_df = pd.read_excel('job_ad_cv_evaluation_results_simplified.xlsx')"
      ],
      "execution_count": null,
      "outputs": []
    },
    {
      "cell_type": "code",
      "metadata": {
        "id": "8cKwBNopOSK-",
        "colab_type": "code",
        "colab": {}
      },
      "source": [
        "# dropping nan/s && removing the annoying '  nan'\n",
        "cv_list_df = cv_list_df.dropna(subset=['ResumeAll'])\n",
        "job_ad_contents_df = job_ad_contents_df.dropna(subset=['Ilan'])\n",
        "job_ad_cv_evaluations_df = job_ad_cv_evaluations_df.dropna()\n",
        "cv_list_df = cv_list_df[cv_list_df.ResumeAll != '   nan']"
      ],
      "execution_count": null,
      "outputs": []
    },
    {
      "cell_type": "code",
      "metadata": {
        "id": "0OynZc-PJNYk",
        "colab_type": "code",
        "colab": {
          "base_uri": "https://localhost:8080/",
          "height": 546
        },
        "outputId": "2e8937d7-ca7e-4ceb-cfbd-a1e1f8a12f5f"
      },
      "source": [
        "cv_list_df.head(10)"
      ],
      "execution_count": null,
      "outputs": [
        {
          "output_type": "execute_result",
          "data": {
            "text/html": [
              "<div>\n",
              "<style scoped>\n",
              "    .dataframe tbody tr th:only-of-type {\n",
              "        vertical-align: middle;\n",
              "    }\n",
              "\n",
              "    .dataframe tbody tr th {\n",
              "        vertical-align: top;\n",
              "    }\n",
              "\n",
              "    .dataframe thead th {\n",
              "        text-align: right;\n",
              "    }\n",
              "</style>\n",
              "<table border=\"1\" class=\"dataframe\">\n",
              "  <thead>\n",
              "    <tr style=\"text-align: right;\">\n",
              "      <th></th>\n",
              "      <th>Unnamed: 0</th>\n",
              "      <th>RefNumber</th>\n",
              "      <th>Resume</th>\n",
              "      <th>Yetenekler</th>\n",
              "      <th>ResumeAll</th>\n",
              "    </tr>\n",
              "  </thead>\n",
              "  <tbody>\n",
              "    <tr>\n",
              "      <th>0</th>\n",
              "      <td>0</td>\n",
              "      <td>473</td>\n",
              "      <td>- Mapco ve TurkcellGroup bünyesindeki şirketle...</td>\n",
              "      <td>Ms Access,MS SQL Server,Mysql,Progress,AppleTa...</td>\n",
              "      <td>- Mapco ve TurkcellGroup bünyesindeki şirketle...</td>\n",
              "    </tr>\n",
              "    <tr>\n",
              "      <th>1</th>\n",
              "      <td>1</td>\n",
              "      <td>900</td>\n",
              "      <td>&lt;p&gt;Aile şirketimizde ve inşaat sektöründe paza...</td>\n",
              "      <td>NaN</td>\n",
              "      <td>&lt;p&gt;Aile şirketimizde ve inşaat sektöründe paza...</td>\n",
              "    </tr>\n",
              "    <tr>\n",
              "      <th>2</th>\n",
              "      <td>2</td>\n",
              "      <td>1323</td>\n",
              "      <td>Bilgi İşlem Yöneticisi.&amp;nbsp;Moda Tekstil, Rot...</td>\n",
              "      <td>Windows Server 2008,Cobol,Autodesk,Sqlite Veri...</td>\n",
              "      <td>Bilgi İşlem Yöneticisi.&amp;nbsp;Moda Tekstil, Rot...</td>\n",
              "    </tr>\n",
              "    <tr>\n",
              "      <th>3</th>\n",
              "      <td>3</td>\n",
              "      <td>3748</td>\n",
              "      <td>- Setting up departments in the production fac...</td>\n",
              "      <td>NaN</td>\n",
              "      <td>- Setting up departments in the production fac...</td>\n",
              "    </tr>\n",
              "    <tr>\n",
              "      <th>4</th>\n",
              "      <td>4</td>\n",
              "      <td>6363</td>\n",
              "      <td>&lt;p&gt;İç Satın alma faaliyetlerinden sorumlu Satı...</td>\n",
              "      <td>SAP,Bilgisayar Ofis Programları,Trekking,Ms Of...</td>\n",
              "      <td>&lt;p&gt;İç Satın alma faaliyetlerinden sorumlu Satı...</td>\n",
              "    </tr>\n",
              "    <tr>\n",
              "      <th>5</th>\n",
              "      <td>5</td>\n",
              "      <td>6887</td>\n",
              "      <td>• Windows 98,Windows 2000 Professional, Windo...</td>\n",
              "      <td>C,Visual Basic,Pascal,Fiber Optics,Kaynak Bilg...</td>\n",
              "      <td>• Windows 98,Windows 2000 Professional, Windo...</td>\n",
              "    </tr>\n",
              "    <tr>\n",
              "      <th>6</th>\n",
              "      <td>6</td>\n",
              "      <td>7282</td>\n",
              "      <td>&lt;div&gt;Birkaç şirketten oluşmuş tüm şirketin IT ...</td>\n",
              "      <td>Firebird,Mysql,Freebsd,C, C++, C# Visual , Jav...</td>\n",
              "      <td>&lt;div&gt;Birkaç şirketten oluşmuş tüm şirketin IT ...</td>\n",
              "    </tr>\n",
              "    <tr>\n",
              "      <th>7</th>\n",
              "      <td>7</td>\n",
              "      <td>8096</td>\n",
              "      <td>&lt;p&gt;•\\tHP  ürün pörtföyünde’ki sunucu ve storag...</td>\n",
              "      <td>Analytics,Thinclient,Microsoft Visual Studio,D...</td>\n",
              "      <td>&lt;p&gt;•\\tHP  ürün pörtföyünde’ki sunucu ve storag...</td>\n",
              "    </tr>\n",
              "    <tr>\n",
              "      <th>8</th>\n",
              "      <td>8</td>\n",
              "      <td>8735</td>\n",
              "      <td>MS Office (Excel, Word, Access, Power Point),...</td>\n",
              "      <td>NaN</td>\n",
              "      <td>MS Office (Excel, Word, Access, Power Point),...</td>\n",
              "    </tr>\n",
              "    <tr>\n",
              "      <th>9</th>\n",
              "      <td>9</td>\n",
              "      <td>8920</td>\n",
              "      <td>*Tamamen ithalat, satış dağıtım yapılan şirket...</td>\n",
              "      <td>ISO 9001,ISO 9001:2000,SAP,SAP/MM,Erp Lojistik...</td>\n",
              "      <td>*Tamamen ithalat, satış dağıtım yapılan şirket...</td>\n",
              "    </tr>\n",
              "  </tbody>\n",
              "</table>\n",
              "</div>"
            ],
            "text/plain": [
              "   Unnamed: 0  ...                                          ResumeAll\n",
              "0           0  ...  - Mapco ve TurkcellGroup bünyesindeki şirketle...\n",
              "1           1  ...  <p>Aile şirketimizde ve inşaat sektöründe paza...\n",
              "2           2  ...  Bilgi İşlem Yöneticisi.&nbsp;Moda Tekstil, Rot...\n",
              "3           3  ...  - Setting up departments in the production fac...\n",
              "4           4  ...  <p>İç Satın alma faaliyetlerinden sorumlu Satı...\n",
              "5           5  ...   • Windows 98,Windows 2000 Professional, Windo...\n",
              "6           6  ...  <div>Birkaç şirketten oluşmuş tüm şirketin IT ...\n",
              "7           7  ...  <p>•\\tHP  ürün pörtföyünde’ki sunucu ve storag...\n",
              "8           8  ...   MS Office (Excel, Word, Access, Power Point),...\n",
              "9           9  ...  *Tamamen ithalat, satış dağıtım yapılan şirket...\n",
              "\n",
              "[10 rows x 5 columns]"
            ]
          },
          "metadata": {
            "tags": []
          },
          "execution_count": 19
        }
      ]
    },
    {
      "cell_type": "code",
      "metadata": {
        "id": "YBijGiSoJQaT",
        "colab_type": "code",
        "colab": {
          "base_uri": "https://localhost:8080/",
          "height": 355
        },
        "outputId": "720ea806-a84e-4068-e385-1e76055b796d"
      },
      "source": [
        "job_ad_contents_df.head(10)"
      ],
      "execution_count": null,
      "outputs": [
        {
          "output_type": "execute_result",
          "data": {
            "text/html": [
              "<div>\n",
              "<style scoped>\n",
              "    .dataframe tbody tr th:only-of-type {\n",
              "        vertical-align: middle;\n",
              "    }\n",
              "\n",
              "    .dataframe tbody tr th {\n",
              "        vertical-align: top;\n",
              "    }\n",
              "\n",
              "    .dataframe thead th {\n",
              "        text-align: right;\n",
              "    }\n",
              "</style>\n",
              "<table border=\"1\" class=\"dataframe\">\n",
              "  <thead>\n",
              "    <tr style=\"text-align: right;\">\n",
              "      <th></th>\n",
              "      <th>Unnamed: 0</th>\n",
              "      <th>JobId</th>\n",
              "      <th>Ilan</th>\n",
              "    </tr>\n",
              "  </thead>\n",
              "  <tbody>\n",
              "    <tr>\n",
              "      <th>0</th>\n",
              "      <td>0</td>\n",
              "      <td>1870838</td>\n",
              "      <td>Makam Şoförü \\r\\n&lt;ul&gt;\\r\\n&lt;li&gt;En az 5 yıl Makam...</td>\n",
              "    </tr>\n",
              "    <tr>\n",
              "      <th>1</th>\n",
              "      <td>1</td>\n",
              "      <td>1676048</td>\n",
              "      <td>Şoför / Sürücü Avrupa Bölge Müdürlüğü'ne bağlı...</td>\n",
              "    </tr>\n",
              "    <tr>\n",
              "      <th>2</th>\n",
              "      <td>2</td>\n",
              "      <td>2141993</td>\n",
              "      <td>Şoför / Sürücü Sitil Çizgi Şirketler Grubu bün...</td>\n",
              "    </tr>\n",
              "    <tr>\n",
              "      <th>3</th>\n",
              "      <td>3</td>\n",
              "      <td>2175311</td>\n",
              "      <td>Şoför / Sürücü &lt;strong&gt;Alfred Concierge Hizmet...</td>\n",
              "    </tr>\n",
              "    <tr>\n",
              "      <th>4</th>\n",
              "      <td>4</td>\n",
              "      <td>2193892</td>\n",
              "      <td>Şoför / Sürücü &lt;ul&gt;&lt;li&gt;&lt;span&gt;&lt;span&gt;Yoğun iş te...</td>\n",
              "    </tr>\n",
              "    <tr>\n",
              "      <th>5</th>\n",
              "      <td>5</td>\n",
              "      <td>2089326</td>\n",
              "      <td>Aşçı &lt;p&gt;&lt;strong&gt;&amp;nbsp; &amp;nbsp; &amp;nbsp; AŞÇILIK E...</td>\n",
              "    </tr>\n",
              "    <tr>\n",
              "      <th>6</th>\n",
              "      <td>6</td>\n",
              "      <td>2189034</td>\n",
              "      <td>Aşçı Yardımcısı &lt;h3&gt;GENEL NİTELİKLER&lt;/h3&gt;The H...</td>\n",
              "    </tr>\n",
              "    <tr>\n",
              "      <th>7</th>\n",
              "      <td>7</td>\n",
              "      <td>2005298</td>\n",
              "      <td>Akaryakıt İstasyonu Servis Elemanı Kadınların ...</td>\n",
              "    </tr>\n",
              "    <tr>\n",
              "      <th>8</th>\n",
              "      <td>8</td>\n",
              "      <td>2187147</td>\n",
              "      <td>Aktif Satış Yöneticisi / Yönetmeni \\r\\n&lt;p&gt;&lt;str...</td>\n",
              "    </tr>\n",
              "    <tr>\n",
              "      <th>9</th>\n",
              "      <td>9</td>\n",
              "      <td>2151619</td>\n",
              "      <td>Aktif Satış Temsilcisi &lt;blockquote type=\"cite\"...</td>\n",
              "    </tr>\n",
              "  </tbody>\n",
              "</table>\n",
              "</div>"
            ],
            "text/plain": [
              "   Unnamed: 0    JobId                                               Ilan\n",
              "0           0  1870838  Makam Şoförü \\r\\n<ul>\\r\\n<li>En az 5 yıl Makam...\n",
              "1           1  1676048  Şoför / Sürücü Avrupa Bölge Müdürlüğü'ne bağlı...\n",
              "2           2  2141993  Şoför / Sürücü Sitil Çizgi Şirketler Grubu bün...\n",
              "3           3  2175311  Şoför / Sürücü <strong>Alfred Concierge Hizmet...\n",
              "4           4  2193892  Şoför / Sürücü <ul><li><span><span>Yoğun iş te...\n",
              "5           5  2089326  Aşçı <p><strong>&nbsp; &nbsp; &nbsp; AŞÇILIK E...\n",
              "6           6  2189034  Aşçı Yardımcısı <h3>GENEL NİTELİKLER</h3>The H...\n",
              "7           7  2005298  Akaryakıt İstasyonu Servis Elemanı Kadınların ...\n",
              "8           8  2187147  Aktif Satış Yöneticisi / Yönetmeni \\r\\n<p><str...\n",
              "9           9  2151619  Aktif Satış Temsilcisi <blockquote type=\"cite\"..."
            ]
          },
          "metadata": {
            "tags": []
          },
          "execution_count": 21
        }
      ]
    },
    {
      "cell_type": "code",
      "metadata": {
        "id": "TqPdl6fRM_Sr",
        "colab_type": "code",
        "colab": {
          "base_uri": "https://localhost:8080/",
          "height": 415
        },
        "outputId": "84a96269-73c0-43a2-e08b-851aa4270540"
      },
      "source": [
        "cv_job_evaluations_df = job_ad_cv_evaluations_df \\\n",
        "                                                .merge(cv_list_df, left_on='CvId', right_on='RefNumber', how='inner') \\\n",
        "                                                .merge(job_ad_contents_df, left_on='JobId', right_on='JobId', how='inner')\n",
        "\n",
        "cv_job_evaluations_df = cv_job_evaluations_df[['JobId', 'CvId', 'ResumeAll', 'Ilan', 'Label']]\n",
        "cv_job_evaluations_df"
      ],
      "execution_count": null,
      "outputs": [
        {
          "output_type": "execute_result",
          "data": {
            "text/html": [
              "<div>\n",
              "<style scoped>\n",
              "    .dataframe tbody tr th:only-of-type {\n",
              "        vertical-align: middle;\n",
              "    }\n",
              "\n",
              "    .dataframe tbody tr th {\n",
              "        vertical-align: top;\n",
              "    }\n",
              "\n",
              "    .dataframe thead th {\n",
              "        text-align: right;\n",
              "    }\n",
              "</style>\n",
              "<table border=\"1\" class=\"dataframe\">\n",
              "  <thead>\n",
              "    <tr style=\"text-align: right;\">\n",
              "      <th></th>\n",
              "      <th>JobId</th>\n",
              "      <th>CvId</th>\n",
              "      <th>ResumeAll</th>\n",
              "      <th>Ilan</th>\n",
              "      <th>Label</th>\n",
              "    </tr>\n",
              "  </thead>\n",
              "  <tbody>\n",
              "    <tr>\n",
              "      <th>0</th>\n",
              "      <td>490619</td>\n",
              "      <td>11702287</td>\n",
              "      <td>2009 senesinde Derindere Turizm firması muhase...</td>\n",
              "      <td>Yönetici Asistanı \\r\\n&lt;p&gt;Tercihen Üniversitele...</td>\n",
              "      <td>1</td>\n",
              "    </tr>\n",
              "    <tr>\n",
              "      <th>1</th>\n",
              "      <td>490619</td>\n",
              "      <td>100819267</td>\n",
              "      <td>Genel müdür ile diğer birim müdürleri arasında...</td>\n",
              "      <td>Yönetici Asistanı \\r\\n&lt;p&gt;Tercihen Üniversitele...</td>\n",
              "      <td>1</td>\n",
              "    </tr>\n",
              "    <tr>\n",
              "      <th>2</th>\n",
              "      <td>490619</td>\n",
              "      <td>105843622</td>\n",
              "      <td>M.S Office ( Word, Excel, Power Point, ) Wind...</td>\n",
              "      <td>Yönetici Asistanı \\r\\n&lt;p&gt;Tercihen Üniversitele...</td>\n",
              "      <td>1</td>\n",
              "    </tr>\n",
              "    <tr>\n",
              "      <th>3</th>\n",
              "      <td>490619</td>\n",
              "      <td>106155661</td>\n",
              "      <td>MS Office ( Word, Excel ,Power Point ) ,&lt;p&gt;Te...</td>\n",
              "      <td>Yönetici Asistanı \\r\\n&lt;p&gt;Tercihen Üniversitele...</td>\n",
              "      <td>1</td>\n",
              "    </tr>\n",
              "    <tr>\n",
              "      <th>4</th>\n",
              "      <td>490619</td>\n",
              "      <td>108241683</td>\n",
              "      <td>Excel,Word,Mikro,POLDY... ,&lt;p dir=\"ltr\"&gt;muhas...</td>\n",
              "      <td>Yönetici Asistanı \\r\\n&lt;p&gt;Tercihen Üniversitele...</td>\n",
              "      <td>1</td>\n",
              "    </tr>\n",
              "    <tr>\n",
              "      <th>...</th>\n",
              "      <td>...</td>\n",
              "      <td>...</td>\n",
              "      <td>...</td>\n",
              "      <td>...</td>\n",
              "      <td>...</td>\n",
              "    </tr>\n",
              "    <tr>\n",
              "      <th>9550</th>\n",
              "      <td>2199387</td>\n",
              "      <td>5592918</td>\n",
              "      <td>alakart minbar servisi o da servisi kahvalti v...</td>\n",
              "      <td>Garson \\r\\n&lt;ul&gt;\\r\\n&lt;li&gt;&lt;span&gt;&lt;span&gt;&lt;span&gt;&amp;nbsp...</td>\n",
              "      <td>0</td>\n",
              "    </tr>\n",
              "    <tr>\n",
              "      <th>9551</th>\n",
              "      <td>2199387</td>\n",
              "      <td>6450952</td>\n",
              "      <td>&lt;br&gt;&lt;p&gt;Fine dining&lt;/p&gt; Microsoft Selamlar, tur...</td>\n",
              "      <td>Garson \\r\\n&lt;ul&gt;\\r\\n&lt;li&gt;&lt;span&gt;&lt;span&gt;&lt;span&gt;&amp;nbsp...</td>\n",
              "      <td>0</td>\n",
              "    </tr>\n",
              "    <tr>\n",
              "      <th>9552</th>\n",
              "      <td>2199387</td>\n",
              "      <td>6459447</td>\n",
              "      <td>&lt;p dir=\"ltr\"&gt;Bal&amp;#305;k Restorant&lt;/p&gt;\\n Kişise...</td>\n",
              "      <td>Garson \\r\\n&lt;ul&gt;\\r\\n&lt;li&gt;&lt;span&gt;&lt;span&gt;&lt;span&gt;&amp;nbsp...</td>\n",
              "      <td>0</td>\n",
              "    </tr>\n",
              "    <tr>\n",
              "      <th>9553</th>\n",
              "      <td>2199387</td>\n",
              "      <td>6485644</td>\n",
              "      <td>WORD,EXCEL Hizmet sektöründe, turizm işletmel...</td>\n",
              "      <td>Garson \\r\\n&lt;ul&gt;\\r\\n&lt;li&gt;&lt;span&gt;&lt;span&gt;&lt;span&gt;&amp;nbsp...</td>\n",
              "      <td>0</td>\n",
              "    </tr>\n",
              "    <tr>\n",
              "      <th>9554</th>\n",
              "      <td>2199387</td>\n",
              "      <td>6685769</td>\n",
              "      <td>Perakende satış sektöründe 13 yıl deneyimli bö...</td>\n",
              "      <td>Garson \\r\\n&lt;ul&gt;\\r\\n&lt;li&gt;&lt;span&gt;&lt;span&gt;&lt;span&gt;&amp;nbsp...</td>\n",
              "      <td>0</td>\n",
              "    </tr>\n",
              "  </tbody>\n",
              "</table>\n",
              "<p>9555 rows × 5 columns</p>\n",
              "</div>"
            ],
            "text/plain": [
              "        JobId  ...  Label\n",
              "0      490619  ...      1\n",
              "1      490619  ...      1\n",
              "2      490619  ...      1\n",
              "3      490619  ...      1\n",
              "4      490619  ...      1\n",
              "...       ...  ...    ...\n",
              "9550  2199387  ...      0\n",
              "9551  2199387  ...      0\n",
              "9552  2199387  ...      0\n",
              "9553  2199387  ...      0\n",
              "9554  2199387  ...      0\n",
              "\n",
              "[9555 rows x 5 columns]"
            ]
          },
          "metadata": {
            "tags": []
          },
          "execution_count": 23
        }
      ]
    },
    {
      "cell_type": "code",
      "metadata": {
        "id": "QfLmS6F0NAdf",
        "colab_type": "code",
        "colab": {
          "base_uri": "https://localhost:8080/",
          "height": 390
        },
        "outputId": "e23ef91f-2b1c-4ac7-b63d-73371bae0c76"
      },
      "source": [
        "x = [\"Rejected\" , \"Accepted\"]\n",
        "possible_outcomes = [0, 1]\n",
        "y =  [np.sum(cv_job_evaluations_df.Label == label) for label in possible_outcomes]\n",
        "\n",
        "plt.figure(figsize=(10, 6))\n",
        "plt.title (\"Plot representing rejected and accepted job applications\")\n",
        "sns.barplot(x, y)\n",
        "plt.show()"
      ],
      "execution_count": null,
      "outputs": [
        {
          "output_type": "display_data",
          "data": {
            "image/png": "[encoded data removed]",
            "text/plain": [
              "<Figure size 720x432 with 1 Axes>"
            ]
          },
          "metadata": {
            "tags": [],
            "needs_background": "light"
          }
        }
      ]
    },
    {
      "cell_type": "code",
      "metadata": {
        "id": "RRjGAg-SNA7g",
        "colab_type": "code",
        "colab": {
          "base_uri": "https://localhost:8080/",
          "height": 425
        },
        "outputId": "d548c40a-7a68-4547-9ceb-69c4251b69a2"
      },
      "source": [
        "# projecting number of applications groups  \n",
        "job_counts = cv_job_evaluations_df.groupby('JobId').agg('CvId').size()\n",
        "\n",
        "job_counts_df = pd.DataFrame(job_counts).reset_index()\n",
        "job_counts_df.columns = ['JobId', 'count']\n",
        "counts = job_counts.unique()\n",
        "print('We can see that most jobs ads have 10 applications \\n')\n",
        "x = [\"{} applications\".format(count) for count in counts]\n",
        "y =  [np.sum(job_counts_df['count'] == count) for count in counts]\n",
        "\n",
        "plt.figure(figsize=(10, 6))\n",
        "plt.title (\"Plot representing applications per job numbers in general\")\n",
        "sns.barplot(x, y)\n",
        "plt.show()"
      ],
      "execution_count": null,
      "outputs": [
        {
          "output_type": "stream",
          "text": [
            "We can see that most jobs ads have 10 applications \n",
            "\n"
          ],
          "name": "stdout"
        },
        {
          "output_type": "display_data",
          "data": {
            "image/png": "[encoded data removed]",
            "text/plain": [
              "<Figure size 720x432 with 1 Axes>"
            ]
          },
          "metadata": {
            "tags": [],
            "needs_background": "light"
          }
        }
      ]
    },
    {
      "cell_type": "markdown",
      "metadata": {
        "id": "nqNXO6-qcZOk",
        "colab_type": "text"
      },
      "source": [
        "## Data Cleaning"
      ]
    },
    {
      "cell_type": "code",
      "metadata": {
        "id": "sQc8SLHQNA6T",
        "colab_type": "code",
        "colab": {
          "base_uri": "https://localhost:8080/",
          "height": 69
        },
        "outputId": "3f2c4ccb-373a-43ac-d93e-2d1389342fbd"
      },
      "source": [
        "# download stop words if not exist\n",
        "nltk.download('stopwords')\n",
        "tr_stop_words = stopwords.words('turkish')\n",
        "en_stop_words = stopwords.words('english')\n",
        "stop_words = [*tr_stop_words, *en_stop_words]\n",
        "print(len(stop_words))\n",
        "\n",
        "def clean_text(text):\n",
        "    '''Make text lowercase, remove text in square brackets, remove punctuation and remove words containing numbers.'''\n",
        "    text = text.lower()\n",
        "    text = re.sub('<[^>]*>', '', text)\n",
        "    emoticons = re.findall('(?::|;|=)(?:-)?(?:\\)|\\(|D|P)',text.lower())\n",
        "    text = re.sub('[\\W]+', ' ', text.lower()) + ' '.join(emoticons).replace('-', '')\n",
        "    text = re.sub('\\w*\\d\\w*', '', text)\n",
        "    text = ' '.join([word for word in text.split() if word not in stop_words]) # removing stop words\n",
        "    return text\n",
        " "
      ],
      "execution_count": null,
      "outputs": [
        {
          "output_type": "stream",
          "text": [
            "[nltk_data] Downloading package stopwords to /root/nltk_data...\n",
            "[nltk_data]   Package stopwords is already up-to-date!\n",
            "232\n"
          ],
          "name": "stdout"
        }
      ]
    },
    {
      "cell_type": "code",
      "metadata": {
        "id": "Ay6TkaIvNA5M",
        "colab_type": "code",
        "colab": {
          "base_uri": "https://localhost:8080/",
          "height": 415
        },
        "outputId": "46e436a9-2c82-495c-d184-1d27c17c29b8"
      },
      "source": [
        "cv_job_evaluations_df['ResumeAll'] = cv_job_evaluations_df.ResumeAll.apply(clean_text)\n",
        "cv_job_evaluations_df['Ilan'] = cv_job_evaluations_df.Ilan.apply(clean_text)\n",
        "cv_job_evaluations_df"
      ],
      "execution_count": null,
      "outputs": [
        {
          "output_type": "execute_result",
          "data": {
            "text/html": [
              "<div>\n",
              "<style scoped>\n",
              "    .dataframe tbody tr th:only-of-type {\n",
              "        vertical-align: middle;\n",
              "    }\n",
              "\n",
              "    .dataframe tbody tr th {\n",
              "        vertical-align: top;\n",
              "    }\n",
              "\n",
              "    .dataframe thead th {\n",
              "        text-align: right;\n",
              "    }\n",
              "</style>\n",
              "<table border=\"1\" class=\"dataframe\">\n",
              "  <thead>\n",
              "    <tr style=\"text-align: right;\">\n",
              "      <th></th>\n",
              "      <th>JobId</th>\n",
              "      <th>CvId</th>\n",
              "      <th>ResumeAll</th>\n",
              "      <th>Ilan</th>\n",
              "      <th>Label</th>\n",
              "    </tr>\n",
              "  </thead>\n",
              "  <tbody>\n",
              "    <tr>\n",
              "      <th>0</th>\n",
              "      <td>490619</td>\n",
              "      <td>11702287</td>\n",
              "      <td>senesinde derindere turizm firması muhasebe bö...</td>\n",
              "      <td>yönetici asistanı tercihen üniversitelerin bür...</td>\n",
              "      <td>1</td>\n",
              "    </tr>\n",
              "    <tr>\n",
              "      <th>1</th>\n",
              "      <td>490619</td>\n",
              "      <td>100819267</td>\n",
              "      <td>genel müdür diğer birim müdürleri arasında koo...</td>\n",
              "      <td>yönetici asistanı tercihen üniversitelerin bür...</td>\n",
              "      <td>1</td>\n",
              "    </tr>\n",
              "    <tr>\n",
              "      <th>2</th>\n",
              "      <td>490619</td>\n",
              "      <td>105843622</td>\n",
              "      <td>office word excel power point windows vista xp...</td>\n",
              "      <td>yönetici asistanı tercihen üniversitelerin bür...</td>\n",
              "      <td>1</td>\n",
              "    </tr>\n",
              "    <tr>\n",
              "      <th>3</th>\n",
              "      <td>490619</td>\n",
              "      <td>106155661</td>\n",
              "      <td>ms office word excel power point tek bir bünye...</td>\n",
              "      <td>yönetici asistanı tercihen üniversitelerin bür...</td>\n",
              "      <td>1</td>\n",
              "    </tr>\n",
              "    <tr>\n",
              "      <th>4</th>\n",
              "      <td>490619</td>\n",
              "      <td>108241683</td>\n",
              "      <td>excel word mikro poldy muhasebe stajyeri excel...</td>\n",
              "      <td>yönetici asistanı tercihen üniversitelerin bür...</td>\n",
              "      <td>1</td>\n",
              "    </tr>\n",
              "    <tr>\n",
              "      <th>...</th>\n",
              "      <td>...</td>\n",
              "      <td>...</td>\n",
              "      <td>...</td>\n",
              "      <td>...</td>\n",
              "      <td>...</td>\n",
              "    </tr>\n",
              "    <tr>\n",
              "      <th>9550</th>\n",
              "      <td>2199387</td>\n",
              "      <td>5592918</td>\n",
              "      <td>alakart minbar servisi servisi kahvalti var po...</td>\n",
              "      <td>garson nbsp nbsp yıl otelcilik servis tecrübes...</td>\n",
              "      <td>0</td>\n",
              "    </tr>\n",
              "    <tr>\n",
              "      <th>9551</th>\n",
              "      <td>2199387</td>\n",
              "      <td>6450952</td>\n",
              "      <td>fine dining microsoft selamlar turizm anadolu ...</td>\n",
              "      <td>garson nbsp nbsp yıl otelcilik servis tecrübes...</td>\n",
              "      <td>0</td>\n",
              "    </tr>\n",
              "    <tr>\n",
              "      <th>9552</th>\n",
              "      <td>2199387</td>\n",
              "      <td>6459447</td>\n",
              "      <td>bal k restorant kişisell alacarte eservis balı...</td>\n",
              "      <td>garson nbsp nbsp yıl otelcilik servis tecrübes...</td>\n",
              "      <td>0</td>\n",
              "    </tr>\n",
              "    <tr>\n",
              "      <th>9553</th>\n",
              "      <td>2199387</td>\n",
              "      <td>6485644</td>\n",
              "      <td>word excel hizmet sektöründe turizm işletmeler...</td>\n",
              "      <td>garson nbsp nbsp yıl otelcilik servis tecrübes...</td>\n",
              "      <td>0</td>\n",
              "    </tr>\n",
              "    <tr>\n",
              "      <th>9554</th>\n",
              "      <td>2199387</td>\n",
              "      <td>6685769</td>\n",
              "      <td>perakende satış sektöründe yıl deneyimli bölüm...</td>\n",
              "      <td>garson nbsp nbsp yıl otelcilik servis tecrübes...</td>\n",
              "      <td>0</td>\n",
              "    </tr>\n",
              "  </tbody>\n",
              "</table>\n",
              "<p>9555 rows × 5 columns</p>\n",
              "</div>"
            ],
            "text/plain": [
              "        JobId  ...  Label\n",
              "0      490619  ...      1\n",
              "1      490619  ...      1\n",
              "2      490619  ...      1\n",
              "3      490619  ...      1\n",
              "4      490619  ...      1\n",
              "...       ...  ...    ...\n",
              "9550  2199387  ...      0\n",
              "9551  2199387  ...      0\n",
              "9552  2199387  ...      0\n",
              "9553  2199387  ...      0\n",
              "9554  2199387  ...      0\n",
              "\n",
              "[9555 rows x 5 columns]"
            ]
          },
          "metadata": {
            "tags": []
          },
          "execution_count": 27
        }
      ]
    },
    {
      "cell_type": "markdown",
      "metadata": {
        "id": "KisgufMQcjT6",
        "colab_type": "text"
      },
      "source": [
        "## Tokenization And Stemming"
      ]
    },
    {
      "cell_type": "code",
      "metadata": {
        "id": "g1jwQICrNA3Y",
        "colab_type": "code",
        "colab": {}
      },
      "source": [
        "# turkish stemmer object\n",
        "turkishStemmer = TurkishStemmer()\n",
        "\n",
        "# calculate and extract tokens\n",
        "def tokenizer(text):\n",
        "    tokenized = [w for w in text.split()]\n",
        "    return tokenized\n",
        "\n",
        "# stem and tokenize\n",
        "def stemmer_tokenizer(text):\n",
        "    return [turkishStemmer.stem(word) for word in text.split()]"
      ],
      "execution_count": null,
      "outputs": []
    },
    {
      "cell_type": "markdown",
      "metadata": {
        "id": "18fWQdsgcnq5",
        "colab_type": "text"
      },
      "source": [
        "## Count Vectorizer"
      ]
    },
    {
      "cell_type": "code",
      "metadata": {
        "id": "NC_LEB3SNA16",
        "colab_type": "code",
        "colab": {}
      },
      "source": [
        "def count_and_vectorize():\n",
        "  vectorizer = CountVectorizer(max_features=5000, tokenizer=stemmer_tokenizer, ngram_range=(1, 2))\n",
        "  return vectorizer"
      ],
      "execution_count": null,
      "outputs": []
    },
    {
      "cell_type": "code",
      "metadata": {
        "id": "PXFaXQRKUb4L",
        "colab_type": "code",
        "colab": {}
      },
      "source": [
        "documents = cv_job_evaluations_df.ResumeAll.append(cv_job_evaluations_df.Ilan)"
      ],
      "execution_count": null,
      "outputs": []
    },
    {
      "cell_type": "code",
      "metadata": {
        "id": "CikUaIp-MXYk",
        "colab_type": "code",
        "colab": {
          "base_uri": "https://localhost:8080/",
          "height": 193
        },
        "outputId": "eff3441a-e782-44ca-fffd-108b4fbcd9f4"
      },
      "source": [
        "vectorizer = count_and_vectorize()\n",
        "# vectorize:fit on Resumes and Ilans documents\n",
        "vectorizer.fit(documents)"
      ],
      "execution_count": null,
      "outputs": [
        {
          "output_type": "stream",
          "text": [
            "/usr/local/lib/python3.6/dist-packages/sklearn/feature_extraction/text.py:507: UserWarning: The parameter 'token_pattern' will not be used since 'tokenizer' is not None'\n",
            "  warnings.warn(\"The parameter 'token_pattern' will not be used\"\n"
          ],
          "name": "stderr"
        },
        {
          "output_type": "execute_result",
          "data": {
            "text/plain": [
              "CountVectorizer(analyzer='word', binary=False, decode_error='strict',\n",
              "                dtype=<class 'numpy.int64'>, encoding='utf-8', input='content',\n",
              "                lowercase=True, max_df=1.0, max_features=5000, min_df=1,\n",
              "                ngram_range=(1, 2), preprocessor=None, stop_words=None,\n",
              "                strip_accents=None, token_pattern='(?u)\\\\b\\\\w\\\\w+\\\\b',\n",
              "                tokenizer=<function stemmer_tokenizer at 0x7f945f5e0488>,\n",
              "                vocabulary=None)"
            ]
          },
          "metadata": {
            "tags": []
          },
          "execution_count": 31
        }
      ]
    },
    {
      "cell_type": "code",
      "metadata": {
        "id": "wBxRtO2nOOn1",
        "colab_type": "code",
        "colab": {}
      },
      "source": [
        "# transform resumes\n",
        "resmues_vectorized = vectorizer.transform(cv_job_evaluations_df.ResumeAll)"
      ],
      "execution_count": null,
      "outputs": []
    },
    {
      "cell_type": "code",
      "metadata": {
        "id": "sj3kpJEwOe7H",
        "colab_type": "code",
        "colab": {}
      },
      "source": [
        "# transform ilans (job ads)\n",
        "job_ads_vectorized = vectorizer.transform(cv_job_evaluations_df.Ilan)"
      ],
      "execution_count": null,
      "outputs": []
    },
    {
      "cell_type": "code",
      "metadata": {
        "id": "fOYdPwda2Grs",
        "colab_type": "code",
        "colab": {}
      },
      "source": [
        "print(vectorizer.vocabulary_)"
      ],
      "execution_count": null,
      "outputs": []
    },
    {
      "cell_type": "code",
      "metadata": {
        "id": "tImqCQgooRdS",
        "colab_type": "code",
        "colab": {
          "base_uri": "https://localhost:8080/",
          "height": 1000
        },
        "outputId": "3fb979e1-55fd-40db-f61c-36dbeda0e55c"
      },
      "source": [
        "# Random Forest Classifier for CountVects\n",
        "\n",
        "RANDOM_STATE=42\n",
        "CV=5\n",
        "\n",
        "X = np.concatenate([resmues_vectorized.toarray(), job_ads_vectorized.toarray()], axis=1)\n",
        "y = cv_job_evaluations_df.Label\n",
        "\n",
        "X_train, X_test, y_train, y_test = train_test_split(X, y, test_size=0.20, random_state=42)\n",
        "rfc = RandomForestClassifier(n_estimators=500, verbose=1, n_jobs=-1, criterion=\"entropy\", random_state=42)\n",
        "rfc.fit(X_train, y_train)\n",
        "accuracies = cross_val_score(rfc, X, y, scoring='accuracy', cv=CV)\n",
        "\n",
        "print('#' * 30)\n",
        "print(accuracies)\n",
        "print('#' * 30)\n",
        "predictions = rfc.predict(X_test)\n",
        "print(confusion_matrix(y_test, predictions))\n",
        "print(classification_report(y_test, predictions))\n",
        "print(accuracy_score(y_test, predictions))\n",
        "print('#' * 30)"
      ],
      "execution_count": null,
      "outputs": [
        {
          "output_type": "stream",
          "text": [
            "[Parallel(n_jobs=-1)]: Using backend ThreadingBackend with 4 concurrent workers.\n",
            "[Parallel(n_jobs=-1)]: Done  42 tasks      | elapsed:    3.4s\n",
            "[Parallel(n_jobs=-1)]: Done 192 tasks      | elapsed:   14.7s\n",
            "[Parallel(n_jobs=-1)]: Done 442 tasks      | elapsed:   33.2s\n",
            "[Parallel(n_jobs=-1)]: Done 500 out of 500 | elapsed:   37.4s finished\n",
            "[Parallel(n_jobs=-1)]: Using backend LokyBackend with 4 concurrent workers.\n",
            "[Parallel(n_jobs=-1)]: Done  42 tasks      | elapsed:   10.6s\n",
            "[Parallel(n_jobs=-1)]: Done 192 tasks      | elapsed:   41.3s\n",
            "[Parallel(n_jobs=-1)]: Done 442 tasks      | elapsed:  1.6min\n",
            "[Parallel(n_jobs=-1)]: Done 500 out of 500 | elapsed:  1.8min finished\n",
            "[Parallel(n_jobs=4)]: Using backend ThreadingBackend with 4 concurrent workers.\n",
            "[Parallel(n_jobs=4)]: Done  42 tasks      | elapsed:    0.0s\n",
            "[Parallel(n_jobs=4)]: Done 192 tasks      | elapsed:    0.1s\n",
            "[Parallel(n_jobs=4)]: Done 442 tasks      | elapsed:    0.3s\n",
            "[Parallel(n_jobs=4)]: Done 500 out of 500 | elapsed:    0.3s finished\n",
            "[Parallel(n_jobs=-1)]: Using backend LokyBackend with 4 concurrent workers.\n",
            "[Parallel(n_jobs=-1)]: Done  42 tasks      | elapsed:    9.0s\n",
            "[Parallel(n_jobs=-1)]: Done 192 tasks      | elapsed:   40.6s\n",
            "[Parallel(n_jobs=-1)]: Done 442 tasks      | elapsed:  1.6min\n",
            "[Parallel(n_jobs=-1)]: Done 500 out of 500 | elapsed:  1.7min finished\n",
            "[Parallel(n_jobs=4)]: Using backend ThreadingBackend with 4 concurrent workers.\n",
            "[Parallel(n_jobs=4)]: Done  42 tasks      | elapsed:    0.0s\n",
            "[Parallel(n_jobs=4)]: Done 192 tasks      | elapsed:    0.1s\n",
            "[Parallel(n_jobs=4)]: Done 442 tasks      | elapsed:    0.3s\n",
            "[Parallel(n_jobs=4)]: Done 500 out of 500 | elapsed:    0.3s finished\n",
            "[Parallel(n_jobs=-1)]: Using backend LokyBackend with 4 concurrent workers.\n",
            "[Parallel(n_jobs=-1)]: Done  42 tasks      | elapsed:    8.8s\n",
            "[Parallel(n_jobs=-1)]: Done 192 tasks      | elapsed:   39.6s\n",
            "[Parallel(n_jobs=-1)]: Done 442 tasks      | elapsed:  1.5min\n",
            "[Parallel(n_jobs=-1)]: Done 500 out of 500 | elapsed:  1.7min finished\n",
            "[Parallel(n_jobs=4)]: Using backend ThreadingBackend with 4 concurrent workers.\n",
            "[Parallel(n_jobs=4)]: Done  42 tasks      | elapsed:    0.0s\n",
            "[Parallel(n_jobs=4)]: Done 192 tasks      | elapsed:    0.1s\n",
            "[Parallel(n_jobs=4)]: Done 442 tasks      | elapsed:    0.3s\n",
            "[Parallel(n_jobs=4)]: Done 500 out of 500 | elapsed:    0.3s finished\n",
            "[Parallel(n_jobs=-1)]: Using backend LokyBackend with 4 concurrent workers.\n",
            "[Parallel(n_jobs=-1)]: Done  42 tasks      | elapsed:    8.8s\n",
            "[Parallel(n_jobs=-1)]: Done 192 tasks      | elapsed:   38.3s\n",
            "[Parallel(n_jobs=-1)]: Done 442 tasks      | elapsed:  1.5min\n",
            "[Parallel(n_jobs=-1)]: Done 500 out of 500 | elapsed:  1.7min finished\n",
            "[Parallel(n_jobs=4)]: Using backend ThreadingBackend with 4 concurrent workers.\n",
            "[Parallel(n_jobs=4)]: Done  42 tasks      | elapsed:    0.0s\n",
            "[Parallel(n_jobs=4)]: Done 192 tasks      | elapsed:    0.1s\n",
            "[Parallel(n_jobs=4)]: Done 442 tasks      | elapsed:    0.3s\n",
            "[Parallel(n_jobs=4)]: Done 500 out of 500 | elapsed:    0.3s finished\n",
            "[Parallel(n_jobs=-1)]: Using backend LokyBackend with 4 concurrent workers.\n",
            "[Parallel(n_jobs=-1)]: Done  42 tasks      | elapsed:    8.7s\n",
            "[Parallel(n_jobs=-1)]: Done 192 tasks      | elapsed:   39.3s\n",
            "[Parallel(n_jobs=-1)]: Done 442 tasks      | elapsed:  1.5min\n",
            "[Parallel(n_jobs=-1)]: Done 500 out of 500 | elapsed:  1.7min finished\n",
            "[Parallel(n_jobs=4)]: Using backend ThreadingBackend with 4 concurrent workers.\n",
            "[Parallel(n_jobs=4)]: Done  42 tasks      | elapsed:    0.0s\n",
            "[Parallel(n_jobs=4)]: Done 192 tasks      | elapsed:    0.1s\n",
            "[Parallel(n_jobs=4)]: Done 442 tasks      | elapsed:    0.3s\n",
            "[Parallel(n_jobs=4)]: Done 500 out of 500 | elapsed:    0.3s finished\n"
          ],
          "name": "stderr"
        },
        {
          "output_type": "stream",
          "text": [
            "##############################\n",
            "[0.75196232 0.7566719  0.76295133 0.75981162 0.73835688]\n",
            "##############################\n"
          ],
          "name": "stdout"
        },
        {
          "output_type": "stream",
          "text": [
            "[Parallel(n_jobs=4)]: Using backend ThreadingBackend with 4 concurrent workers.\n",
            "[Parallel(n_jobs=4)]: Done  42 tasks      | elapsed:    0.0s\n",
            "[Parallel(n_jobs=4)]: Done 192 tasks      | elapsed:    0.1s\n"
          ],
          "name": "stderr"
        },
        {
          "output_type": "stream",
          "text": [
            "[[952 168]\n",
            " [337 454]]\n",
            "              precision    recall  f1-score   support\n",
            "\n",
            "           0       0.74      0.85      0.79      1120\n",
            "           1       0.73      0.57      0.64       791\n",
            "\n",
            "    accuracy                           0.74      1911\n",
            "   macro avg       0.73      0.71      0.72      1911\n",
            "weighted avg       0.73      0.74      0.73      1911\n",
            "\n",
            "0.7357404500261643\n",
            "##############################\n"
          ],
          "name": "stdout"
        },
        {
          "output_type": "stream",
          "text": [
            "[Parallel(n_jobs=4)]: Done 442 tasks      | elapsed:    0.3s\n",
            "[Parallel(n_jobs=4)]: Done 500 out of 500 | elapsed:    0.3s finished\n"
          ],
          "name": "stderr"
        }
      ]
    },
    {
      "cell_type": "markdown",
      "metadata": {
        "id": "b1UMxpKGcuHm",
        "colab_type": "text"
      },
      "source": [
        "## Term-Frequency, Inverse-Document Frequency"
      ]
    },
    {
      "cell_type": "code",
      "metadata": {
        "id": "qSlkkRfgNA0j",
        "colab_type": "code",
        "colab": {}
      },
      "source": [
        "def tf_idf_vectorizer():\n",
        "  tf_idf_transformer = TfidfTransformer(smooth_idf=True, use_idf=True)\n",
        "  return tf_idf_transformer"
      ],
      "execution_count": null,
      "outputs": []
    },
    {
      "cell_type": "code",
      "metadata": {
        "colab_type": "code",
        "id": "SM6QORm501aW",
        "colab": {
          "base_uri": "https://localhost:8080/",
          "height": 35
        },
        "outputId": "34b486d1-d044-4998-dac9-c25790f1ab04"
      },
      "source": [
        "# tf_idf-vecs for resumes and job ads\n",
        "\n",
        "tf_idf_transformer = tf_idf_vectorizer()\n",
        "tf_idf_transformer.fit(X)"
      ],
      "execution_count": null,
      "outputs": [
        {
          "output_type": "execute_result",
          "data": {
            "text/plain": [
              "TfidfTransformer(norm='l2', smooth_idf=True, sublinear_tf=False, use_idf=True)"
            ]
          },
          "metadata": {
            "tags": []
          },
          "execution_count": 37
        }
      ]
    },
    {
      "cell_type": "code",
      "metadata": {
        "id": "Su0zSBbXUgY_",
        "colab_type": "code",
        "colab": {}
      },
      "source": [
        "X_transformed = tf_idf_transformer.transform(X)"
      ],
      "execution_count": null,
      "outputs": []
    },
    {
      "cell_type": "code",
      "metadata": {
        "id": "5dduAk2rVBnf",
        "colab_type": "code",
        "colab": {
          "base_uri": "https://localhost:8080/",
          "height": 139
        },
        "outputId": "685d15c5-887f-4db3-bf81-2ad309f9f5a4"
      },
      "source": [
        "X_transformed.toarray()"
      ],
      "execution_count": null,
      "outputs": [
        {
          "output_type": "execute_result",
          "data": {
            "text/plain": [
              "array([[0., 0., 0., ..., 0., 0., 0.],\n",
              "       [0., 0., 0., ..., 0., 0., 0.],\n",
              "       [0., 0., 0., ..., 0., 0., 0.],\n",
              "       ...,\n",
              "       [0., 0., 0., ..., 0., 0., 0.],\n",
              "       [0., 0., 0., ..., 0., 0., 0.],\n",
              "       [0., 0., 0., ..., 0., 0., 0.]])"
            ]
          },
          "metadata": {
            "tags": []
          },
          "execution_count": 42
        }
      ]
    },
    {
      "cell_type": "code",
      "metadata": {
        "id": "yu9-tRNhsiKp",
        "colab_type": "code",
        "colab": {
          "base_uri": "https://localhost:8080/",
          "height": 1000
        },
        "outputId": "a8782fb9-8628-4301-acd4-f4c25a28beea"
      },
      "source": [
        "# Random Forest Classifier for TF-IDF Vectors\n",
        "\n",
        "RANDOM_STATE=42\n",
        "CV=5\n",
        "\n",
        "y = cv_job_evaluations_df.Label\n",
        "\n",
        "X_train, X_test, y_train, y_test = train_test_split(X, y, test_size=0.20, random_state=42)\n",
        "rfc = RandomForestClassifier(n_estimators=500, verbose=1, n_jobs=-1, criterion=\"entropy\", random_state=42)\n",
        "rfc.fit(X_train, y_train)\n",
        "accuracies = cross_val_score(rfc, X, y, scoring='accuracy', cv=CV)\n",
        "\n",
        "print('#' * 30)\n",
        "print(accuracies)\n",
        "print('#' * 30)\n",
        "predictions = rfc.predict(X_test)\n",
        "print(confusion_matrix(y_test, predictions))\n",
        "print(classification_report(y_test,predictions))\n",
        "print(accuracy_score(y_test,predictions))\n",
        "print('#' * 30)"
      ],
      "execution_count": null,
      "outputs": [
        {
          "output_type": "stream",
          "text": [
            "[Parallel(n_jobs=-1)]: Using backend ThreadingBackend with 4 concurrent workers.\n",
            "[Parallel(n_jobs=-1)]: Done  42 tasks      | elapsed:    9.3s\n",
            "[Parallel(n_jobs=-1)]: Done 192 tasks      | elapsed:   39.9s\n",
            "[Parallel(n_jobs=-1)]: Done 442 tasks      | elapsed:  1.5min\n",
            "[Parallel(n_jobs=-1)]: Done 500 out of 500 | elapsed:  1.7min finished\n",
            "[Parallel(n_jobs=-1)]: Using backend LokyBackend with 4 concurrent workers.\n",
            "[Parallel(n_jobs=-1)]: Done  42 tasks      | elapsed:    9.3s\n",
            "[Parallel(n_jobs=-1)]: Done 192 tasks      | elapsed:   39.7s\n",
            "[Parallel(n_jobs=-1)]: Done 442 tasks      | elapsed:  1.5min\n",
            "[Parallel(n_jobs=-1)]: Done 500 out of 500 | elapsed:  1.7min finished\n",
            "[Parallel(n_jobs=4)]: Using backend ThreadingBackend with 4 concurrent workers.\n",
            "[Parallel(n_jobs=4)]: Done  42 tasks      | elapsed:    0.0s\n",
            "[Parallel(n_jobs=4)]: Done 192 tasks      | elapsed:    0.1s\n",
            "[Parallel(n_jobs=4)]: Done 442 tasks      | elapsed:    0.3s\n",
            "[Parallel(n_jobs=4)]: Done 500 out of 500 | elapsed:    0.3s finished\n",
            "[Parallel(n_jobs=-1)]: Using backend LokyBackend with 4 concurrent workers.\n",
            "[Parallel(n_jobs=-1)]: Done  42 tasks      | elapsed:    9.0s\n",
            "[Parallel(n_jobs=-1)]: Done 192 tasks      | elapsed:   40.6s\n",
            "[Parallel(n_jobs=-1)]: Done 442 tasks      | elapsed:  1.5min\n",
            "[Parallel(n_jobs=-1)]: Done 500 out of 500 | elapsed:  1.7min finished\n",
            "[Parallel(n_jobs=4)]: Using backend ThreadingBackend with 4 concurrent workers.\n",
            "[Parallel(n_jobs=4)]: Done  42 tasks      | elapsed:    0.0s\n",
            "[Parallel(n_jobs=4)]: Done 192 tasks      | elapsed:    0.1s\n",
            "[Parallel(n_jobs=4)]: Done 442 tasks      | elapsed:    0.3s\n",
            "[Parallel(n_jobs=4)]: Done 500 out of 500 | elapsed:    0.3s finished\n",
            "[Parallel(n_jobs=-1)]: Using backend LokyBackend with 4 concurrent workers.\n",
            "[Parallel(n_jobs=-1)]: Done  42 tasks      | elapsed:    8.8s\n",
            "[Parallel(n_jobs=-1)]: Done 192 tasks      | elapsed:   40.9s\n",
            "[Parallel(n_jobs=-1)]: Done 442 tasks      | elapsed:  1.5min\n",
            "[Parallel(n_jobs=-1)]: Done 500 out of 500 | elapsed:  1.7min finished\n",
            "[Parallel(n_jobs=4)]: Using backend ThreadingBackend with 4 concurrent workers.\n",
            "[Parallel(n_jobs=4)]: Done  42 tasks      | elapsed:    0.0s\n",
            "[Parallel(n_jobs=4)]: Done 192 tasks      | elapsed:    0.1s\n",
            "[Parallel(n_jobs=4)]: Done 442 tasks      | elapsed:    0.3s\n",
            "[Parallel(n_jobs=4)]: Done 500 out of 500 | elapsed:    0.3s finished\n",
            "[Parallel(n_jobs=-1)]: Using backend LokyBackend with 4 concurrent workers.\n",
            "[Parallel(n_jobs=-1)]: Done  42 tasks      | elapsed:    8.9s\n",
            "[Parallel(n_jobs=-1)]: Done 192 tasks      | elapsed:   39.1s\n",
            "[Parallel(n_jobs=-1)]: Done 442 tasks      | elapsed:  1.5min\n",
            "[Parallel(n_jobs=-1)]: Done 500 out of 500 | elapsed:  1.7min finished\n",
            "[Parallel(n_jobs=4)]: Using backend ThreadingBackend with 4 concurrent workers.\n",
            "[Parallel(n_jobs=4)]: Done  42 tasks      | elapsed:    0.0s\n",
            "[Parallel(n_jobs=4)]: Done 192 tasks      | elapsed:    0.1s\n",
            "[Parallel(n_jobs=4)]: Done 442 tasks      | elapsed:    0.3s\n",
            "[Parallel(n_jobs=4)]: Done 500 out of 500 | elapsed:    0.3s finished\n",
            "[Parallel(n_jobs=-1)]: Using backend LokyBackend with 4 concurrent workers.\n",
            "[Parallel(n_jobs=-1)]: Done  42 tasks      | elapsed:    8.6s\n",
            "[Parallel(n_jobs=-1)]: Done 192 tasks      | elapsed:   38.6s\n",
            "[Parallel(n_jobs=-1)]: Done 442 tasks      | elapsed:  1.5min\n",
            "[Parallel(n_jobs=-1)]: Done 500 out of 500 | elapsed:  1.6min finished\n",
            "[Parallel(n_jobs=4)]: Using backend ThreadingBackend with 4 concurrent workers.\n",
            "[Parallel(n_jobs=4)]: Done  42 tasks      | elapsed:    0.0s\n",
            "[Parallel(n_jobs=4)]: Done 192 tasks      | elapsed:    0.1s\n",
            "[Parallel(n_jobs=4)]: Done 442 tasks      | elapsed:    0.3s\n",
            "[Parallel(n_jobs=4)]: Done 500 out of 500 | elapsed:    0.3s finished\n"
          ],
          "name": "stderr"
        },
        {
          "output_type": "stream",
          "text": [
            "##############################\n",
            "[0.75196232 0.7566719  0.76295133 0.75981162 0.73835688]\n",
            "##############################\n"
          ],
          "name": "stdout"
        },
        {
          "output_type": "stream",
          "text": [
            "[Parallel(n_jobs=4)]: Using backend ThreadingBackend with 4 concurrent workers.\n",
            "[Parallel(n_jobs=4)]: Done  42 tasks      | elapsed:    0.0s\n",
            "[Parallel(n_jobs=4)]: Done 192 tasks      | elapsed:    0.1s\n"
          ],
          "name": "stderr"
        },
        {
          "output_type": "stream",
          "text": [
            "[[952 168]\n",
            " [337 454]]\n",
            "              precision    recall  f1-score   support\n",
            "\n",
            "           0       0.74      0.85      0.79      1120\n",
            "           1       0.73      0.57      0.64       791\n",
            "\n",
            "    accuracy                           0.74      1911\n",
            "   macro avg       0.73      0.71      0.72      1911\n",
            "weighted avg       0.73      0.74      0.73      1911\n",
            "\n",
            "0.7357404500261643\n",
            "##############################\n"
          ],
          "name": "stdout"
        },
        {
          "output_type": "stream",
          "text": [
            "[Parallel(n_jobs=4)]: Done 442 tasks      | elapsed:    0.3s\n",
            "[Parallel(n_jobs=4)]: Done 500 out of 500 | elapsed:    0.3s finished\n"
          ],
          "name": "stderr"
        }
      ]
    },
    {
      "cell_type": "markdown",
      "metadata": {
        "id": "5yTn22DkceZI",
        "colab_type": "text"
      },
      "source": [
        "# Resources\n",
        "\n",
        "\n",
        "1.   https://machinelearningmastery.com/prepare-text-data-machine-learning-scikit-learn/\n",
        "2.   https://kavita-ganesan.com/tfidftransformer-tfidfvectorizer-usage-differences/#.XyMvm5YzY2w\n",
        "\n",
        "3. Scikit-Learn's official website\n",
        "\n"
      ]
    }
  ]
}