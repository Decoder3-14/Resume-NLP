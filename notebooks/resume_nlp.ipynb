{
  "nbformat": 4,
  "nbformat_minor": 0,
  "metadata": {
    "colab": {
      "name": "assignment2.ipynb",
      "provenance": [],
      "collapsed_sections": [],
      "machine_shape": "hm"
    },
    "kernelspec": {
      "name": "python3",
      "display_name": "Python 3"
    }
  },
  "cells": [
    {
      "cell_type": "markdown",
      "metadata": {
        "id": "fY__v_nxYtzr",
        "colab_type": "text"
      },
      "source": [
        ""
      ]
    },
    {
      "cell_type": "code",
      "metadata": {
        "id": "mgtukeIMIMTG",
        "colab_type": "code",
        "colab": {
          "base_uri": "https://localhost:8080/",
          "height": 35
        },
        "outputId": "3d5f9a8b-c7b5-4ad6-acf2-dbb7b0fba74b"
      },
      "source": [
        "pip install TurkishStemmer"
      ],
      "execution_count": 3,
      "outputs": [
        {
          "output_type": "stream",
          "text": [
            "Requirement already satisfied: TurkishStemmer in /usr/local/lib/python3.6/dist-packages (1.3)\n"
          ],
          "name": "stdout"
        }
      ]
    },
    {
      "cell_type": "code",
      "metadata": {
        "id": "SWMh2m86g4zL",
        "colab_type": "code",
        "colab": {}
      },
      "source": [
        "import pandas as pd\n",
        "import numpy as np\n",
        "\n",
        "from matplotlib import pyplot as plt\n",
        "import seaborn as sns\n",
        "\n",
        "# functions for data cleaning techniques\n",
        "import re\n",
        "import string\n",
        "\n",
        "# importing packages and downloading stop words\n",
        "from nltk.corpus import stopwords\n",
        "import nltk\n",
        "\n",
        "from TurkishStemmer import TurkishStemmer\n",
        "\n",
        "import pprint\n",
        "from sklearn.ensemble import RandomForestClassifier\n",
        "from sklearn.model_selection import GridSearchCV, StratifiedKFold, cross_val_score, cross_val_predict, cross_validate, train_test_split\n",
        "from sklearn.model_selection import cross_val_score, cross_val_predict\n",
        "from sklearn.pipeline import Pipeline\n",
        "from sklearn.metrics import accuracy_score\n",
        "from sklearn.metrics import confusion_matrix, classification_report, accuracy_score\n",
        "from pprint import pprint\n",
        "import sklearn\n",
        "\n",
        "\n",
        "# calculating countvectorizer\n",
        "from sklearn.feature_extraction.text import CountVectorizer\n",
        "\n",
        "# calculating tfidf\n",
        "from sklearn.feature_extraction.text import TfidfTransformer\n"
      ],
      "execution_count": 35,
      "outputs": []
    },
    {
      "cell_type": "code",
      "metadata": {
        "id": "uELPx-xShTXT",
        "colab_type": "code",
        "colab": {}
      },
      "source": [
        "cv_list_df = pd.read_excel('cv_list.xlsx')\n",
        "job_ad_contents_df = pd.read_excel('job_ad_contents.xlsx')\n",
        "job_ad_cv_evaluations_df = pd.read_excel('job_ad_cv_evaluation_results_simplified.xlsx')"
      ],
      "execution_count": 17,
      "outputs": []
    },
    {
      "cell_type": "code",
      "metadata": {
        "id": "8cKwBNopOSK-",
        "colab_type": "code",
        "colab": {}
      },
      "source": [
        "# dropping nan/s && removing the annoying '  nan'\n",
        "cv_list_df = cv_list_df.dropna(subset=['ResumeAll'])\n",
        "job_ad_contents_df = job_ad_contents_df.dropna(subset=['Ilan'])\n",
        "job_ad_cv_evaluations_df = job_ad_cv_evaluations_df.dropna()\n",
        "cv_list_df = cv_list_df[cv_list_df.ResumeAll != '   nan']"
      ],
      "execution_count": 18,
      "outputs": []
    },
    {
      "cell_type": "code",
      "metadata": {
        "id": "0OynZc-PJNYk",
        "colab_type": "code",
        "colab": {
          "base_uri": "https://localhost:8080/",
          "height": 546
        },
        "outputId": "2e8937d7-ca7e-4ceb-cfbd-a1e1f8a12f5f"
      },
      "source": [
        "cv_list_df.head(10)"
      ],
      "execution_count": 19,
      "outputs": [
        {
          "output_type": "execute_result",
          "data": {
            "text/html": [
              "<div>\n",
              "<style scoped>\n",
              "    .dataframe tbody tr th:only-of-type {\n",
              "        vertical-align: middle;\n",
              "    }\n",
              "\n",
              "    .dataframe tbody tr th {\n",
              "        vertical-align: top;\n",
              "    }\n",
              "\n",
              "    .dataframe thead th {\n",
              "        text-align: right;\n",
              "    }\n",
              "</style>\n",
              "<table border=\"1\" class=\"dataframe\">\n",
              "  <thead>\n",
              "    <tr style=\"text-align: right;\">\n",
              "      <th></th>\n",
              "      <th>Unnamed: 0</th>\n",
              "      <th>RefNumber</th>\n",
              "      <th>Resume</th>\n",
              "      <th>Yetenekler</th>\n",
              "      <th>ResumeAll</th>\n",
              "    </tr>\n",
              "  </thead>\n",
              "  <tbody>\n",
              "    <tr>\n",
              "      <th>0</th>\n",
              "      <td>0</td>\n",
              "      <td>473</td>\n",
              "      <td>- Mapco ve TurkcellGroup bünyesindeki şirketle...</td>\n",
              "      <td>Ms Access,MS SQL Server,Mysql,Progress,AppleTa...</td>\n",
              "      <td>- Mapco ve TurkcellGroup bünyesindeki şirketle...</td>\n",
              "    </tr>\n",
              "    <tr>\n",
              "      <th>1</th>\n",
              "      <td>1</td>\n",
              "      <td>900</td>\n",
              "      <td>&lt;p&gt;Aile şirketimizde ve inşaat sektöründe paza...</td>\n",
              "      <td>NaN</td>\n",
              "      <td>&lt;p&gt;Aile şirketimizde ve inşaat sektöründe paza...</td>\n",
              "    </tr>\n",
              "    <tr>\n",
              "      <th>2</th>\n",
              "      <td>2</td>\n",
              "      <td>1323</td>\n",
              "      <td>Bilgi İşlem Yöneticisi.&amp;nbsp;Moda Tekstil, Rot...</td>\n",
              "      <td>Windows Server 2008,Cobol,Autodesk,Sqlite Veri...</td>\n",
              "      <td>Bilgi İşlem Yöneticisi.&amp;nbsp;Moda Tekstil, Rot...</td>\n",
              "    </tr>\n",
              "    <tr>\n",
              "      <th>3</th>\n",
              "      <td>3</td>\n",
              "      <td>3748</td>\n",
              "      <td>- Setting up departments in the production fac...</td>\n",
              "      <td>NaN</td>\n",
              "      <td>- Setting up departments in the production fac...</td>\n",
              "    </tr>\n",
              "    <tr>\n",
              "      <th>4</th>\n",
              "      <td>4</td>\n",
              "      <td>6363</td>\n",
              "      <td>&lt;p&gt;İç Satın alma faaliyetlerinden sorumlu Satı...</td>\n",
              "      <td>SAP,Bilgisayar Ofis Programları,Trekking,Ms Of...</td>\n",
              "      <td>&lt;p&gt;İç Satın alma faaliyetlerinden sorumlu Satı...</td>\n",
              "    </tr>\n",
              "    <tr>\n",
              "      <th>5</th>\n",
              "      <td>5</td>\n",
              "      <td>6887</td>\n",
              "      <td>• Windows 98,Windows 2000 Professional, Windo...</td>\n",
              "      <td>C,Visual Basic,Pascal,Fiber Optics,Kaynak Bilg...</td>\n",
              "      <td>• Windows 98,Windows 2000 Professional, Windo...</td>\n",
              "    </tr>\n",
              "    <tr>\n",
              "      <th>6</th>\n",
              "      <td>6</td>\n",
              "      <td>7282</td>\n",
              "      <td>&lt;div&gt;Birkaç şirketten oluşmuş tüm şirketin IT ...</td>\n",
              "      <td>Firebird,Mysql,Freebsd,C, C++, C# Visual , Jav...</td>\n",
              "      <td>&lt;div&gt;Birkaç şirketten oluşmuş tüm şirketin IT ...</td>\n",
              "    </tr>\n",
              "    <tr>\n",
              "      <th>7</th>\n",
              "      <td>7</td>\n",
              "      <td>8096</td>\n",
              "      <td>&lt;p&gt;•\\tHP  ürün pörtföyünde’ki sunucu ve storag...</td>\n",
              "      <td>Analytics,Thinclient,Microsoft Visual Studio,D...</td>\n",
              "      <td>&lt;p&gt;•\\tHP  ürün pörtföyünde’ki sunucu ve storag...</td>\n",
              "    </tr>\n",
              "    <tr>\n",
              "      <th>8</th>\n",
              "      <td>8</td>\n",
              "      <td>8735</td>\n",
              "      <td>MS Office (Excel, Word, Access, Power Point),...</td>\n",
              "      <td>NaN</td>\n",
              "      <td>MS Office (Excel, Word, Access, Power Point),...</td>\n",
              "    </tr>\n",
              "    <tr>\n",
              "      <th>9</th>\n",
              "      <td>9</td>\n",
              "      <td>8920</td>\n",
              "      <td>*Tamamen ithalat, satış dağıtım yapılan şirket...</td>\n",
              "      <td>ISO 9001,ISO 9001:2000,SAP,SAP/MM,Erp Lojistik...</td>\n",
              "      <td>*Tamamen ithalat, satış dağıtım yapılan şirket...</td>\n",
              "    </tr>\n",
              "  </tbody>\n",
              "</table>\n",
              "</div>"
            ],
            "text/plain": [
              "   Unnamed: 0  ...                                          ResumeAll\n",
              "0           0  ...  - Mapco ve TurkcellGroup bünyesindeki şirketle...\n",
              "1           1  ...  <p>Aile şirketimizde ve inşaat sektöründe paza...\n",
              "2           2  ...  Bilgi İşlem Yöneticisi.&nbsp;Moda Tekstil, Rot...\n",
              "3           3  ...  - Setting up departments in the production fac...\n",
              "4           4  ...  <p>İç Satın alma faaliyetlerinden sorumlu Satı...\n",
              "5           5  ...   • Windows 98,Windows 2000 Professional, Windo...\n",
              "6           6  ...  <div>Birkaç şirketten oluşmuş tüm şirketin IT ...\n",
              "7           7  ...  <p>•\\tHP  ürün pörtföyünde’ki sunucu ve storag...\n",
              "8           8  ...   MS Office (Excel, Word, Access, Power Point),...\n",
              "9           9  ...  *Tamamen ithalat, satış dağıtım yapılan şirket...\n",
              "\n",
              "[10 rows x 5 columns]"
            ]
          },
          "metadata": {
            "tags": []
          },
          "execution_count": 19
        }
      ]
    },
    {
      "cell_type": "code",
      "metadata": {
        "id": "YBijGiSoJQaT",
        "colab_type": "code",
        "colab": {
          "base_uri": "https://localhost:8080/",
          "height": 355
        },
        "outputId": "720ea806-a84e-4068-e385-1e76055b796d"
      },
      "source": [
        "job_ad_contents_df.head(10)"
      ],
      "execution_count": 21,
      "outputs": [
        {
          "output_type": "execute_result",
          "data": {
            "text/html": [
              "<div>\n",
              "<style scoped>\n",
              "    .dataframe tbody tr th:only-of-type {\n",
              "        vertical-align: middle;\n",
              "    }\n",
              "\n",
              "    .dataframe tbody tr th {\n",
              "        vertical-align: top;\n",
              "    }\n",
              "\n",
              "    .dataframe thead th {\n",
              "        text-align: right;\n",
              "    }\n",
              "</style>\n",
              "<table border=\"1\" class=\"dataframe\">\n",
              "  <thead>\n",
              "    <tr style=\"text-align: right;\">\n",
              "      <th></th>\n",
              "      <th>Unnamed: 0</th>\n",
              "      <th>JobId</th>\n",
              "      <th>Ilan</th>\n",
              "    </tr>\n",
              "  </thead>\n",
              "  <tbody>\n",
              "    <tr>\n",
              "      <th>0</th>\n",
              "      <td>0</td>\n",
              "      <td>1870838</td>\n",
              "      <td>Makam Şoförü \\r\\n&lt;ul&gt;\\r\\n&lt;li&gt;En az 5 yıl Makam...</td>\n",
              "    </tr>\n",
              "    <tr>\n",
              "      <th>1</th>\n",
              "      <td>1</td>\n",
              "      <td>1676048</td>\n",
              "      <td>Şoför / Sürücü Avrupa Bölge Müdürlüğü'ne bağlı...</td>\n",
              "    </tr>\n",
              "    <tr>\n",
              "      <th>2</th>\n",
              "      <td>2</td>\n",
              "      <td>2141993</td>\n",
              "      <td>Şoför / Sürücü Sitil Çizgi Şirketler Grubu bün...</td>\n",
              "    </tr>\n",
              "    <tr>\n",
              "      <th>3</th>\n",
              "      <td>3</td>\n",
              "      <td>2175311</td>\n",
              "      <td>Şoför / Sürücü &lt;strong&gt;Alfred Concierge Hizmet...</td>\n",
              "    </tr>\n",
              "    <tr>\n",
              "      <th>4</th>\n",
              "      <td>4</td>\n",
              "      <td>2193892</td>\n",
              "      <td>Şoför / Sürücü &lt;ul&gt;&lt;li&gt;&lt;span&gt;&lt;span&gt;Yoğun iş te...</td>\n",
              "    </tr>\n",
              "    <tr>\n",
              "      <th>5</th>\n",
              "      <td>5</td>\n",
              "      <td>2089326</td>\n",
              "      <td>Aşçı &lt;p&gt;&lt;strong&gt;&amp;nbsp; &amp;nbsp; &amp;nbsp; AŞÇILIK E...</td>\n",
              "    </tr>\n",
              "    <tr>\n",
              "      <th>6</th>\n",
              "      <td>6</td>\n",
              "      <td>2189034</td>\n",
              "      <td>Aşçı Yardımcısı &lt;h3&gt;GENEL NİTELİKLER&lt;/h3&gt;The H...</td>\n",
              "    </tr>\n",
              "    <tr>\n",
              "      <th>7</th>\n",
              "      <td>7</td>\n",
              "      <td>2005298</td>\n",
              "      <td>Akaryakıt İstasyonu Servis Elemanı Kadınların ...</td>\n",
              "    </tr>\n",
              "    <tr>\n",
              "      <th>8</th>\n",
              "      <td>8</td>\n",
              "      <td>2187147</td>\n",
              "      <td>Aktif Satış Yöneticisi / Yönetmeni \\r\\n&lt;p&gt;&lt;str...</td>\n",
              "    </tr>\n",
              "    <tr>\n",
              "      <th>9</th>\n",
              "      <td>9</td>\n",
              "      <td>2151619</td>\n",
              "      <td>Aktif Satış Temsilcisi &lt;blockquote type=\"cite\"...</td>\n",
              "    </tr>\n",
              "  </tbody>\n",
              "</table>\n",
              "</div>"
            ],
            "text/plain": [
              "   Unnamed: 0    JobId                                               Ilan\n",
              "0           0  1870838  Makam Şoförü \\r\\n<ul>\\r\\n<li>En az 5 yıl Makam...\n",
              "1           1  1676048  Şoför / Sürücü Avrupa Bölge Müdürlüğü'ne bağlı...\n",
              "2           2  2141993  Şoför / Sürücü Sitil Çizgi Şirketler Grubu bün...\n",
              "3           3  2175311  Şoför / Sürücü <strong>Alfred Concierge Hizmet...\n",
              "4           4  2193892  Şoför / Sürücü <ul><li><span><span>Yoğun iş te...\n",
              "5           5  2089326  Aşçı <p><strong>&nbsp; &nbsp; &nbsp; AŞÇILIK E...\n",
              "6           6  2189034  Aşçı Yardımcısı <h3>GENEL NİTELİKLER</h3>The H...\n",
              "7           7  2005298  Akaryakıt İstasyonu Servis Elemanı Kadınların ...\n",
              "8           8  2187147  Aktif Satış Yöneticisi / Yönetmeni \\r\\n<p><str...\n",
              "9           9  2151619  Aktif Satış Temsilcisi <blockquote type=\"cite\"..."
            ]
          },
          "metadata": {
            "tags": []
          },
          "execution_count": 21
        }
      ]
    },
    {
      "cell_type": "code",
      "metadata": {
        "id": "TqPdl6fRM_Sr",
        "colab_type": "code",
        "colab": {
          "base_uri": "https://localhost:8080/",
          "height": 415
        },
        "outputId": "84a96269-73c0-43a2-e08b-851aa4270540"
      },
      "source": [
        "cv_job_evaluations_df = job_ad_cv_evaluations_df \\\n",
        "                                                .merge(cv_list_df, left_on='CvId', right_on='RefNumber', how='inner') \\\n",
        "                                                .merge(job_ad_contents_df, left_on='JobId', right_on='JobId', how='inner')\n",
        "\n",
        "cv_job_evaluations_df = cv_job_evaluations_df[['JobId', 'CvId', 'ResumeAll', 'Ilan', 'Label']]\n",
        "cv_job_evaluations_df"
      ],
      "execution_count": 23,
      "outputs": [
        {
          "output_type": "execute_result",
          "data": {
            "text/html": [
              "<div>\n",
              "<style scoped>\n",
              "    .dataframe tbody tr th:only-of-type {\n",
              "        vertical-align: middle;\n",
              "    }\n",
              "\n",
              "    .dataframe tbody tr th {\n",
              "        vertical-align: top;\n",
              "    }\n",
              "\n",
              "    .dataframe thead th {\n",
              "        text-align: right;\n",
              "    }\n",
              "</style>\n",
              "<table border=\"1\" class=\"dataframe\">\n",
              "  <thead>\n",
              "    <tr style=\"text-align: right;\">\n",
              "      <th></th>\n",
              "      <th>JobId</th>\n",
              "      <th>CvId</th>\n",
              "      <th>ResumeAll</th>\n",
              "      <th>Ilan</th>\n",
              "      <th>Label</th>\n",
              "    </tr>\n",
              "  </thead>\n",
              "  <tbody>\n",
              "    <tr>\n",
              "      <th>0</th>\n",
              "      <td>490619</td>\n",
              "      <td>11702287</td>\n",
              "      <td>2009 senesinde Derindere Turizm firması muhase...</td>\n",
              "      <td>Yönetici Asistanı \\r\\n&lt;p&gt;Tercihen Üniversitele...</td>\n",
              "      <td>1</td>\n",
              "    </tr>\n",
              "    <tr>\n",
              "      <th>1</th>\n",
              "      <td>490619</td>\n",
              "      <td>100819267</td>\n",
              "      <td>Genel müdür ile diğer birim müdürleri arasında...</td>\n",
              "      <td>Yönetici Asistanı \\r\\n&lt;p&gt;Tercihen Üniversitele...</td>\n",
              "      <td>1</td>\n",
              "    </tr>\n",
              "    <tr>\n",
              "      <th>2</th>\n",
              "      <td>490619</td>\n",
              "      <td>105843622</td>\n",
              "      <td>M.S Office ( Word, Excel, Power Point, ) Wind...</td>\n",
              "      <td>Yönetici Asistanı \\r\\n&lt;p&gt;Tercihen Üniversitele...</td>\n",
              "      <td>1</td>\n",
              "    </tr>\n",
              "    <tr>\n",
              "      <th>3</th>\n",
              "      <td>490619</td>\n",
              "      <td>106155661</td>\n",
              "      <td>MS Office ( Word, Excel ,Power Point ) ,&lt;p&gt;Te...</td>\n",
              "      <td>Yönetici Asistanı \\r\\n&lt;p&gt;Tercihen Üniversitele...</td>\n",
              "      <td>1</td>\n",
              "    </tr>\n",
              "    <tr>\n",
              "      <th>4</th>\n",
              "      <td>490619</td>\n",
              "      <td>108241683</td>\n",
              "      <td>Excel,Word,Mikro,POLDY... ,&lt;p dir=\"ltr\"&gt;muhas...</td>\n",
              "      <td>Yönetici Asistanı \\r\\n&lt;p&gt;Tercihen Üniversitele...</td>\n",
              "      <td>1</td>\n",
              "    </tr>\n",
              "    <tr>\n",
              "      <th>...</th>\n",
              "      <td>...</td>\n",
              "      <td>...</td>\n",
              "      <td>...</td>\n",
              "      <td>...</td>\n",
              "      <td>...</td>\n",
              "    </tr>\n",
              "    <tr>\n",
              "      <th>9550</th>\n",
              "      <td>2199387</td>\n",
              "      <td>5592918</td>\n",
              "      <td>alakart minbar servisi o da servisi kahvalti v...</td>\n",
              "      <td>Garson \\r\\n&lt;ul&gt;\\r\\n&lt;li&gt;&lt;span&gt;&lt;span&gt;&lt;span&gt;&amp;nbsp...</td>\n",
              "      <td>0</td>\n",
              "    </tr>\n",
              "    <tr>\n",
              "      <th>9551</th>\n",
              "      <td>2199387</td>\n",
              "      <td>6450952</td>\n",
              "      <td>&lt;br&gt;&lt;p&gt;Fine dining&lt;/p&gt; Microsoft Selamlar, tur...</td>\n",
              "      <td>Garson \\r\\n&lt;ul&gt;\\r\\n&lt;li&gt;&lt;span&gt;&lt;span&gt;&lt;span&gt;&amp;nbsp...</td>\n",
              "      <td>0</td>\n",
              "    </tr>\n",
              "    <tr>\n",
              "      <th>9552</th>\n",
              "      <td>2199387</td>\n",
              "      <td>6459447</td>\n",
              "      <td>&lt;p dir=\"ltr\"&gt;Bal&amp;#305;k Restorant&lt;/p&gt;\\n Kişise...</td>\n",
              "      <td>Garson \\r\\n&lt;ul&gt;\\r\\n&lt;li&gt;&lt;span&gt;&lt;span&gt;&lt;span&gt;&amp;nbsp...</td>\n",
              "      <td>0</td>\n",
              "    </tr>\n",
              "    <tr>\n",
              "      <th>9553</th>\n",
              "      <td>2199387</td>\n",
              "      <td>6485644</td>\n",
              "      <td>WORD,EXCEL Hizmet sektöründe, turizm işletmel...</td>\n",
              "      <td>Garson \\r\\n&lt;ul&gt;\\r\\n&lt;li&gt;&lt;span&gt;&lt;span&gt;&lt;span&gt;&amp;nbsp...</td>\n",
              "      <td>0</td>\n",
              "    </tr>\n",
              "    <tr>\n",
              "      <th>9554</th>\n",
              "      <td>2199387</td>\n",
              "      <td>6685769</td>\n",
              "      <td>Perakende satış sektöründe 13 yıl deneyimli bö...</td>\n",
              "      <td>Garson \\r\\n&lt;ul&gt;\\r\\n&lt;li&gt;&lt;span&gt;&lt;span&gt;&lt;span&gt;&amp;nbsp...</td>\n",
              "      <td>0</td>\n",
              "    </tr>\n",
              "  </tbody>\n",
              "</table>\n",
              "<p>9555 rows × 5 columns</p>\n",
              "</div>"
            ],
            "text/plain": [
              "        JobId  ...  Label\n",
              "0      490619  ...      1\n",
              "1      490619  ...      1\n",
              "2      490619  ...      1\n",
              "3      490619  ...      1\n",
              "4      490619  ...      1\n",
              "...       ...  ...    ...\n",
              "9550  2199387  ...      0\n",
              "9551  2199387  ...      0\n",
              "9552  2199387  ...      0\n",
              "9553  2199387  ...      0\n",
              "9554  2199387  ...      0\n",
              "\n",
              "[9555 rows x 5 columns]"
            ]
          },
          "metadata": {
            "tags": []
          },
          "execution_count": 23
        }
      ]
    },
    {
      "cell_type": "code",
      "metadata": {
        "id": "QfLmS6F0NAdf",
        "colab_type": "code",
        "colab": {
          "base_uri": "https://localhost:8080/",
          "height": 390
        },
        "outputId": "e23ef91f-2b1c-4ac7-b63d-73371bae0c76"
      },
      "source": [
        "x = [\"Rejected\" , \"Accepted\"]\n",
        "possible_outcomes = [0, 1]\n",
        "y =  [np.sum(cv_job_evaluations_df.Label == label) for label in possible_outcomes]\n",
        "\n",
        "plt.figure(figsize=(10, 6))\n",
        "plt.title (\"Plot representing rejected and accepted job applications\")\n",
        "sns.barplot(x, y)\n",
        "plt.show()"
      ],
      "execution_count": 24,
      "outputs": [
        {
          "output_type": "display_data",
          "data": {
            "image/png": "[encoded data removed]",
            "text/plain": [
              "<Figure size 720x432 with 1 Axes>"
            ]
          },
          "metadata": {
            "tags": [],
            "needs_background": "light"
          }
        }
      ]
    },
    {
      "cell_type": "code",
      "metadata": {
        "id": "RRjGAg-SNA7g",
        "colab_type": "code",
        "colab": {
          "base_uri": "https://localhost:8080/",
          "height": 425
        },
        "outputId": "d548c40a-7a68-4547-9ceb-69c4251b69a2"
      },
      "source": [
        "# projecting number of applications groups  \n",
        "job_counts = cv_job_evaluations_df.groupby('JobId').agg('CvId').size()\n",
        "\n",
        "job_counts_df = pd.DataFrame(job_counts).reset_index()\n",
        "job_counts_df.columns = ['JobId', 'count']\n",
        "counts = job_counts.unique()\n",
        "print('We can see that most jobs ads have 10 applications \\n')\n",
        "x = [\"{} applications\".format(count) for count in counts]\n",
        "y =  [np.sum(job_counts_df['count'] == count) for count in counts]\n",
        "\n",
        "plt.figure(figsize=(10, 6))\n",
        "plt.title (\"Plot representing applications per job numbers in general\")\n",
        "sns.barplot(x, y)\n",
        "plt.show()"
      ],
      "execution_count": 25,
      "outputs": [
        {
          "output_type": "stream",
          "text": [
            "We can see that most jobs ads have 10 applications \n",
            "\n"
          ],
          "name": "stdout"
        },
        {
          "output_type": "display_data",
          "data": {
            "image/png": "[encoded data removed]",
            "text/plain": [
              "<Figure size 720x432 with 1 Axes>"
            ]
          },
          "metadata": {
            "tags": [],
            "needs_background": "light"
          }
        }
      ]
    },
    {
      "cell_type": "markdown",
      "metadata": {
        "id": "nqNXO6-qcZOk",
        "colab_type": "text"
      },
      "source": [
        "## Data Cleaning"
      ]
    },
    {
      "cell_type": "code",
      "metadata": {
        "id": "sQc8SLHQNA6T",
        "colab_type": "code",
        "colab": {
          "base_uri": "https://localhost:8080/",
          "height": 69
        },
        "outputId": "3f2c4ccb-373a-43ac-d93e-2d1389342fbd"
      },
      "source": [
        "# download stop words if not exist\n",
        "nltk.download('stopwords')\n",
        "tr_stop_words = stopwords.words('turkish')\n",
        "en_stop_words = stopwords.words('english')\n",
        "stop_words = [*tr_stop_words, *en_stop_words]\n",
        "print(len(stop_words))\n",
        "\n",
        "def clean_text(text):\n",
        "    '''Make text lowercase, remove text in square brackets, remove punctuation and remove words containing numbers.'''\n",
        "    text = text.lower()\n",
        "    text = re.sub('<[^>]*>', '', text)\n",
        "    emoticons = re.findall('(?::|;|=)(?:-)?(?:\\)|\\(|D|P)',text.lower())\n",
        "    text = re.sub('[\\W]+', ' ', text.lower()) + ' '.join(emoticons).replace('-', '')\n",
        "    text = re.sub('\\w*\\d\\w*', '', text)\n",
        "    text = ' '.join([word for word in text.split() if word not in stop_words]) # removing stop words\n",
        "    return text\n",
        " "
      ],
      "execution_count": 26,
      "outputs": [
        {
          "output_type": "stream",
          "text": [
            "[nltk_data] Downloading package stopwords to /root/nltk_data...\n",
            "[nltk_data]   Package stopwords is already up-to-date!\n",
            "232\n"
          ],
          "name": "stdout"
        }
      ]
    },
    {
      "cell_type": "code",
      "metadata": {
        "id": "Ay6TkaIvNA5M",
        "colab_type": "code",
        "colab": {
          "base_uri": "https://localhost:8080/",
          "height": 415
        },
        "outputId": "46e436a9-2c82-495c-d184-1d27c17c29b8"
      },
      "source": [
        "cv_job_evaluations_df['ResumeAll'] = cv_job_evaluations_df.ResumeAll.apply(clean_text)\n",
        "cv_job_evaluations_df['Ilan'] = cv_job_evaluations_df.Ilan.apply(clean_text)\n",
        "cv_job_evaluations_df"
      ],
      "execution_count": 27,
      "outputs": [
        {
          "output_type": "execute_result",
          "data": {
            "text/html": [
              "<div>\n",
              "<style scoped>\n",
              "    .dataframe tbody tr th:only-of-type {\n",
              "        vertical-align: middle;\n",
              "    }\n",
              "\n",
              "    .dataframe tbody tr th {\n",
              "        vertical-align: top;\n",
              "    }\n",
              "\n",
              "    .dataframe thead th {\n",
              "        text-align: right;\n",
              "    }\n",
              "</style>\n",
              "<table border=\"1\" class=\"dataframe\">\n",
              "  <thead>\n",
              "    <tr style=\"text-align: right;\">\n",
              "      <th></th>\n",
              "      <th>JobId</th>\n",
              "      <th>CvId</th>\n",
              "      <th>ResumeAll</th>\n",
              "      <th>Ilan</th>\n",
              "      <th>Label</th>\n",
              "    </tr>\n",
              "  </thead>\n",
              "  <tbody>\n",
              "    <tr>\n",
              "      <th>0</th>\n",
              "      <td>490619</td>\n",
              "      <td>11702287</td>\n",
              "      <td>senesinde derindere turizm firması muhasebe bö...</td>\n",
              "      <td>yönetici asistanı tercihen üniversitelerin bür...</td>\n",
              "      <td>1</td>\n",
              "    </tr>\n",
              "    <tr>\n",
              "      <th>1</th>\n",
              "      <td>490619</td>\n",
              "      <td>100819267</td>\n",
              "      <td>genel müdür diğer birim müdürleri arasında koo...</td>\n",
              "      <td>yönetici asistanı tercihen üniversitelerin bür...</td>\n",
              "      <td>1</td>\n",
              "    </tr>\n",
              "    <tr>\n",
              "      <th>2</th>\n",
              "      <td>490619</td>\n",
              "      <td>105843622</td>\n",
              "      <td>office word excel power point windows vista xp...</td>\n",
              "      <td>yönetici asistanı tercihen üniversitelerin bür...</td>\n",
              "      <td>1</td>\n",
              "    </tr>\n",
              "    <tr>\n",
              "      <th>3</th>\n",
              "      <td>490619</td>\n",
              "      <td>106155661</td>\n",
              "      <td>ms office word excel power point tek bir bünye...</td>\n",
              "      <td>yönetici asistanı tercihen üniversitelerin bür...</td>\n",
              "      <td>1</td>\n",
              "    </tr>\n",
              "    <tr>\n",
              "      <th>4</th>\n",
              "      <td>490619</td>\n",
              "      <td>108241683</td>\n",
              "      <td>excel word mikro poldy muhasebe stajyeri excel...</td>\n",
              "      <td>yönetici asistanı tercihen üniversitelerin bür...</td>\n",
              "      <td>1</td>\n",
              "    </tr>\n",
              "    <tr>\n",
              "      <th>...</th>\n",
              "      <td>...</td>\n",
              "      <td>...</td>\n",
              "      <td>...</td>\n",
              "      <td>...</td>\n",
              "      <td>...</td>\n",
              "    </tr>\n",
              "    <tr>\n",
              "      <th>9550</th>\n",
              "      <td>2199387</td>\n",
              "      <td>5592918</td>\n",
              "      <td>alakart minbar servisi servisi kahvalti var po...</td>\n",
              "      <td>garson nbsp nbsp yıl otelcilik servis tecrübes...</td>\n",
              "      <td>0</td>\n",
              "    </tr>\n",
              "    <tr>\n",
              "      <th>9551</th>\n",
              "      <td>2199387</td>\n",
              "      <td>6450952</td>\n",
              "      <td>fine dining microsoft selamlar turizm anadolu ...</td>\n",
              "      <td>garson nbsp nbsp yıl otelcilik servis tecrübes...</td>\n",
              "      <td>0</td>\n",
              "    </tr>\n",
              "    <tr>\n",
              "      <th>9552</th>\n",
              "      <td>2199387</td>\n",
              "      <td>6459447</td>\n",
              "      <td>bal k restorant kişisell alacarte eservis balı...</td>\n",
              "      <td>garson nbsp nbsp yıl otelcilik servis tecrübes...</td>\n",
              "      <td>0</td>\n",
              "    </tr>\n",
              "    <tr>\n",
              "      <th>9553</th>\n",
              "      <td>2199387</td>\n",
              "      <td>6485644</td>\n",
              "      <td>word excel hizmet sektöründe turizm işletmeler...</td>\n",
              "      <td>garson nbsp nbsp yıl otelcilik servis tecrübes...</td>\n",
              "      <td>0</td>\n",
              "    </tr>\n",
              "    <tr>\n",
              "      <th>9554</th>\n",
              "      <td>2199387</td>\n",
              "      <td>6685769</td>\n",
              "      <td>perakende satış sektöründe yıl deneyimli bölüm...</td>\n",
              "      <td>garson nbsp nbsp yıl otelcilik servis tecrübes...</td>\n",
              "      <td>0</td>\n",
              "    </tr>\n",
              "  </tbody>\n",
              "</table>\n",
              "<p>9555 rows × 5 columns</p>\n",
              "</div>"
            ],
            "text/plain": [
              "        JobId  ...  Label\n",
              "0      490619  ...      1\n",
              "1      490619  ...      1\n",
              "2      490619  ...      1\n",
              "3      490619  ...      1\n",
              "4      490619  ...      1\n",
              "...       ...  ...    ...\n",
              "9550  2199387  ...      0\n",
              "9551  2199387  ...      0\n",
              "9552  2199387  ...      0\n",
              "9553  2199387  ...      0\n",
              "9554  2199387  ...      0\n",
              "\n",
              "[9555 rows x 5 columns]"
            ]
          },
          "metadata": {
            "tags": []
          },
          "execution_count": 27
        }
      ]
    },
    {
      "cell_type": "markdown",
      "metadata": {
        "id": "KisgufMQcjT6",
        "colab_type": "text"
      },
      "source": [
        "## Tokenization And Stemming"
      ]
    },
    {
      "cell_type": "code",
      "metadata": {
        "id": "g1jwQICrNA3Y",
        "colab_type": "code",
        "colab": {}
      },
      "source": [
        "# turkish stemmer object\n",
        "turkishStemmer = TurkishStemmer()\n",
        "\n",
        "# calculate and extract tokens\n",
        "def tokenizer(text):\n",
        "    tokenized = [w for w in text.split()]\n",
        "    return tokenized\n",
        "\n",
        "# stem and tokenize\n",
        "def stemmer_tokenizer(text):\n",
        "    return [turkishStemmer.stem(word) for word in text.split()]"
      ],
      "execution_count": 28,
      "outputs": []
    },
    {
      "cell_type": "markdown",
      "metadata": {
        "id": "18fWQdsgcnq5",
        "colab_type": "text"
      },
      "source": [
        "## Count Vectorizer"
      ]
    },
    {
      "cell_type": "code",
      "metadata": {
        "id": "NC_LEB3SNA16",
        "colab_type": "code",
        "colab": {}
      },
      "source": [
        "def count_and_vectorize():\n",
        "  vectorizer = CountVectorizer(max_features=5000, tokenizer=stemmer_tokenizer, ngram_range=(1, 2))\n",
        "  return vectorizer"
      ],
      "execution_count": 29,
      "outputs": []
    },
    {
      "cell_type": "code",
      "metadata": {
        "id": "PXFaXQRKUb4L",
        "colab_type": "code",
        "colab": {}
      },
      "source": [
        "documents = cv_job_evaluations_df.ResumeAll.append(cv_job_evaluations_df.Ilan)"
      ],
      "execution_count": 30,
      "outputs": []
    },
    {
      "cell_type": "code",
      "metadata": {
        "id": "CikUaIp-MXYk",
        "colab_type": "code",
        "colab": {
          "base_uri": "https://localhost:8080/",
          "height": 193
        },
        "outputId": "eff3441a-e782-44ca-fffd-108b4fbcd9f4"
      },
      "source": [
        "vectorizer = count_and_vectorize()\n",
        "# vectorize:fit on Resumes and Ilans documents\n",
        "vectorizer.fit(documents)"
      ],
      "execution_count": 31,
      "outputs": [
        {
          "output_type": "stream",
          "text": [
            "/usr/local/lib/python3.6/dist-packages/sklearn/feature_extraction/text.py:507: UserWarning: The parameter 'token_pattern' will not be used since 'tokenizer' is not None'\n",
            "  warnings.warn(\"The parameter 'token_pattern' will not be used\"\n"
          ],
          "name": "stderr"
        },
        {
          "output_type": "execute_result",
          "data": {
            "text/plain": [
              "CountVectorizer(analyzer='word', binary=False, decode_error='strict',\n",
              "                dtype=<class 'numpy.int64'>, encoding='utf-8', input='content',\n",
              "                lowercase=True, max_df=1.0, max_features=5000, min_df=1,\n",
              "                ngram_range=(1, 2), preprocessor=None, stop_words=None,\n",
              "                strip_accents=None, token_pattern='(?u)\\\\b\\\\w\\\\w+\\\\b',\n",
              "                tokenizer=<function stemmer_tokenizer at 0x7f945f5e0488>,\n",
              "                vocabulary=None)"
            ]
          },
          "metadata": {
            "tags": []
          },
          "execution_count": 31
        }
      ]
    },
    {
      "cell_type": "code",
      "metadata": {
        "id": "wBxRtO2nOOn1",
        "colab_type": "code",
        "colab": {}
      },
      "source": [
        "# transform resumes\n",
        "resmues_vectorized = vectorizer.transform(cv_job_evaluations_df.ResumeAll)"
      ],
      "execution_count": 32,
      "outputs": []
    },
    {
      "cell_type": "code",
      "metadata": {
        "id": "sj3kpJEwOe7H",
        "colab_type": "code",
        "colab": {}
      },
      "source": [
        "# transform ilans (job ads)\n",
        "job_ads_vectorized = vectorizer.transform(cv_job_evaluations_df.Ilan)"
      ],
      "execution_count": 33,
      "outputs": []
    },
    {
      "cell_type": "code",
      "metadata": {
        "id": "fOYdPwda2Grs",
        "colab_type": "code",
        "colab": {
          "base_uri": "https://localhost:8080/",
          "height": 55
        },
        "outputId": "9d56d94e-8743-4910-81ca-121f8fcf7336"
      },
      "source": [
        "print(vectorizer.vocabulary_)"
      ],
      "execution_count": 43,
      "outputs": [
        {
          "output_type": "stream",
          "text": [
            "{'sene': 7140, 'turizm': 8258, 'firma': 2630, 'muhasep': 5220, 'böl': 1249, 'tam': 7805, 'zaman': 9322, 'yapma': 8806, 'başl': 830, 'üniversite': 9712, 'uzak': 8436, 'eğit': 2444, 'aynı': 616, 'çalışma': 9453, 'devam': 1737, 'ett': 2363, 'sen': 7138, 'genel': 2865, 'mü': 5275, 'asistanlık': 515, 'yöne': 9135, 'kuru': 4502, 'yaptık': 8831, 'sonr': 7386, 'boyu': 1167, 'dari': 1566, 'iş': 3866, 'satınal': 6928, 'departman': 1657, 'görev': 3085, 'çiz': 9539, 'yapmak': 8807, 'dans': 1553, 'firma muhasep': 2650, 'tam zaman': 7806, 'firma çalışma': 2667, 'çalışma devam': 9460, 'devam ett': 1742, 'genel mü': 2873, 'yöne kuru': 9141, 'yaptık sonr': 8836, 'dari iş': 1568, 'departman görev': 1660, 'görev devam': 3097, 'diğer': 1856, 'bir': 1038, 'müdür': 5281, 'ara': 397, 'koordinasyon': 4375, 'işlem': 3912, 'gerçekleştirmek': 2945, 'ün': 9703, 'randevu': 6631, 'günlük': 3176, 'işler': 3924, 'takip': 7738, 'etmek': 2355, 'şler': 9958, 'e': 2039, 'destek': 1714, 'vermek': 8567, 'microsoft': 5073, 'ofis': 5711, 'program': 6463, 'word': 8691, 'excel': 2386, 'powerpoint': 6335, 'grafik': 3041, 'tasar': 7868, 'photoshop': 6211, 'corel': 1483, 'draw': 1921, 'indesign': 3695, 'şlet': 9963, 'lisans': 4697, 'yönetiç': 9213, 'önlisans': 9627, 'mezun': 5054, 'olup': 5866, 'askerlik': 517, 'tama': 7807, 'bulunmak': 1212, 'faaliyet': 2498, 'sekreterlik': 7106, 'adsl': 87, 'başvur': 849, 'al': 164, 'modem': 5148, 'sat': 6909, 'kurul': 4503, 'telefon': 8010, 'fatura': 2558, 'tahsi': 7723, 'sosyal': 7437, 'medya': 4957, 'yönet': 9154, 'ara koordinasyon': 400, 'işlem gerçekleştirmek': 3914, 'işler takip': 3926, 'takip etmek': 7749, 'dari şler': 1569, 'destek vermek': 1726, 'microsoft ofis': 5081, 'ofis program': 5714, 'program word': 6493, 'word excel': 8693, 'excel powerpoint': 2402, 'grafik tasar': 3043, 'photoshop corel': 6213, 'corel draw': 1484, 'yönetiç asistanlık': 9215, 'önlisans mezun': 9629, 'askerlik tama': 521, 'sosyal medya': 7438, 'medya yönet': 4959, 'offi': 5673, 'power': 6328, 'point': 6287, 'windows': 8655, 'vista': 8593, 'xp': 8738, 'bi': 934, 'merhap': 4997, 'ben': 908, 'met': 5022, 'aksaray': 136, 'doğum': 1917, 'beylikdüz': 931, 'ikamet': 3549, 'ediyor': 2104, 'ev': 2371, 'stanbul': 7498, 'ayt': 628, 'rehberlik': 6679, 'bölüm': 1266, 'burs': 1237, 'olarak': 5769, 'bitir': 1126, 'lk': 4723, 'deney': 1636, 'mevzu': 5041, 'olduk': 5814, 'üniversi': 9708, 'olan': 5744, 'asistan': 513, 'başladık': 835, 'işim': 3907, 'yıl': 9274, 'birim': 1108, 'olt': 5859, 'heyet': 3397, 'başkan': 828, 'takdir': 7730, 'diş': 1858, 'hekimlik': 3372, 'fakülte': 2530, 'gerçekleşen': 2930, 'jci': 3951, 'akreditasyon': 129, 'süreç': 7654, 'yak': 8751, 'sonuç': 7397, 'kur': 4477, 'başarı': 822, 'dene': 1623, 'belge': 878, 'tamamen': 7818, 'dahil': 1531, 'yok': 9100, 'mesai': 5011, 'ilgi': 3598, 'sonraki': 7394, 'deneyim': 1643, 'yin': 9096, 'şekl': 9909, 'iler': 3568, 'şuan': 9983, 'yen': 9003, 'başkanlık': 829, 'özel': 9640, 'kalem': 4000, 'yapıyor': 8883, 'üye': 9816, 'vakıf': 8476, 'görüşme': 3134, 'misafir': 5124, 'toplan': 8203, 'organizasyon': 5970, 'yürütmek': 9262, 'yurt': 9121, 'dış': 2027, 'seyahat': 7214, 'viz': 8601, 'uçak': 8464, 'bilet': 964, 'otel': 6011, 'rezervasyon': 6740, 'toplantı': 8206, 'katılarak': 4133, 'almak': 235, 'kişisel': 4245, 'yer': 9029, 'getirmek': 2957, 'hastane': 3282, 'ilaç': 3565, 'vb': 8497, 'ülk': 9700, 'gelen': 2800, 'istek': 3796, 'yönetmek': 9219, 'öğrenç': 9688, 'şikayet': 9918, 'hızl': 3493, 'dikkatli': 1809, 'sonuçlandırmak': 7403, 'akış': 162, 'kat': 4102, 'bulunan': 1204, 'yardımcı': 8902, 'danışman': 1555, 'sekreter': 7105, 'asis': 511, 'arama': 408, 'kişi': 4241, 'yönlendirilme': 9226, 'sağlamak': 7032, 'kargo': 4067, 'tesl': 8107, 'kayıt': 4160, 'iletmek': 3593, 'gi': 2978, 'hazırlamak': 3331, 'verilen': 8541, 'belir': 886, 'format': 2716, 'doğrultu': 1911, 'yazışma': 8973, 'iç': 3852, 'imza': 3676, 'gerektiren': 2919, 'evrak': 2382, 'yönetici': 9197, 'bağl': 798, 'personel': 6185, 'iz': 3845, 'iletiş': 3580, 'kabul': 3980, 'onay': 5892, 'sunmak': 7590, 'gerek': 2894, 'görülen': 3125, 'tutanak': 8270, 'gerektik': 2914, 'kullan': 4419, 'hazır': 3325, 'dur': 1937, 'tutmak': 8276, 'acenta': 30, 'görüşerek': 3133, 'alınma': 267, 'ederek': 2074, 'karşılamak': 4088, 'düzen': 1983, 'yaparak': 8800, 'yetki': 9076, 'kiş': 4240, 'irtiba': 3767, 'geçme': 2972, 'dönem': 1963, 'yatay': 8918, 'geçiş': 2971, 'dikey': 1806, 'öğren': 9675, 'dosya': 1894, 'döne': 1961, 'son': 7372, 'öğrenci': 9677, 'bildirmek': 957, 'aday': 53, 'vel': 8509, 'şirke': 9929, 'numune': 5628, 'örnek': 9635, 'yaptırılma': 8838, 'model': 5145, 'aksesuar': 137, 'düzenleme': 1991, 'öğrenim': 9682, 'ar': 395, 'part': 6091, 'tim': 8175, 'satış': 6937, 'kas': 4094, 'takım': 7783, 'halin': 3254, 'uyum': 8432, 'çalışabilm': 9441, 'spor': 7459, 'bilimsel': 1016, 'çalış': 9400, 'grup': 3054, 'sorgulayıç': 7409, 'çöz': 9550, 'üretiç': 9772, 'olm': 5830, 'çalışkan': 9451, 'disiplin': 1842, 'kolay': 4272, 'uy': 8381, 'sağlayabilen': 7061, 'saygı': 7021, 'güvenilir': 3187, 'dinamik': 1825, 'gü': 3154, 'yüzl': 9271, 'sabır': 6809, 'azim': 634, 'disipl': 1840, 'offi word': 5702, 'excel power': 2400, 'power point': 6331, 'point windows': 6296, 'windows vista': 8674, 'ikamet ediyor': 3552, 'iş deney': 3877, 'asistan olarak': 514, 'olarak başladık': 5773, 'görev al': 3086, 'başarı bir': 823, 'belge al': 879, 'iş deneyim': 3878, 'olarak görev': 5781, 'toplan organizasyon': 8204, 'yurt dış': 9122, 'dış seyahat': 2036, 'otel rezervasyon': 6012, 'görev almak': 3093, 'yer getirmek': 9038, 'gelen misafir': 2803, 'süreç yönetmek': 7673, 'iş akış': 3867, 'asis etmek': 512, 'ilgi kişi': 3611, 'kayıt işlem': 4162, 'takip yapmak': 7774, 'yurt iç': 9123, 'iç yurt': 3859, 'bağl personel': 804, 'işlem personel': 3916, 'ara iletiş': 399, 'iletiş sağlamak': 3589, 'alınma sağlamak': 268, 'takip ederek': 7744, 'düzen sağlamak': 1988, 'döne son': 1962, 'iş yer': 3904, 'part tim': 6092, 'olarak satış': 5794, 'satış danışman': 6943, 'danışman olarak': 1558, 'kas işlem': 4096, 'çalışkan disiplin': 9452, 'kolay uy': 4273, 'uy sağlayabilen': 8384, 'gü yüzl': 3155, 'ms': 5182, 'tek': 7957, 'bünye': 1274, 'telekom': 8014, 'şirket': 9930, 'halk': 3255, 'ilişk': 3630, 'finans': 2608, 'ayr': 618, 'an': 298, 'yürüt': 9259, 'iletişim': 3592, 'mail': 4810, 'trafik': 8222, 'yapılma': 8854, 'ajanda': 116, 'organiz': 5964, 'edilme': 2081, 'dosyala': 1898, 'arşivle': 503, 'karşılanma': 4089, 'konu': 4324, 'idare': 3510, 'kontrolün': 4321, 'müşter': 5319, 'bilgi': 970, 'transfer': 8234, 'nan': 5383, 'ms offi': 5188, 'şirket yönetiç': 9946, 'yönetiç asistan': 9214, 'halk ilişk': 3256, 'kur iç': 4481, 'e mail': 2050, 'trafik yönetmek': 8223, 'yazışma yapılma': 8974, 'organiz edilme': 5965, 'evrak takip': 2384, 'işlem yapılma': 3919, 'organizasyon yapılma': 5978, 'misafir karşılanma': 5125, 'konu gerek': 4333, 'yapılma ms': 8863, 'bağl olduk': 803, 'firma bünye': 2636, 'bünye bulunan': 1275, 'iş takip': 3898, 'kontrolün yapmak': 4323, 'sağlamak müşter': 7041, 'firma ara': 2632, 'gerek bilgi': 2896, 'sağlamak ms': 7040, 'mikro': 5095, 'stajyer': 7495, 'tanim': 7831, 'müdürlük': 5285, 'giriş': 2992, 'yapan': 8793, 'kayt': 4158, 'tutulma': 8279, 'durum': 1938, 'sağlanma': 7051, 'nsan': 5608, 'kaynak': 4145, 'na': 5375, 'başvuru': 851, 'form': 2713, 'verilme': 8546, 'gün': 3163, 'ik': 3547, 'koordine': 4382, 'çalışılma': 9499, 'kontrol': 4301, 'insan': 3712, 'kariyer': 4071, 'üzer': 9819, 'ilan': 3563, 'incelenme': 3689, 'davet': 1578, 'boy': 1164, 'excel word': 2407, 'genel müdürlük': 2875, 'genel müdür': 2874, 'destek sağlanma': 1721, 'nsan kaynak': 5610, 'kaynak departman': 4148, 'gün son': 3165, 'koordine olarak': 4384, 'iş giriş': 3882, 'gerek durum': 2897, 'kontrol edilme': 4305, 'insan kaynak': 3717, 'şirket iç': 9937, 'gelen gi': 2801, 'koordinasyon sağlanma': 4378, 'lotus': 4772, 'notes': 5603, 'crm': 1501, 'api': 383, 'targets': 7860, 'team': 7910, 'ensuring': 2267, 'motivation': 5176, 'sales': 6865, 'client': 1409, 'preparing': 6385, 'members': 4978, 'department': 1663, 'reports': 6697, 'board': 1144, 'coordinating': 1479, 'campaigns': 1335, 'marketing': 4900, 'market': 4897, 'vip': 8587, 'clients': 1410, 'turkish': 8268, 'desk': 1712, 'manager': 4880, 'bankacılık': 747, 'ms word': 5202, 'lotus notes': 4774, 'sales team': 6869, 'team members': 7912, 'bankacılık finans': 748, 'mühendislik': 5300, 'müşavirlik': 5318, 'türki': 8301, 'taraf': 7855, 'fizibi': 2685, 'proje': 6518, 'nşaat': 5635, 'bak': 703, 'hizmet': 3416, 'veren': 8524, 'or': 5940, 'dok': 1868, 'afrika': 96, 'asya': 538, 'avrup': 585, 'uluslarara': 8338, 'bura': 1236, 'sorumluluk': 7418, 'planla': 6243, 'raporla': 6637, 'arşiv': 502, 'idari': 3511, 'yönetilme': 9203, 'ağırlanma': 667, 'ulaş': 8321, 'etk': 2336, 'şekil': 9902, 'kullanılma': 4463, 'internet': 3738, 'outlook': 6037, 'distribütör': 1847, 'koordinatör': 4380, 'aldık': 219, 'temsilci': 8055, 'ürün': 9776, 'tanıtım': 7849, 'müşteri': 5351, 'kontak': 4298, 'kurarak': 4489, 'teklif': 7961, 'hazırlanma': 3335, 'sevkiya': 7212, 'sevkiyat': 7213, 'talep': 7798, 'ihtiyaç': 3532, 'problem': 6414, 'çözüm': 9566, 'plan': 6233, 'yazış': 8972, 'stok': 7536, 'kontrolü': 4315, 'aylık': 608, 'depo': 1665, 'say': 7007, 'haftalık': 3229, 'rapor': 6632, 'yurtdış': 9125, 'sipariş': 7276, 'yazılma': 8967, 'sorum': 7411, 'yemek': 9001, 'catering': 1357, 'mali': 4846, 'topla': 8199, 'verm': 8565, 'kapasite': 4048, 'sıra': 7705, 'kriz': 4411, 'sebep': 7094, 'zor': 9378, 'kal': 3996, 'firma taraf': 2660, 'proje yönet': 6546, 'hizmet veren': 3432, 'or dok': 5942, 'planla organizasyon': 6249, 'ofis iç': 5713, 'iç dış': 3854, 'idari işler': 3513, 'personel yönet': 6199, 'işlem takip': 3917, 'takip ms': 7757, 'offi program': 5692, 'program etk': 6470, 'etk bir': 2337, 'bir şekil': 1088, 'windows word': 8677, 'excel internet': 2390, 'olarak yer': 5800, 'yer aldık': 9033, 'satış temsilci': 6993, 'ürün tanıtım': 9800, 'teklif hazırlanma': 7964, 'müşteri talep': 5362, 'ihtiyaç karşılanma': 3540, 'müşter şikayet': 5350, 'iş plan': 3893, 'akış sağlamak': 163, 'raporla yapmak': 6645, 'stok kontrolü': 7539, 'haftalık aylık': 3230, 'aylık satış': 612, 'satış stok': 6985, 'rapor hazırlanma': 6635, 'sipariş verilme': 7279, 'satış rapor': 6979, 'veren firma': 8528, 'exel': 2425, 'u': 8313, 'access': 15, 'sap': 6885, 'oracle': 5948, 'kullanabi': 4424, 'lmekte': 4730, 'asi': 510, 'uuml': 8379, 'r': 6619, 'ccedil': 1361, 'alış': 276, 'ni': 5563, 'n': 5368, 'yapiyor': 8805, 'mai': 4809, 'l': 4571, 'ği': 9836, 'dare': 1565, 'türl': 8309, 'yapilmasi': 8804, 'organi': 5962, 'zasyon': 9336, 'şi': 9913, 'rket': 6761, 'persone': 6183, 'fuar': 2746, 'vi': 8578, 'ze': 9340, 'şlem': 9955, 'sahi': 6823, 'ödeme': 9582, 'yapt': 8825, 'üyes': 9818, 'tem': 8025, 'k': 3970, 'malzeme': 4857, 'üre': 9733, 'fi': 2581, 'rma': 6764, 'marmar': 4904, 'bolge': 1147, 'nde': 5482, 'alan': 194, 'bayi': 790, 'sevk': 7209, 'yle': 9098, 'bölg': 1253, 'yapmaktayim': 8824, 'ayni': 614, 'doğuş': 1918, 'holdi': 3441, 'ng': 5549, 'kler': 4254, 'ri': 6747, 'lmes': 4731, 'haftalik': 3228, 'programlarin': 6509, 'düzenlemek': 1992, 'sel': 7130, 'taki': 7732, 'mağaza': 4926, 'denetlemek': 1632, 'di': 1797, 'ay': 593, 'yapilan': 8803, 'cra': 1495, 'hazirlamak': 3323, 'topl': 8198, 'ayrica': 619, 'bağli': 809, 'thalat': 8137, 'hracat': 3458, 'kaynaklari': 4153, 'çi': 9532, 'nansman': 5385, 'exel word': 2428, 'word powerpoint': 8702, 'powerpoint outlook': 6347, 'access sap': 21, 'ni n': 5564, 'ği ni': 9837, 'organi zasyon': 5963, 'şi rket': 9914, 'şlem ni': 9957, 'n yapilmasi': 5374, 'bi r': 938, 'fi rma': 2588, 'bünye nde': 1278, 'yer alan': 9032, 'bölg müdür': 1255, 'holdi ng': 3442, 'ri lmes': 6748, 'ni sağlamak': 5565, 'şi sel': 9915, 'n taki': 5373, 'taki bi': 7733, 'mağaza müdür': 4931, 'thalat hracat': 8138, 'nsan kaynaklari': 5611, 'fi nansman': 2587, 'etkinlik': 2350, 'saglamak': 6815, 'uluslararasi': 8342, 'temas': 8029, 'olmak': 5839, 'duzey': 1951, 'tum': 8251, 'uygulamalari': 8409, 'mudur': 5214, 'gunluk': 3068, 'raporlari': 6651, 'hazirlanmasi': 3324, 'konakla': 4288, 'urunler': 8371, 'hedef': 3349, 'kitle': 4239, 'tanit': 7837, 'satis': 6916, 'pazarla': 6124, 'odakli': 5664, 'sirket': 7282, 'strateji': 7555, 'uygulanmasi': 8413, 'piya': 6227, 'rekabet': 6680, 'kapsayan': 4053, 'klinik': 4257, 'aylik': 607, 'partner': 6094, 'gerçekleştirilme': 2942, 'üst': 9806, 'düzey': 1996, 'konuk': 4355, 'ceo': 1371, 'koordinasyo': 4373, 'konuş': 4361, 'not': 5598, 'aktivite': 157, 'ayrıntı': 626, 'saatlik': 6805, 'progra': 6450, 'işleyiş': 3935, 'pos': 6313, 'internal': 3732, 'external': 2441, 'hours': 3452, 'vs': 8615, 'hotel': 3450, 'lojis': 4759, 'baz': 794, 'ingiliz': 3705, 'uygun': 8416, 'işbirlik': 3906, 'yayınlanma': 8938, 'kurumsal': 4518, 'kimlik': 4225, 'reklam': 6681, 'sektör': 7107, 'rakip': 6627, 'yay': 8933, 'gelişme': 2824, 'edip': 2098, 'stratej': 7553, 'yol': 9108, 'harita': 3271, 'katkı': 4118, 'bas': 765, 'pr': 6371, 'çalışmak': 9481, 'yapılan': 8845, 'medikal': 4952, 'lişk': 4719, 'hasta': 3280, 'has': 3274, 'destek olmak': 1718, 'offi uygulamalari': 5699, 'takip edilme': 7746, 'hedef kitle': 3357, 'satis pazarla': 6917, 'üst düzey': 9807, 'koordinasyo sağlanma': 4374, 'departman ara': 1658, 'koordinasyon sağlamak': 4377, 'yurtdış seyahat': 9127, 'organiz etmek': 5966, 'e pos': 2052, 'internal external': 3733, 'kurumsal kimlik': 4524, 'reklam çalışma': 6683, 'ürün ilgi': 9785, 'gelişme takip': 2826, 'takip edip': 7747, 'katkı bulunmak': 4120, 'halk lişk': 3258, 'bilgi akış': 971, 'ilgi departman': 3604, 'teknik': 7967, 'ekipman': 2155, 'tespit': 8113, 'tedarik': 7944, 'sonra': 7388, 'doküman': 1871, 'sunulma': 7595, 'ayarlanma': 602, 'dosyalanma': 1899, 'yıllık': 9310, 'ödem': 9578, 'yurtiç': 9129, 'raporlama': 6646, 'oluşturmak': 5878, 'araştırma': 444, 'yapılarak': 8852, 'aşama': 671, 'radyo': 6621, 'verilecek': 8540, 'belirlenerek': 895, 'anlaşma': 362, 'ulaşma': 8324, 'ihtiyaç tespit': 3542, 'proje müdür': 6530, 'takip yapılma': 7775, 'yapılma aylık': 8855, 'aylık yıllık': 613, 'ödem plan': 9579, 'plan hazırlanma': 6236, 'hazırlanma takip': 3340, 'sat al': 6910, 'al işlem': 169, 'düzen sağlanma': 1989, 'yurtiç yurtdış': 9130, 'ödeme takip': 9583, 'takip aylık': 7739, 'raporlama yapılma': 6648, 'yapılma microsoft': 8862, 'ilgi firma': 3607, 'sağlamak microsoft': 7039, 'program nan': 6485, 'offıce': 5707, 'lider': 4659, 'vasıf': 8493, 'pozitif': 6367, 'girişimç': 2999, 'odak': 5648, 'yenilik': 9025, 'öğrenme': 9683, 'açık': 643, 'güçl': 3206, 'res': 6703, 'analiz': 317, 'amerikan': 293, 'futbol': 2756, 'etm': 2352, 'tiyatro': 8182, 'fotoğrafçılık': 2726, 'yüzm': 9272, 'mo': 5136, 'microsoft offıce': 5080, 'çöz odak': 9553, 'öğrenme açık': 9684, 'iletiş güçl': 3582, 'microsoft offi': 5079, 'word microsoft': 8698, 'offi excel': 5680, 'excel microsoft': 2396, 'offi powerpoint': 5689, 'çocuk': 9544, 'geliş': 2814, 'öğre': 9674, 'dram': 1920, 'yaratıç': 8896, 'özel bir': 9641, 'bir kur': 1060, 'görev olarak': 3098, 'olarak çalış': 5803, 'çalış microsoft': 9413, 'sezon': 7217, 'çalışıyor': 9502, 'güzel': 3201, 'tecrüp': 7937, 'kent': 4193, 'seven': 7198, 'geç': 2960, 'mevcut': 5033, 'diksiyon': 1812, 'düzg': 2005, 'yatk': 8919, 'tıbbi': 8311, 'sertifika': 7160, 'yi': 9082, 'letiş': 4629, 'kurmak': 4493, 'persone olarak': 6184, 'olarak çalışıyor': 5808, 'yenilik açık': 9026, 'grup çalışma': 3062, 'çalışma uyum': 9471, 'olan bir': 5747, 'bir çalış': 1085, 'diksiyon düzg': 1813, 'çalışma yatk': 9474, 'detay': 1731, 'öne': 9609, 'kna': 4259, 'kabi': 3973, 'yük': 9231, 'etki': 2344, 'karşılık': 4092, 'anlayış': 360, 'geliştirebil': 2839, 'lişki': 4720, 'çalişma': 9396, 'stres': 7560, 'yönetim': 9205, 'yönetebil': 9194, 'dakik': 1540, 'alabilm': 187, 'karar': 4061, 'detay öne': 1733, 'öne verm': 9611, 'kna kabi': 4260, 'kabi yük': 3975, 'etki letiş': 2347, 'nsan lişki': 5612, 'stres yönetim': 7562, 'yönetim başarı': 9206, 'başarı olm': 826, 'bilgi yönetebil': 992, 'dakik olm': 1541, 'zaman yönetim': 9332, 'olm detay': 5831, 'sorumluluk alabilm': 7422, 'alabilm organiz': 188, 'organiz çalışabilm': 5968, 'çalışabilm hızl': 9442, 'hızl etki': 3496, 'etki karar': 2346, 'karar alabilm': 4063, 'mc': 4939, 'kullanabilmek': 4441, 'ayrı': 620, 'amatör': 282, 'web': 8626, 'imal': 3658, 'şey': 9911, 'önç': 9630, 'ş': 9843, 'ler': 4616, 'gelecek': 2799, 'vade': 8469, 'amatör olarak': 283, 'web tasar': 8638, 'çi n': 9533, 'uygulama': 8395, 'illustrator': 3650, 'çeşit': 9529, 'fark': 2537, 'ön': 9593, 'büro': 1280, 'animasyon': 350, 'spa': 7446, 'resepsiyon': 6707, 'mart': 4906, 'bun': 1227, 'bazı': 797, 'çevirmen': 9524, 'ortak': 5995, 'operasyon': 5910, 'ithalat': 3824, 'tanıt': 7843, 'irtibat': 3769, 'tercüm': 8089, 'temsilcilik': 8062, 'ağırlık': 668, 'çevir': 9522, 'tür': 8295, 'türk': 8299, 'otomotiv': 6029, 'kullanarak': 4443, 'yazı': 8951, 'beceri': 856, 'kültür': 4548, 'orta': 5992, 'yatkınlık': 8927, 'bağıms': 812, 'güven': 3183, 'offi uygulama': 5698, 'photoshop illustrator': 6215, 'ön büro': 9594, 'satış destek': 6948, 'müşter hizmet': 5325, 'letiş beceri': 4630, 'hedef sonuç': 3360, 'sonuç odak': 7398, 'excell': 2410, 'desing': 1711, 'browser': 1180, 'iyi': 3831, 'derece': 1676, 'kullanmak': 4452, 'ber': 920, 'verdik': 8519, 'kökl': 4543, 'fazl': 2572, 'geliştirerek': 2844, 'ilerlemek': 3576, 'istedik': 3794, 'anali': 306, 'üretmek': 9774, 'nokta': 5589, 'teknolojik': 7995, 'stratejik': 7557, 'takipçi': 7780, 'büyümek': 1298, 'piyasa': 6230, 'pazarlanma': 6144, 'birebir': 1093, 'product': 6428, 'word excell': 8694, 'excell power': 2414, 'program internet': 6476, 'iyi derece': 3833, 'yıl ber': 9279, 'hizmet verdik': 3431, 'satış sektör': 6981, 'al olduk': 174, 'olduk eğit': 5819, 'kurumsal bir': 4519, 'bir firma': 1051, 'firma çalışmak': 2668, 'talep doğrultu': 7799, 'anali çöz': 314, 'çöz üretmek': 9558, 'nokta sektör': 5592, 'sektör teknolojik': 7121, 'teknolojik stratejik': 7997, 'stratejik gelişme': 7558, 'gelişme takipçi': 2827, 'takipçi olan': 7781, 'büyümek ilerlemek': 1299, 'mevcut ürün': 5039, 'tes': 8097, 'mi': 5062, 'ek': 2132, 'ti': 8146, 'uzmanlik': 8452, 'şe': 9888, 'alim': 230, 'rme': 6767, 'puantaj': 6592, 'p': 6053, 'kali': 4001, 'te': 7907, 'si': 7238, 'stem': 7530, 'yillik': 9095, 'oluştur': 5872, 'gerçekleş': 2927, 'ver': 8513, 'mli': 5133, 'li': 4650, 'nbsp': 5393, 'nets': 5529, 'elektra': 2185, 'alt': 247, 'özlük': 9666, 'mler': 5132, 'düzenlenme': 1994, 'koordi': 4368, 'nasyon': 5387, 'oryantasyon': 6005, 'gel': 2795, 'satiş': 6919, 'yükselme': 9254, 'sonrasi': 7395, 'bölge': 1259, 'haccp': 3221, 'şçi': 9995, 'sağlık': 7068, 'güvenlik': 3190, 'sterilizasyon': 7532, 'iso': 3780, 'logo': 4741, 'go': 3020, 'bordro': 1152, 'akinsoft': 128, 'yöne mi': 9143, 'mi ek': 5065, 'ek ti': 2135, 'taki p': 7734, 'kali te': 4009, 'te yöne': 7908, 'yöne si': 9147, 'si stem': 7242, 'li ği': 4657, 'nbsp yi': 5464, 'yi derece': 9085, 'gerçekleş ri': 2928, 'personel özlük': 6200, 'özlük şler': 9670, 'ti mler': 8153, 'koordi nasyon': 4369, 'proje yöne': 6545, 'gel şi': 2796, 'ti mi': 8152, 'windows xp': 8678, 'şçi sağlık': 9996, 'sağlık ş': 7077, 'ş güvenlik': 9853, 'iso iso': 3781, 'logo go': 4746, 'go logo': 3021, 'logo bordro': 4742, 'crosoft': 1506, 'kullaniyor': 4450, 'basi': 768, 'c': 1307, 'dos': 1890, 'b': 686, 'hayat': 3308, 'z': 9321, 'sa': 6801, 'lik': 4673, 'kte': 4414, 'real': 6665, 'ger': 2888, 'ekl': 2156, 'rmek': 6768, 'tak': 7729, 'raporlamak': 6649, 'kes': 4210, 'nt': 5613, 'ter': 8071, 'yet': 9048, 'terf': 8090, 'reysel': 6739, 'pazarlama': 6143, 'adana': 49, 'ankar': 351, 'merkez': 4998, 'güney': 3174, 'anado': 301, 'acen': 29, 'bütç': 1281, 'emek': 2222, 'doğr': 1904, 'şube': 9985, 'sti': 7533, 'acente': 31, 'üret': 9735, 'gerçekleşme': 2931, 'mi crosoft': 5064, 'basi c': 769, 'ms dos': 5184, 'olarak nbsp': 5791, 'bi reysel': 940, 'emek li': 2223, 'li k': 4651, 'satiş ek': 6920, 'bilgisayar': 999, 'döküman': 1957, 'hazırla': 3329, 'st': 7488, 'eta': 2322, 'spss': 7466, 'karabük': 4058, 'şletmecilik': 9975, 'meslek': 5014, 'ngiliz': 5552, 'rusç': 6794, 'ders': 1699, 'gört': 3124, 'işlet': 3930, 'girişimcilik': 2997, 'benzer': 915, 'hemen': 3376, 'ya': 8747, 'değil': 1785, 'kurs': 4494, 'seminer': 7136, 'ikinç': 3555, 'kapsam': 4052, 'çalışıp': 9500, 'heves': 3394, 'yaşanan': 8988, 'müdahale': 5280, 'etme': 2353, 'fikir': 2597, 'geliştirmek': 2856, 'ilg': 3595, 'dizayn': 1855, 'sever': 7199, 'pek': 6155, 'kuvvet': 4536, 'ikna': 3556, 'güveniyor': 3189, 'onlar': 5899, 'anlamak': 358, 'on': 5887, 'inanıyor': 3681, 'başlangıç': 839, 'düşünüyor': 2023, 'edinme': 2096, 'merak': 4992, 'seviyor': 7208, 'aktif': 147, 'hareket': 3270, 'yap': 8780, 'var': 8480, 'club': 1415, 'küçük': 4552, 'mekan': 4965, 'yapıl': 8842, 'ikram': 3561, 'servis': 7182, 'yapım': 8880, 'çalışıl': 9497, 'netsis': 5532, 'let': 4627, 'becer': 855, 'edebil': 2062, 'oynamak': 6049, 'kurma': 4492, 'zevk': 9343, 'konsept': 4294, 'odaklılık': 5665, 'maliyet': 4853, 'muhasebe': 5216, 'yenilikç': 9028, 'şiir': 9917, 'yazmak': 8947, 'böl mezun': 1250, 'bir alan': 1039, 'alan çalış': 213, 'çalış bir': 9403, 'eğit al': 2445, 'yen şey': 9019, 'şey öğrenme': 9912, 'ilg alan': 3596, 'aynı zaman': 617, 'konu kent': 4339, 'kent güveniyor': 4201, 'yen bilgi': 9006, 'bir yap': 1081, 'yap var': 8785, 'bilgisayar destek': 1003, 'muhasep bilgisayar': 5222, 'bilgisayar muhasep': 1008, 'muhasep progra': 5237, 'let şi': 4628, 'eta muhasep': 2328, 'letiş kuvvet': 4633, 'organizasyon yapmak': 5976, 'yük sorumluluk': 9244, 'maliyet muhasebe': 4855, 'muhasep mevzu': 5232, 'genel muhasep': 2872, 'beceri yük': 864, 'ön muhasep': 9598, 'yen fikir': 9008, 'şin': 9924, 'özen': 9655, 'gösteren': 3143, 'eğlence': 2486, 'özen gösteren': 9657, 'lişki kuvvet': 4721, 'ışık': 9842, 'masa': 4907, 'hakim': 3236, 'ses': 7191, 'sistem': 7301, 'bilgisayar kullan': 1006, 'ekonometr': 2158, 'hazırlık': 3344, 'okut': 5734, 'yaş': 8976, 'saye': 7018, 'sigar': 7249, 'kullanmıyor': 4454, 'balıkesir': 731, 'yönelik': 9151, 'tecrübe': 7924, 'sağladık': 7030, 'eviews': 2379, 'yazıl': 8954, 'ibm': 3504, 'bölüm bitir': 1267, 'bir yıl': 1084, 'satış konu': 6964, 'sigar kullanmıyor': 7251, 'ikamet etmek': 3553, 'etmek satış': 2361, 'meeting': 4961, 'customers': 1523, 'incoming': 3692, 'layout': 4586, 'accounting': 26, 'work': 8705, 'employees': 2234, 'services': 7181, 'training': 8226, 'selling': 7134, 'personal': 6182, 'record': 6668, 'group': 3051, 'education': 2108, 'financial': 2607, 'colleg': 1431, 'business': 1240, 'management': 4874, 'experience': 2430, 'network': 5534, 'fitness': 2675, 'x': 8732, 'fit': 2674, 'may': 4924, 'position': 6315, 'responsibilities': 6716, 'lar': 4582, 'turkey': 8266, 'antalya': 369, 'conducting': 1460, 'trainings': 8227, 'preparation': 6382, 'activities': 43, 'supporting': 7606, 'good': 3028, 'every': 2378, 'end': 2238, 'knowledge': 4264, 'foreign': 2709, 'languages': 4580, 'english': 2262, 'spoken': 7455, 'information': 3703, 'basic': 770, 'ability': 7, 'find': 2624, 'individual': 3698, 'approach': 392, 'people': 6158, 'perfect': 6165, 'communication': 1441, 'skills': 7334, 'non': 5594, 'field': 2594, 'relationships': 6688, 'based': 767, 'practi': 6372, 'art': 474, 'positiv': 6317, 'open': 5904, 'make': 4820, 'card': 1344, 'communication skills': 1442, 'yaz': 8939, 'adobe': 73, 'flash': 2689, 'fax': 2564, 'fotokopi': 2724, 'mac': 4793, 'macromedia': 4800, 'dreamweaver': 1925, 'pc': 6146, 'php': 6219, 'printer': 6405, 'scanner': 7080, 'akde': 126, 'be': 853, 'okul': 5726, 'öğretmenlik': 9695, 'branş': 1177, 'voleybol': 8609, 'antrenörlük': 374, 'kolej': 4276, 'kulüp': 4471, 'oyunculuk': 6052, 'kinç': 4230, 'tenis': 8066, 'üçünç': 9834, 'rusya': 6793, 'yaşa': 8980, 'seviye': 7203, 'okum': 5729, 'yazm': 8944, 'biliyor': 1024, 'dil': 1814, 'sahip': 6826, 'üç': 9833, 'kilo': 4224, 'devlet': 1754, 'yapı': 8839, 'gönül': 3077, 'yardımç': 8905, 'başlayan': 845, 'yapi': 8802, 'gören': 3084, 'aldim': 218, 'öğretmen': 9693, 'havaliman': 3300, 'duty': 1944, 'fre': 2735, 'uzman': 8439, 'görsel': 3121, 'düzenle': 1990, 'katk': 4112, 'ten': 8064, 'yabanci': 8748, 'yerl': 9042, 'havuz': 3301, 'den': 1618, 'turi': 8257, 'zm': 9371, 'le': 4595, 'beraber': 921, 'anlaş': 361, 'adobe flash': 78, 'flash adobe': 2691, 'adobe photoshop': 81, 'fax fotokopi': 2565, 'macromedia dreamweaver': 4801, 'akde üniversite': 127, 'yük okul': 9240, 'tecrübe var': 7935, 'yıl ara': 9276, 'spor kulüp': 7460, 'iler seviye': 3572, 'okum yazm': 5730, 'yazm konuş': 8945, 'rusç dil': 6795, 'sertifika sahip': 7162, 'sahip yıl': 6857, 'yönetiç olarak': 9216, 'topla yıl': 8201, 'yıl çalış': 9306, 'çalış tecrübe': 9426, 'tecrübe bulunmak': 7927, 'alt yapı': 251, 'hizmet operasyon': 3425, 'mağaza satış': 4933, 'satış uzman': 6994, 'görsel düzenle': 3122, 'stok takip': 7541, 'takip kontrolü': 7754, 'satış hedef': 6959, 'katk sağlanma': 4115, 'bölge nde': 1262, 'güven ği': 3185, 'ler n': 4621, 'mi n': 5069, 'spk': 7454, 'gayri': 2775, 'menkul': 4989, 'değerle': 1771, 'yem': 9000, 'nli': 5581, 'ngi': 5550, 'zce': 9339, 'haki': 3235, 'vardir': 8484, 'fiyat': 2676, 'tur': 8254, 'belirlemek': 890, 'şki': 9952, 'prosedür': 6565, 'tani': 7830, 'akti': 145, 'et': 2319, 'memnuni': 4979, 'öner': 9621, 'dahi': 1530, 'çözülme': 9565, 'ye': 8991, 'danişmanlik': 1549, 'otur': 6033, 'gayri menkul': 2776, 'ngi li': 5551, 'li zce': 4656, 'sorum olarak': 7414, 'fiyat teklif': 2681, 'li şki': 4658, 'şki ler': 9953, 'ek bi': 2133, 'n hazirlanmasi': 5370, 'et lmes': 2321, 'ler ni': 4622, 'türki ye': 8305, 'md': 4942, 'yıldız': 9307, 'yatak': 8917, 'ticaret': 8160, 'birçok': 1122, 'katıl': 4129, 'eğitmenlik': 2484, 'süre': 7643, 'vert': 8577, 'sınıf': 7695, 'tr': 8216, 'kül': 4547, 'dernek': 1698, 'belediye': 877, 'tekstil': 8002, 'nda': 5481, 'sanayi': 6880, 'proses': 6568, 'ltd': 4779, 'kurum': 4517, 'çalışan': 9447, 'birlik': 1115, 'endüstriyel': 2244, 'katalog': 4108, 'kılavuz': 4556, 'muhtelif': 5249, 'ulusal': 8335, 'yerel': 9040, 'gazete': 2786, 'dergi': 1696, 'yayınlanan': 8937, 'denizcilik': 1655, 'makale': 4818, 'basketbol': 779, 'tofaş': 8187, 'genç': 2886, 'efes': 2111, 'pi': 6223, 'lig': 4670, 'beş': 932, 'bölgesel': 1264, 'ödül': 9586, 'mill': 5106, 'sas': 6908, 'lük': 4784, 'kocae': 4267, 'ahşap': 107, 'yalov': 8772, 'nin': 5568, 'ilk': 3643, 'eğitim': 2472, 'butik': 1245, 'restoran': 6725, 'tesis': 8100, 'yöneticilik': 9200, 'holding': 3443, 'kumaş': 4474, 'ihra': 3523, 'ngilter': 5561, 'ilişki': 3631, 'oyuncu': 6051, 'beşiktaş': 933, 'gurup': 3069, 'ait': 115, 'teksti': 8001, 'şirk': 9926, 'ihracat': 3524, 'itha': 3822, 'danışmanlık': 1559, 'tip': 8179, 'çift': 9534, 'tekn': 7965, 'yat': 8916, 'kadro': 3988, 'yedek': 8995, 'parça': 6098, 'yabanç': 8749, 'operasyon yönet': 5919, 'yönet windows': 9190, 'windows internet': 8658, 'dış ticaret': 2037, 'kali sistem': 4007, 'yıl ay': 9277, 'ay süre': 596, 'özel eğit': 9643, 'eğit kurum': 2459, 'ders vert': 1701, 'alt yap': 250, 'teknik servis': 7983, 'türki nin': 8304, 'nin ilk': 5570, 'holding bünye': 3444, 'yapan firma': 8797, 'satış pazarla': 6975, 'sipariş üret': 7280, 'üret süreç': 9756, 'takım oyuncu': 7788, 'ev teksti': 2372, 'yurtdış satış': 9126, 'fuar organizasyon': 2748, 'müşter ilişki': 5328, 'firma nbsp': 2653, 'nbsp windows': 5460, 'imal yapan': 3659, 'firma satış': 2659, 'yedek parça': 8996, 'satış mağaza': 6965, 'al sat': 176, 'yerl yabanç': 9043, 'servis hizmet': 7187, 'pazar': 6119, 'araştırılma': 450, 'ziyaret': 9361, 'kazanılma': 4179, 'ulaştırılma': 8328, 'ulus': 8332, 'katılım': 4136, 'teşvik': 8134, 'tamamlanma': 7823, 'ihale': 3521, 'katılmak': 4135, 'makine': 4828, 'hammadde': 3260, 'alım': 262, 'satınalma': 6934, 'değerlendirmek': 1784, 'alınacak': 263, 'karşıla': 4087, 'ofi': 5708, 'alma': 232, 'pozisyon': 6356, 'engel': 2255, 'ahlak': 106, 'uzun': 8455, 'çalıştık': 9488, 'caret': 1347, 'bahçe': 700, 'mobilya': 5141, 'gı': 3213, 'kap': 4044, 'dünya': 1971, 'ülke': 9702, 'belirle': 888, 'ikil': 3554, 'görüş': 3132, 'değerlendir': 1774, 'geliştir': 2828, 'oda': 5647, 'arttırmak': 477, 'tic': 8156, 'tema': 8028, 'amir': 294, 'değerlendirilme': 1778, 'raporlanma': 6650, 'yemekhane': 9002, 'yapılacak': 8843, 'inşaat': 3755, 'org': 5961, 'assist': 533, 'ci': 1390, 'geçirmek': 2968, 'stand': 7508, 'marka': 4893, 'değer': 1763, 'korumak': 4386, 'strong': 7563, 'gained': 2767, 'years': 8993, 'managing': 4882, 'staff': 7491, 'various': 8490, 'yen pazar': 9014, 'ulus ara': 8333, 'al süreç': 178, 'etmek müşter': 2358, 'ngiliz alma': 5553, 'ticaret satış': 8162, 'pozisyon çalış': 6363, 'iş tecrübe': 3900, 'uzun yıl': 8462, 'turizm sektör': 8260, 'diş ti': 1860, 'ti caret': 8148, 'satiş pazarla': 6921, 'pazar araştırma': 6122, 'araştırma yapmak': 446, 'hracat operasyon': 3461, 'fuar katıl': 2747, 'müşter sipariş': 5341, 'sipariş takip': 7278, 'takip yen': 7776, 'analiz yapmak': 331, 'rapor hazırlamak': 6634, 'etmek nbsp': 2359, 'müşter temsilcilik': 5347, 'yöne ci': 9140, 'ziyaret yaparak': 9367, 'satış pazarlama': 6976, 'kontrolü personel': 4317, 'strong communication': 7565, 'alışveriş': 279, 'gerçekleştir': 2934, 'yolu': 9110, 'gsm': 3064, 'cihaz': 1394, 'sağlayan': 7064, 'kullanma': 4451, 'sanal': 6877, 'photo': 6208, 'fireworks': 2628, 'visual': 8596, 'studio': 7569, 'sql': 7469, 'html': 3470, 'asp': 525, 'net': 5511, 'turbo': 8255, 'pascal': 6101, 'pro': 6409, 'samsu': 6872, 'lise': 4706, 'endüstri': 2240, 'mayıs': 4925, 'yüksekoku': 9252, 'programcılık': 6496, 'mezu': 5049, 'şimdi': 9921, 'kadar': 3981, 'özellik': 9650, 'arkadaş': 466, 'duyduk': 1947, 'olma': 5832, 'elim': 2216, 'geldik': 2798, 'sağlayarak': 7065, 'yön': 9131, 'yan': 8773, 'sunucu': 7593, 'işletme': 3932, 'ücret': 9698, 'tahsil': 7724, 'alınan': 265, 'çek': 9513, 'montaj': 5160, 'cafe': 1329, 'boş': 1170, 'isteyen': 3807, 'hesap': 3384, 'açm': 638, 'kapa': 4045, 'yardım': 8900, 'teorik': 8068, 'açı': 642, 'mümk': 5311, 'çabuk': 9391, 'hazırlayıp': 3343, 'kalite': 4015, 'hizm': 3411, 'oluşan': 5870, 'ufak': 8315, 'arıza': 499, 'periyodik': 6175, 'bakım': 723, 'temizlik': 8041, 'onarım': 5891, 'okuduk': 5725, 'eleman': 2212, 'başlayıp': 847, 'arız': 496, 'tesp': 8112, 'onar': 5889, 'yükle': 9247, 'siste': 7284, 'atm': 546, 'kurtar': 4501, 'donan': 1880, 'çevr': 9525, 'gere': 2893, 'sağla': 7029, 'memnuniyet': 4981, 'alarak': 215, 'verim': 8549, 'düzenlenen': 1993, 'önem': 9612, 'edin': 2088, 'öğrendik': 9680, 'tamir': 7825, 'yönlendirmek': 9228, 'kurulum': 4514, 'diyalog': 1851, 'ediç': 2106, 'yapıp': 8881, 'sorun': 7432, 'çözme': 9563, 'yoğunluk': 9118, 'gerçekleştirilen': 2941, 'fotoğraf': 2725, 'ilgi bir': 3601, 'ürün satış': 9794, 'powerpoint access': 6336, 'access outlook': 18, 'visual studio': 8599, 'visual basic': 8597, 'sql html': 7471, 'c c': 1310, 'c asp': 1308, 'asp net': 527, 'turbo pascal': 8256, 'endüstri meslek': 2241, 'meslek lise': 5019, 'bilgisayar yazıl': 1013, 'bilgisayar programcılık': 1012, 'mezu olt': 5052, 'lise mezu': 4708, 'mezu olduk': 5051, 'olduk sonr': 5825, 'iş hayat': 3886, 'ihtiyaç duyduk': 3536, 'teknik destek': 7971, 'teknik konu': 7975, 'konu hizmet': 4336, 'zaman kent': 9327, 'bir yan': 1080, 'müşter nbsp': 5336, 'çalış nbsp': 9415, 'nbsp müşteri': 5436, 'müşteri gelen': 5353, 'hızl bir': 3494, 'zaman zaman': 9333, 'periyodik bakım': 6177, 'görev yapt': 3106, 'nbsp bir': 5405, 'bak onar': 711, 'siste kurul': 7290, 'nbsp yazıl': 5461, 'yazıl donan': 8958, 'servis eleman': 7185, 'eleman olarak': 2213, 'müşter memnuniyet': 5335, 'memnuniyet ön': 4984, 'ön plan': 9599, 'nbsp konu': 5426, 'eğitim katılarak': 2476, 'tecrüp edin': 7939, 'servis gelen': 7186, 'vermek nbsp': 8570, 'satış nokta': 6970, 'makine bak': 4829, 'bak onarım': 712, 'arız tespit': 498, 'müşter iletiş': 5327, 'olarak müşteri': 5790, 'satış işlem': 6960, 'yardımç olmak': 8907, 'photoshop or': 6218, 'or derece': 5941, 'çalışacak': 9443, 'şans': 9878, 'microsoft word': 5090, 'olan şirket': 5766, 'poi': 6285, 'yor': 9114, 'lgi': 4642, 'stajer': 7494, 'adalet': 47, 'el': 2169, 'ağ': 659, 'adli': 66, 'power poi': 6330, 'poi nt': 6286, 'nt word': 5617, 'derece bi': 1678, 'bi li': 937, 'bi lgi': 936, 'lgi ler': 4643, 'ek olarak': 2134, 'k bi': 3971, 'bi ri': 941, 'el ett': 2172, 'world': 8715, 'istanbul': 3789, 'egit': 2120, 'görmek': 3119, 'empati': 2231, 'yetenek': 9051, 'kullanmayan': 4453, 'world excel': 8716, 'anado üniversite': 303, 'nsan ilişki': 5609, 'ilişki başarı': 3632, 'yetenek yük': 9063, 'kent geliştir': 4195, 'kariyer hedef': 4075, 'sigar kullanmayan': 7250, 'bankacilik': 746, 'hi': 3398, 'zmet': 9372, 'ın': 9839, 'taşeron': 7895, 'araç': 428, 'sor': 7406, 'çıkar': 9571, 'kaz': 4167, 'olur': 5867, 'kullandık': 4448, 'kaza': 4168, 'acil': 33, 'adre': 84, 'nden': 5486, 'müşavir': 5317, 'edilen': 2078, 'alıp': 271, 'fabrika': 2517, 'vardiya': 8485, 'şehir': 9897, 'turkcell': 8262, 'izmir': 3850, 'mega': 4963, 'hi zmet': 3399, 'bilgisayar program': 1011, 'yetki servis': 9079, 'tesl etmek': 8109, 'lgi li': 4644, 'kadar olan': 3983, 'mali müşavir': 4849, 'bağl olarak': 802, 'yapt microsoft': 8827, 'alarm': 216, 'kamera': 4028, 'wireless': 8685, 'server': 7167, 'datacenter': 1573, 'advanced': 89, 'linux': 4688, 'os': 6006, 'novell': 5607, 'unix': 8362, 'dhcp': 1794, 'dns': 1861, 'paint': 6063, 'shop': 7232, 'coreldraw': 1485, 'clipper': 1412, 'mysql': 5271, 'tcp': 7905, 'ip': 3760, 'ethernet': 2332, 'http': 3473, 'nat': 5388, 'translation': 8235, 'switches': 7616, 'fil': 2601, 'programming': 6511, 'kamera sistem': 4029, 'şlet sistem': 9972, 'sistem ağ': 7302, 'ağ sistem': 661, 'sistem offi': 7311, 'bilgisayar donan': 1004, 'tamir bak': 7826, 'bak montaj': 709, 'bilgi şlem': 993, 'eğit vermek': 2468, 'windows server': 8671, 'server windows': 7178, 'windows nt': 8665, 'nt windows': 5616, 'windows advanced': 8656, 'advanced server': 90, 'mac os': 4794, 'dhcp dns': 1795, 'paint shop': 6065, 'shop pro': 7233, 'ms access': 5183, 'mysql ms': 5272, 'ms sql': 5198, 'sql server': 7476, 'tcp ip': 7906, 'windows windows': 8675, 'bo': 1143, 'işyer': 3937, 'çıkış': 9576, 'esna': 2311, 'uygulanma': 8410, 'yasal': 8913, 'fatur': 2553, 'irsali': 3765, 'v': 8467, 'cari': 1348, 'senet': 7143, 'tse': 8248, 'gör': 3078, 'tanzim': 7839, 'arşivlenme': 504, 'auto': 557, 'plus': 6279, 'türev': 8297, 'mironist': 5120, 'vega': 8507, 'pegasoft': 6152, 'gold': 3024, 'datasoft': 1574, 'paket': 6069, 'aile': 110, 'kullanabilm': 4439, 'seç': 7218, 'dosyalari': 1900, 'mevzua': 5042, 'ssk': 7484, 'bulm': 1197, 'stenen': 7531, 'şyer': 9993, 'tel': 8006, 'performans': 6168, 'değerlen': 1772, 'ldi': 4594, 'yaptim': 8830, 'ai': 108, 'şletmen': 9976, 'muhasebesel': 5218, 'yürütülme': 9265, 'alınarak': 266, 'girilme': 2991, 'showroom': 7237, 'teşhir': 8133, 'hale': 3248, 'gerçekleştirerek': 2939, 'anlam': 357, 'ticari': 8165, 'yapılıp': 8879, 'getirilme': 2955, 'uygula': 8392, 'çerçeve': 9520, 'ruhsat': 6791, 'banka': 740, 'kampanya': 4032, 'işle': 3909, 'hukuk': 3479, 'bakanlık': 717, 'arayarak': 424, 'muayen': 5213, 'hastalık': 3281, 'poliklinik': 6301, 'yönlendirme': 9227, 'ücretlendir': 9699, 'tahsila': 7725, 'oluşturulma': 5881, 'vererek': 8530, 'başlatılma': 844, 'sonlandırılma': 7385, 'devir': 1753, 'yakın': 8768, 'geçtik': 2977, 'tüketici': 8291, 'sağlanarak': 7050, 'zemin': 9342, 'bordrola': 1155, 'üret yapılan': 9762, 'yapılan ürün': 8848, 'fatur irsali': 2557, 'v b': 8468, 'cari hesap': 1349, 'takip çek': 7777, 'çek senet': 9514, 'auto plus': 559, 'plus türev': 6281, 'türev mironist': 8298, 'mironist vega': 5121, 'vega logo': 8508, 'logo pegasoft': 4753, 'pegasoft logo': 6153, 'logo gold': 4747, 'gold datasoft': 3025, 'datasoft paket': 1575, 'paket program': 6071, 'program microsoft': 6483, 'microsoft windows': 5089, 'windows offi': 8666, 'offi aile': 5676, 'aile internet': 111, 'internet kullanabilm': 3742, 'kullanabilm beceri': 4440, 'beceri sahip': 862, 'gi bi': 2979, 'ni tel': 5566, 'tel kler': 8007, 'değerlen rme': 1773, 'bi ldi': 935, 'halk li': 3257, 'n gerçekleş': 5369, 'birim gelen': 1109, 'siste girilme': 7286, 'hazır hale': 3327, 'kadar süreç': 3984, 'iç gerek': 3856, 'bayi satış': 791, 'ticari araç': 8166, 'fatura kontrolü': 2560, 'hale getirilme': 3249, 'satış tanıt': 6990, 'yapılma satış': 8869, 'satış sonra': 6983, 'banka işlem': 742, 'araç sahip': 435, 'tesl edilme': 8108, 'edilme satış': 2084, 'sağlık bakanlık': 7069, 'olmak isteyen': 5842, 'durum gör': 1940, 'olma sağlamak': 5835, 'oluşturulma takip': 5882, 'kayıt alt': 4161, 'alt alınma': 249, 'günlük kas': 3179, 'son işlem': 7375, 'yen bir': 9007, 'ihtiyaç olan': 3541, 'ssk mevzu': 7485, 'performans yönet': 6171, 'özlük işlem': 9668, 'ş hukuk': 9855, 'dağılım': 1586, 'wi': 8647, 'ndows': 5488, 'ilgilenmek': 3624, 'bulmak': 1199, 'asker': 516, 'ban': 732, 'önce': 9602, 'hijyen': 3406, 'verme': 8566, 'çıkan': 9570, 'anın': 376, 'restaurant': 6723, 'bar': 762, 'sür': 7635, 'giderilme': 2986, 'der': 1675, 'faturalari': 2563, 'şten': 9980, 'sürüç': 7678, 'evraklari': 2385, 'hazırlanıp': 3341, 'iptal': 3764, 'harcama': 3267, 'gönderilme': 3075, 'tedarikç': 7947, 'tahsilat': 7726, 'maaş': 4791, 'işlenme': 3923, 'iletilme': 3579, 'kıs': 4558, 'özet': 9658, 'sler': 7338, 'doğr şekil': 1909, 'wi ndows': 8648, 'ndows word': 5490, 'bir proje': 1070, 'kontrol yapmak': 4310, 'çalışan personel': 9448, 'iyi şekil': 3840, 'gelen müşteri': 2805, 'sür iç': 7636, 'sorun giderilme': 7433, 'sağlanma müşter': 7053, 'memnuniyet sağlanma': 4983, 'gi der': 2980, 'iş bi': 3875, 'gerek raporlama': 2905, 'süreç takip': 7668, 'yapılma müşter': 8864, 'müşter tedarikç': 5344, 'tahsilat takip': 7727, 'takip sağlanma': 7768, 'zaman yapılma': 9330, 'yapılma sağlanma': 8871, 'takip personel': 7760, 'personel maaş': 6193, 'ödeme yapılma': 9584, 'yapılma banka': 8856, 'yapılma gerek': 8858, 'yaptık işler': 8835, 'kıs bir': 4559, 'muhasep personel': 5236, 'işlem yürütülme': 3921, 'gelen müşter': 2804, 'müşter ler': 5332, 'sağlamak gerek': 7035, 'hracat ithalat': 3459, 'hracat şlem': 3463, 'satinalm': 6915, 'ur': 8368, 'programlari': 6503, 'erp': 2286, 'operasyonel': 5920, 'rol': 6774, 'salon': 6870, 'ta': 7707, 'g': 2764, 'rev': 6731, 'ol': 5737, 'ihtiya': 3531, 'bitim': 1125, 'denetim': 1630, 'sarf': 6906, 'il': 3562, 'um': 8344, 'in': 3677, 'kurye': 4534, 'soruns': 7435, 'aras': 419, 'elemani': 2214, 'lmas': 4729, 'liste': 4711, 'gir': 2988, 'promosyon': 6562, 'mutfak': 5259, 'ro': 6769, 'se': 7092, 'planlanma': 6260, 'organizasyonel': 5980, 'sun': 7582, 'ç': 9385, 'kural': 4487, 'güncellenme': 3171, 'bildirim': 956, 'olum': 5862, 'referans': 6672, 'izin': 3846, 'ettik': 2365, 'kağıt': 4182, 'derg': 1695, 'koordin': 4370, 'ajans': 117, 'matba': 4912, 'freehand': 2736, 'faaliyet takip': 2511, 'offi programlari': 5694, 'erp oracle': 2290, 'n n': 5371, 'aktif rol': 152, 'g rev': 2765, 'personel servis': 6195, 'sorum olmak': 7416, 'malzeme sat': 4860, 'sarf malzeme': 6907, 'depo stok': 1671, 'konu ilgi': 4337, 'yap lmas': 8783, 'malzeme tem': 4866, 'tem edilme': 8026, 'vb konu': 8500, 'sat alınma': 6912, 'bir iş': 1056, 'yönet süreç': 9186, 'süreç yönetilme': 7672, 'ç dış': 9387, 'kural uygun': 4488, 'uygun olarak': 8422, 'giriş çıkış': 2995, 'ilgi birim': 3602, 'merkez şube': 5007, 'şube müdür': 9988, 'özlük dosya': 9667, 'dosya oluşturulma': 1896, 'düzen olarak': 1987, 'ger bildirim': 2890, 'evrak hazırlanma': 2383, 'mü yardımcı': 5277, 'telefon trafik': 8013, 'aylık olarak': 610, 'önce sonra': 9603, 'koordin etmek': 4372, 'plan oluşturulma': 6238, 'aç': 636, 'bur': 1235, 'girt': 3003, 'site': 7321, 'paketle': 6075, 'çaliş': 9392, 'geçt': 2976, 'kavra': 4138, 'yi seviye': 9090, 'kıs süre': 4561, 'olarak çaliş': 5802, 'program kullan': 6478, 'sorumluluk sahip': 7430, 'hızl öğren': 3500, 'disiplin sahip': 1843, 'gemi': 2862, 'liderlik': 4664, 'yapabilm': 8790, 'çalışabilen': 9439, 'görünüş': 3130, 'adaptasyon': 50, 'geliş açık': 2815, 'açık takım': 649, 'takım liderlik': 7787, 'görünüş öne': 3131, 'öne veren': 9610, 'emlak': 2229, 'fortran': 2721, 'autocad': 560, 'soli': 7359, 'netcad': 5527, 'ehl': 2122, 'sah': 6816, 'şef': 9891, 'ak': 119, 'gida': 2983, 'otomasyon': 6020, 'metraj': 5030, 'hakediş': 3234, 'ehl yet': 2123, 'eylül': 2443, 'ktisadi': 4415, 'bil': 947, 'garson': 2772, 'sır': 7704, 'sigor': 7254, 'sevi': 7202, 'talya': 7803, 'müzik': 5314, 'ktisadi dari': 4416, 'bil fakülte': 948, 'bun yan': 1234, 'yan sır': 8775, 'sigor şirket': 7256, 'iler sevi': 3571, 'or sevi': 5944, 'olmak üzer': 5847, 'nternet': 5620, 'sentez': 7147, 'electra': 2176, 'micro': 5071, 'ege': 2118, 'yaklaşık': 8763, 'yılı': 9320, 'yarı': 8910, 'ifs': 3520, 'ortala': 5998, 'denet': 1629, 'iyileştir': 3841, 'hek': 3370, 'ge': 2790, 'denetçilik': 1635, 'muğl': 5264, 'şletme': 9974, 'denetç': 1634, 'van': 8479, 'pastane': 6107, 'housekeeping': 3454, 'menü': 4990, 'kurulma': 4513, 'laboratuar': 4574, 'arge': 461, 'izn': 3851, 'staj': 7492, 'standart': 7512, 'yöntem': 9230, 'gmp': 3019, 'point nternet': 6294, 'ege bölge': 2119, 'yaklaşık yıl': 8764, 'yıl süre': 9299, 'bağıms dene': 813, 'özel hastane': 9645, 'şyer hek': 9994, 'ge departman': 2791, 'yap olduk': 8784, 'ürün n': 9791, 'dene mi': 1627, 'rakip firma': 6629, 'analiz yapılma': 332, 'iso kali': 3782, 'sistem kurulma': 7308, 'kali kontrol': 4004, 'yapılma ürün': 8876, 'ürün geliştir': 9780, 'al iş': 168, 'takip sorum': 7771, 'şlet müdür': 9968, 'lks': 4724, 'akınsoft': 160, 'md olarak': 4943, 'nbsp nbsp': 5437, 'nbsp çalış': 5469, 'yiyecek': 9097, 'içecek': 3860, 'tüke': 8290, 'demirbaş': 1615, 'center': 1369, 'mal': 4839, 'nşaa': 5634, 'makina': 4825, 'muhasep departman': 5224, 'bütç çalışma': 1286, 'iş makina': 3890, 'konu bilgi': 4326, 'pri': 6396, 'lgil': 4648, 'avm': 584, 'gider': 2984, 'ciro': 1400, 'hesapla': 3391, 'kesm': 4214, 'havacılık': 3297, 'poliçe': 6304, 'zmir': 9375, 'doğan': 1903, 'atatürk': 540, 'edebiyat': 2069, 'erzur': 2301, 'kendi': 4189, 'vatandaş': 8495, 'ail': 109, 'baba': 691, 'köy': 4546, 'enstitü': 2264, 'cumhuriyet': 1517, 'eğitimç': 2481, 'olmuş': 5857, 'elektrik': 2186, 'mühendi': 5295, 'dolayı': 1875, 'teşekkür': 8131, 'sunar': 7587, 'başar': 817, 'diler': 1822, 'görüşmek': 3136, 'dilek': 1821, 'h': 3216, 'hayal': 3307, 'belirlenme': 896, 'sayı': 7022, 'bütçe': 1287, 'kira': 4234, 'ortaklık': 5997, 'kurulan': 4512, 'direktör': 1837, 'mutabakat': 5257, 'ba': 688, 'bs': 1184, 'defter': 1597, 'odas': 5666, 'adres': 85, 'değişiklik': 1791, 'sicil': 7245, 'noter': 5601, 'resm': 6710, 'shift': 7229, 'gümrük': 3157, 'beyanname': 927, 'ocak': 5646, 'istenen': 3802, 'hakk': 3242, 'toplanma': 8205, 'house': 3453, 'keep': 4186, 'planlama': 6255, 'koşul': 4399, 'multip': 5252, 'task': 7888, 'say lgil': 7008, 'ödem takip': 9580, 'alış satış': 277, 'satış fatura': 6952, 'personel giriş': 6191, 'atatürk üniversite': 541, 'ngiliz dil': 5558, 'dil olarak': 1820, 'görev sorumluluk': 3099, 'sorumluluk alan': 7423, 'konu uzman': 4348, 'gerek olan': 2903, 'pazarla plan': 6133, 'oluşturulma uygulanma': 5883, 'uygulanma sağlanma': 8412, 'takip raporlanma': 7764, 'logo muhasep': 4752, 'muhasep program': 5238, 'alan hizmet': 201, 'muhasep finans': 5226, 'finans departman': 2610, 'ba bs': 689, 'personel puantaj': 6194, 'destek verilme': 1725, 'hakk bilgi': 3243, 'iş planlama': 3894, 'yürütülme sağlamak': 9267, 'genel düzen': 2868, 'memnuniyet sağlamak': 4982, 'uzun sür': 8459, 'tan': 7827, 'owner': 6047, 'agil': 102, 'ekip': 2137, 'aktarılma': 144, 'development': 1749, 'amaç': 284, 'ha': 3217, 'uygulamak': 8408, 'paylaşmak': 6115, 'sözl': 7627, 'baş': 815, 'başka': 827, 'ruh': 6789, 'yapıç': 8884, 'temsil': 8050, 'domai': 1878, 'driven': 1928, 'design': 1705, 'solid': 7361, 'prensip': 6381, 'mvc': 5265, 'jquery': 3961, 'xml': 8736, 'json': 3967, 'wcf': 8625, 'javascript': 3946, 'ajax': 118, 'devexpress': 1750, 'linq': 4687, 'code': 1425, 'first': 2673, 'entity': 2272, 'framework': 2729, 'nosql': 5597, 'db': 1589, 'redis': 6670, 'elasticsearch': 2175, 'big': 945, 'da': 1528, 'search': 7093, 'altyapı': 257, 'tfs': 8135, 'jira': 3956, 'düzeltilme': 1981, 'lead': 4598, 'jav': 3940, 'mssql': 5208, 'css': 1512, 'smart': 7342, 'çağrı': 9510, 'yazılımsal': 8969, 'kullanıcı': 4455, 'test': 8119, 'senaryo': 7139, 'third': 8143, 'party': 6097, 'yazılım': 8968, 'geliştirilme': 2847, 'mimari': 5110, 'android': 345, 'uzmanlık': 8453, 'ad': 45, 'saat': 6802, 'veri': 8538, 'istenilen': 3803, 'edilip': 2080, 'bulunma': 1211, 'kapı': 4054, 'yanlış': 8778, 'eclip': 2058, 'ekran': 2162, 'etkileş': 2349, 'belirtmek': 903, 'visio': 8590, 'arayüz': 425, 'kullanılan': 4459, 'entegr': 2268, 'kodla': 4270, 'sayfa': 7019, 'güncelle': 3169, 'platform': 6271, 'çerik': 9518, 'gelme': 2860, 'okuyuç': 5736, 'kart': 4082, 'fonksiyon': 2703, 'kıdem': 4555, 'ortam': 5999, 'backend': 695, 'frontend': 2743, 'teminat': 8039, 'job': 3957, 'getir': 2950, 'kret': 4403, 'mimar': 5109, 'oluşturup': 5885, 'architecture': 454, 'database': 1571, 'structure': 7566, 'özg': 9659, 'sharepoint': 7227, 'yarat': 8890, 'com': 1432, 'hibernate': 3400, 'spring': 7462, 'yazil': 8942, 'taban': 7709, 'serv': 7166, 'yaratmak': 8893, 'xslt': 8746, 'uzer': 8438, 'kod': 4269, 'facebook': 2519, 'portal': 6308, 'seo': 7148, 'soap': 7349, 'sqlite': 7479, 'veritaban': 8561, 'ado': 71, 'scrum': 7089, 'ui': 8318, 'so': 7348, 'restful': 6724, 'simp': 7261, 'object': 5639, 'protocol': 6574, 'mongodb': 5157, 'core': 1481, 'uml': 8345, 'görev tan': 3101, 'yazıl ekip': 8959, 'yazıl uzman': 8966, 'uzman kadro': 8441, 'iş al': 3868, 'ilgi eğit': 3605, 'sorumluluk yer': 7431, 'alt almak': 248, 'yapılma sağlamak': 8870, 'eğit ihtiyaç': 2456, 'yazı sözl': 8953, 'sözl iletiş': 7628, 'üst seviye': 9808, 'tek baş': 7958, 'takım ruh': 7789, 'şekil temsil': 9905, 'temsil edilme': 8052, 'edilme sağlamak': 2085, 'yazıl geliştir': 8960, 'mvc c': 5267, 'net mvc': 5519, 'xml json': 8737, 'microsoft sql': 5085, 'web api': 8627, 'entity framework': 2273, 'big da': 946, 'geliştir ekip': 2829, 'jav c': 3941, 'net sql': 5521, 'html css': 3471, 'css javascript': 1514, 'çağrı merkez': 9511, 'iş süreç': 3897, 'çalış saat': 9423, 'ms excel': 5185, 'excel ms': 2397, 'ver giriş': 8515, 'progra ms': 6457, 'ms visio': 5199, 'istek doğrultu': 3797, 'microsoft net': 5078, 'net web': 5524, 'ler seviye': 4625, 'web design': 8628, 'web sayfa': 8631, 'uygula geliştir': 8393, 'dinamik bir': 1826, 'detay bilgi': 1732, 'katıl banka': 4130, 'yazıl mühendi': 8961, 'stanbul asya': 7501, 'yap kret': 8782, 'kret banka': 4405, 'yöne siste': 9148, 'geliştir proje': 2833, 'com tr': 1433, 'stanbul avrup': 7502, 'c net': 1314, 'web taban': 8637, 'web serv': 8632, 'web site': 8636, 'adobe fireworks': 77, 'ado net': 72, 'agil scrum': 103, 'net core': 5514, 'html javascript': 3472, 'net asp': 5512, 'asp asp': 526, 'adl': 65, 'ios': 3757, 'back': 694, 'geliştirme': 2851, 'katman': 4126, 'oriented': 5986, 'oop': 5902, 'araştır': 440, 'çözm': 9559, 'mobi': 5137, 'xamarin': 8733, 'üstlen': 9813, 'mobil': 5138, 'entegrasyon': 2269, 'att': 548, 'logi': 4738, 'react': 6661, 'bootstrap': 1150, 'responsiv': 6719, 'tüm': 8293, 'nesn': 5510, 'programla': 6499, 'dan': 1545, 'bitirdik': 1129, 'dönüş': 1967, 'ilgileniyor': 3623, 'xhtml': 8735, 'foundation': 2727, 'angu': 347, 'full': 2749, 'stack': 7490, 'developer': 1747, 'tsql': 8249, 'web servis': 8634, 'geliştirme devam': 2853, 'net c': 5513, 'ver taban': 8517, 'işlem ilgi': 3915, 'yıllık deney': 9314, 'deney sahip': 1641, 'katman mimari': 4127, 'object oriented': 5640, 'oriented programming': 5987, 'konu iyi': 4338, 'derece bilgi': 1680, 'bilgi sahip': 983, 'araştır geliştir': 441, 'problem çözm': 6418, 'konu yetenek': 4349, 'proje yer': 6544, 'yer al': 9030, 'sorumluluk al': 7419, 'tecrübe mevcut': 7929, 'alan kent': 205, 'kent geliştirme': 4197, 'devam etmek': 1741, 'proje görev': 6526, 'al proje': 175, 'görev üstlen': 3111, 'konu tecrübe': 4345, 'görev aldık': 3091, 'aldık proje': 222, 'mobil uygula': 5140, 'devam ediyor': 1739, 'geliştir konu': 2832, 'firma görev': 2644, 'javascript html': 3947, 'microsoft visual': 5088, 'full stack': 2750, 'serüven': 7190, 'eder': 2071, 'teknoloji': 7990, 'www': 8728, 'wordpress': 8704, 'dağı': 1585, 'maker': 4821, 'asansör': 505, 'izle': 3847, 'digital': 1800, 'geçmek': 2973, 'değişen': 1789, 'ayak': 597, 'nesil': 5509, 'zorl': 9380, 'yolculuk': 9109, 'dökümantasyon': 1958, 'yönetiyor': 9212, 'penetrasyon': 6157, 'tarz': 7867, 'ilgilen': 3622, 'kütüphane': 4551, 'teşekkür eder': 8132, 'c jav': 1312, 'yöne sistem': 9149, 'sistem microsoft': 7309, 'ağ güvenlik': 660, 'web si': 8635, 'hızl çöz': 3499, 'üzer çalış': 9829, 'çalış yapt': 9429, 'stajyer olarak': 7496, 'server microsoft': 7171, 'nternet bankacılık': 5621, 'çaliştik': 9399, 'store': 7544, 'audit': 554, 'optik': 5936, 'metodoloji': 5028, 'kullanılarak': 4462, 'hazırlanan': 3333, 'belirlenen': 892, 'iyileştirilme': 3843, 'geliştirilen': 2846, 'olmayan': 5849, 'kullanıç': 4469, 'sunuç': 7598, 'komponent': 4283, 'kot': 4390, 'tablo': 7716, 'stored': 7545, 'procedure': 6421, 'vue': 8616, 'js': 3965, 'git': 3005, 'geliştiriç': 2850, 'postman': 6322, 'vmware': 8605, 'hyper': 3487, 'apache': 378, 'nativ': 5390, 'rest': 6721, 'win': 8652, 'app': 384, 'cross': 1508, 'geçen': 2961, 'ols': 5858, 'hobi': 3438, 'oyun': 6050, 'google': 3032, 'adet': 62, 'ux': 8380, 'içerik': 3865, 'customer': 1519, 'communications': 1443, 'eğitmen': 2483, 'ziraat': 9356, 'master': 4911, 'elektronik': 2205, 'tasarım': 7884, 'modül': 5154, 'şart': 9883, 'script': 7086, 'operatör': 5929, 'danışmanlık hizm': 1562, 'hizm veren': 3412, 'javascript jquery': 3948, 'web form': 8629, 'jquery ajax': 3962, 'tablo hazırlanma': 7718, 'stored procedure': 7546, 'css html': 1513, 'jquery bootstrap': 3963, 'aktif bir': 149, 'android studio': 346, 'hyper v': 3488, 'react nativ': 6662, 'cross platform': 1509, 'geçen gün': 2962, 'hobi olarak': 3439, 'kent geliştirmek': 4198, 'net developer': 5515, 'ziraat banka': 9357, 'müşter istek': 5329, 'eğit verilme': 2467, 'emeklilik': 2225, 'email': 2219, 'intellige': 3726, 'trainer': 8225, 'director': 1832, 'max': 4922, 'cobol': 1424, 'dhtml': 1796, 'perl': 6180, 'action': 38, 'xcode': 8734, 'bireysel': 1095, 'sunulan': 7594, 'akıl': 158, 'bağlan': 806, 'cctv': 1363, 'canl': 1341, 'altyap': 256, 'devamlılık': 1744, 'bütün': 1290, 'bası': 781, 'onlin': 5900, 'mecra': 4947, 'cd': 1364, 'isim': 3775, 'top': 8197, 'kullanılacak': 4458, 'ağın': 665, 'sıcak': 7682, 'edecek': 2070, 'veriyor': 8563, 'bütçele': 1289, 'tamam': 7817, 'bulunuyor': 1223, 'dijital': 1803, 'desktop': 1713, 'alıyor': 273, 'editör': 2102, 'ma': 4790, 'builder': 1192, 'effects': 2114, 'language': 4579, 'integrated': 3724, 'query': 6616, 'project': 6553, 'content': 1470, 'enterpr': 2270, 'application': 386, 'commer': 1438, 'iis': 3546, 'fusion': 2755, 'pl': 6231, 'delph': 1607, 'proje geliştir': 6525, 'proje yönetim': 6549, 'yönetim yapmak': 9210, 'adobe dreamweaver': 75, 'c pascal': 1315, 'sql sql': 7477, 'server sql': 7176, 'php html': 6221, 'jav script': 3944, 'flash action': 2690, 'action script': 39, 'yapmak proje': 8818, 'çalışma yapmak': 9472, 'olarak firma': 5778, 'tasar geliştir': 7870, 'malzeme satış': 4861, 'ilgi olarak': 3614, 'sıcak satış': 7683, 'satış takip': 6989, 'takip edecek': 7742, 'son kullanıç': 7379, 'sağlık sektör': 7075, 'uluslarara alan': 8339, 'ilaç firma': 3566, 'geliştir süreç': 2834, 'yazıl proje': 8963, 'olarak rol': 5792, 'yazıl destek': 8956, 'adobe effects': 76, 'project management': 6555, 'application server': 387, 'pl sql': 6232, 'delph c': 1608, 'studio max': 7571, 'adwords': 92, 'analytics': 340, 'sem': 7135, 'joom': 3959, 'kablos': 3979, 'haberleş': 3220, 'edindik': 2091, 'trent': 8241, 'gerçekleştirme': 2944, 'halen': 3251, 'hacmi': 3222, 'genişletilme': 2884, 'saha': 6822, 'birbir': 1092, 'gereklilik': 2910, 'bakırköy': 727, 'bahçeliev': 701, 'merter': 5009, 'avcı': 582, 'esenyurt': 2306, 'büyükçekme': 1295, 'sketchup': 7333, 'lan': 4576, 'local': 4734, 'area': 457, 'sah satış': 6820, 'dijital pazarla': 1804, 'satış faaliyet': 6951, 'google adwords': 3033, 'adwords google': 93, 'google analytics': 3034, 'seo sem': 7149, 'firma ürün': 2670, 'http www': 3475, 'pc donan': 6147, 'iler düzey': 3570, 'var olan': 8482, 'olan ürün': 5764, 'ürün hizmet': 9784, 'aktif satış': 153, 'adobe illustrator': 79, 'lan local': 4577, 'local area': 4735, 'area network': 458, 'svn': 7610, 'kiosk': 4231, 'studio net': 7572, 'net vb': 5523, 'vb net': 8502, 'c ms': 1313, 'sql mysql': 7473, 'avea': 583, 'razor': 6656, 'panel': 6077, 'görüntü': 3126, 'yönlendir': 9223, 'hariç': 3272, 'video': 8582, 'youtube': 9116, 'kanal': 4038, 'https': 3476, 'user': 8376, 'msoffi': 5207, 'vba': 8503, 'kitap': 4237, 'aşağı': 675, 'bilmek': 1033, 'hav': 3296, 'üyelik': 9817, 'döviz': 1970, 'bin': 1034, 'pane': 6076, 'hayati': 3315, 'kuruluş': 4515, 'it': 3821, 'yüz': 9268, 'wpf': 8721, 'front': 2739, 'page': 6058, 'makro': 4836, 'kısm': 4565, 'net entity': 5516, 'firma ait': 2631, 'https www': 3477, 'www youtube': 8730, 'youtube com': 9117, 'basic net': 775, 'excel vba': 2405, 'access sql': 22, 'com www': 1434, 'uluslarara bir': 8340, 'firma sahip': 2657, 'üzer satış': 9826, 'satış yapmak': 6997, 'basic ms': 774, 'front page': 2742, 'proje sorum': 6536, 'kullanarak firma': 4445, 'firma iç': 2646, 'server ms': 7172, 'programcı': 6495, 'dört': 1969, 'bazl': 795, 'docker': 1864, 'postgresql': 6321, 'webforms': 8641, 'rfid': 6745, 'meslek hayat': 5018, 'hayat yıl': 3314, 'olarak başl': 5772, 'web programla': 8630, 'uzman olarak': 8443, 'çalış yıl': 9432, 'grup bünye': 3055, 'yıl kadar': 9291, 'hizmet vert': 3435, 'kurumsal firma': 4521, 'firma proje': 2656, 'proje bazl': 6521, 'yi düzey': 9086, 'net webforms': 5525, 'webforms mvc': 8642, 'mvc web': 5268, 'ler sevi': 4624, 'primavera': 6401, 'la': 4572, 'universite': 8359, 'akademik': 123, 'siber': 7244, 'girdik': 2989, 'süper': 7634, 'konfigürasyon': 4291, 'yapacak': 8792, 'soru': 7410, 'sunum': 7596, 'bilgilendir': 994, 'sap ms': 6896, 'jav javascript': 3943, 'framework asp': 2730, 'sertifika al': 7161, 'üniversite nde': 9724, 'ortak olarak': 5996, 'türk telekom': 8300, 'kurul konfigürasyon': 4507, 'yazıl test': 8965, 'uzak bağlan': 8437, 'problem analiz': 6415, 'analiz ederek': 319, 'algoritma': 225, 'masaüs': 4908, 'package': 6055, 'function': 2752, 'joi': 3958, 'restore': 6726, 'crystal': 1510, 'report': 6695, 'webapi': 8640, 'protokol': 6575, 'forms': 2717, 'global': 3014, 'validasyon': 8477, 'araştırmaç': 449, 'sonu': 7396, 'vazgeçilmez': 8496, 'arduino': 456, 'net framework': 5517, 'web services': 8633, 'takım çalışma': 7792, 'verilen görev': 8543, 'problem çözme': 6419, 'dönemsel': 1964, 'paylaş': 6114, 'su': 7574, 'doğal': 1901, 'gaz': 2785, 'sayaç': 7017, 'bina': 1035, 'daire': 1538, 'anlık': 365, 'oluşmak': 5871, 'depola': 1674, 'software': 7353, 'tarih': 7862, 'abd': 6, 'yapılmak': 8878, 'sürek': 7645, 'tekrar': 7998, 'esk': 2309, 'motivasyon': 5172, 'geliştirebilecek': 2840, 'genellik': 2879, 'yaparken': 8801, 'mutl': 5260, 'olmama': 5848, 'seçenek': 7219, 'olmadık': 5838, 'içeri': 3862, 'ayrıl': 622, 'angularjs': 349, 'proje çalış': 6550, 'elektronik kart': 2210, 'mysql mssql': 5273, 'çalışmak olduk': 9486, 'tarih ara': 7863, 'kıs döne': 4560, 'veren bir': 8526, 'çalış proje': 9422, 'front end': 2740, 'sürek kent': 7649, 'zaman doğr': 9323, 'üzer çalışmak': 9831, 'iyi bir': 3832, 'bir kariyer': 1057, 'bir sür': 1076, 'sür içeri': 7637, 'iş ayrıl': 3872, 'designer': 1708, 'biliş': 1025, 'haya': 3302, 'severek': 7200, 'biri': 1103, 'ekle': 2157, 'algorithms': 224, 'scie': 7083, 'unity': 8358, 'activ': 41, 'directory': 1833, 'tiger': 8170, 'github': 3007, 'transact': 8231, 'eng': 2251, 'başlangıç seviye': 843, 'angu js': 348, 'yöne biliş': 9139, 'biliş sistem': 1028, 'yazıl alan': 8955, 'geliştirmek isteyen': 2858, 'alan kariyer': 204, 'kariyer devam': 4072, 'sap program': 6902, 'microsoft activ': 5074, 'activ directory': 42, 'logo tiger': 4755, 'tiger enterpr': 8171, 'powerpoint microsoft': 6344, 'word logo': 8697, 'javascript object': 3949, 'transact sql': 8232, 'azure': 635, 'nodejs': 5586, 'signalr': 7253, 'yaklaş': 8760, 'istiyor': 3814, 'kablola': 3978, 'postgre': 6319, 'cloud': 1414, 'controls': 1477, 'mssql server': 5210, 'odak yaklaş': 5657, 'frontpage': 2744, 'netbeans': 5526, 'çalışılan': 9498, 'otomatik': 6025, 'bağlantı': 808, 'hassas': 3279, 'kontrollü': 4314, 'robot': 6770, 'kol': 4271, 'aktar': 142, 'terminal': 8092, 'yenilenme': 9024, 'toad': 8186, 'plc': 6274, 'sağl': 7027, 'atan': 539, 'kablo': 3977, 'terminali': 8093, 'yatır': 8928, 'ayrıştır': 627, 'ölçm': 9590, 'barkod': 763, 'stasyon': 7522, 'konveyör': 4365, 'pratik': 6374, 'tasarruf': 7882, 'lokasyon': 4768, 'yönl': 9222, 'doğruluk': 1915, 'adım': 94, 'nın': 5633, 'çıkma': 9575, 'öncek': 9604, 'gördük': 3080, 'aksaklık': 135, 'gerekir': 2909, 'tarif': 7861, 'versiyon': 8576, 'jsf': 3966, 'jsp': 3968, 'temel': 8030, 'verilmek': 8548, 'geliştiril': 2845, 'kimya': 4226, 'gebz': 2794, 'değerlendirme': 1782, 'köpr': 4544, 'nt xp': 5618, 'pascal delph': 6104, 'donan bilgi': 1881, 'c vb': 1320, 'yazıl sektör': 8964, 'görev yer': 3109, 'oracle pl': 5953, 'kontrol yapılma': 4311, 'kargo takip': 4068, 'takip sistem': 7770, 'el terminali': 2174, 'nbsp takip': 5453, 'takip işlem': 7752, 'işlem gerçekleştirilme': 3913, 'sağlanma nbsp': 7054, 'otomasyon sistem': 6024, 'siste proje': 7294, 'siste üzer': 7300, 'nbsp tam': 5455, 'yapmak windows': 8820, 'ilgi bölüm': 3603, 'studio c': 7570, 'proje kapsam': 6529, 'sistem üzer': 7317, 'aras kargo': 420, 'bölge bulunan': 1260, 'yönelik çalış': 9153, 'oracle sap': 5955, 'cevap': 1378, 'verebilmek': 8522, 'lab': 4573, 'modü': 5153, 'zimmet': 9349, 'ser': 7150, 'numara': 5627, 'istatis': 3791, 'doktor': 1869, 'hak': 3232, 'ediş': 2107, 'hesaplama': 3392, 'prim': 6398, 'hesaplanma': 3393, 'geçiç': 2969, 'bildir': 952, 'gönder': 3074, 'hazırlan': 3332, 'anket': 355, 'sdk': 7091, 'çıkarmak': 9572, 'kobi': 4266, 'sanat': 6879, 'yukarı': 9120, 'belirtilen': 901, 'cms': 1418, 'obase': 5638, 'ce': 1365, 'migros': 5094, 'kullanan': 4442, 'tamamlan': 7821, 'eczane': 2061, 'sgk': 7225, 'laç': 4588, 'madde': 4802, 'enerj': 2247, 'kanban': 4039, 'programla dil': 6500, 'hastane otomasyon': 3287, 'bun ilgi': 1231, 'hak ediş': 3233, 'kali yönet': 4011, 'yapılma ilgi': 8860, 'net teknoloji': 5522, 'teknoloji c': 7991, 'c builder': 1309, 'uzun bir': 8456, 'bir süre': 1077, 'alan nbsp': 206, 'işle siste': 3910, 'mobil cihaz': 5139, 'hastane bilgi': 3283, 'bilgi siste': 984, 'geliştir faaliyet': 2830, 'özellik sahip': 9653, 'üretiç firma': 9773, 'bir progra': 1069, 'inter': 3729, 'next': 5547, 'pake': 6068, 'risk': 6755, 'zeka': 9341, 'finansal': 2616, 'sigorta': 7257, 'bes': 922, 'databases': 1572, 'sybase': 7617, 'source': 7440, 'total': 8212, 'typescript': 8285, 'bilg': 965, 'peraken': 6160, 'kamu': 4033, 'analist': 316, 'ark': 465, 'mod': 5142, 'ouml': 6034, 'komutanlık': 4286, 'geçir': 2966, 'migration': 5093, 'beledi': 876, 'veril': 8539, 'sw': 7612, 'zincir': 9351, 'anahtar': 304, 'kullanılmak': 4464, 'unit': 8355, 'tommy': 8191, 'hilfiger': 3408, 'rf': 6744, 'warehouse': 8621, 'çimento': 9537, 'tübi': 8287, 'use': 8374, 'case': 1350, 'potansiyel': 6324, 'pre': 6376, 'değişik': 1790, 'eşit': 2488, 'evr': 2381, 'tar': 7853, 'yazılımç': 8970, 'akbank': 125, 'kendo': 4192, 'sayılabilir': 7023, 'mw': 5269, 'call': 1331, 'kullanıyor': 4468, 'turk': 8261, 'analis': 315, 'vodafone': 8606, 'level': 4638, 'order': 5959, 'siebel': 7246, 'qbasic': 6606, 'risk yönet': 6760, 'yönet raporla': 9175, 'ş zeka': 9876, 'emeklilik hayat': 2226, 'hayat sigorta': 3312, 'sql ms': 7472, 'oracle oracle': 5952, 'ms project': 5196, 'powerpoint word': 6350, 'os ms': 6007, 'dos windows': 1892, 'xp vista': 8743, 'vista windows': 8595, 'bilg var': 969, 'oracle sql': 5956, 'sektör çalış': 7124, 'proje yazıl': 6543, 'işle sistem': 3911, 'program ms': 6484, 'bilgi işle': 981, 'lider olarak': 4663, 'forms reports': 2718, 'proje çalışma': 6551, 'çalışma ilgi': 9461, 'ağırlık olarak': 669, 'tedarik zincir': 7946, 'zincir yönet': 9355, 'yönet depo': 9158, 'depo yöne': 1672, 'anahtar tesl': 305, 'olarak çalışmak': 5806, 'server oracle': 7174, 'takım lider': 7786, 'depo yönet': 1673, 'tommy hilfiger': 8192, 'tübi tak': 8288, 'ihtiyaç uygun': 3543, 'bir siste': 1075, 'mevcut potansiyel': 5037, 'merkez ofis': 5003, 'kullanılan teknoloji': 4461, 'call center': 1332, 'lişki yönet': 4722, 'mühendi olarak': 5296, 'ş analis': 9845, 'operasyon uzman': 5918, 'operasyon sorum': 5916, 'ofis yazılım': 5717, 'e arşiv': 2040, 'fatur e': 2554, 'e fatur': 2049, 'hesap finans': 3385, 'finans takip': 2615, 'senet mevzu': 7144, 'finansal risk': 2620, 'yönet finansal': 9161, 'finansal raporla': 2619, 'developed': 1746, 'systems': 7622, 'demir': 1612, 'lif': 4667, 'insurance': 3723, 'oyak': 6048, 'used': 8375, 'frameworks': 2731, 'complex': 1448, 'finance': 2606, 'solutions': 7369, 'document': 1865, 'node': 5584, 'redux': 6671, 'patterns': 6111, 'aws': 590, 'senior': 7145, 'engineer': 2259, 'banking': 755, 'leasing': 4606, 'hr': 3457, 'sectors': 7097, 'led': 4610, 'teams': 7915, 'done': 1889, 'research': 6706, 'built': 1194, 'include': 3690, 'projects': 6557, 'multinational': 5251, 'worked': 8708, 'innovativ': 3711, 'technologies': 7918, 'needs': 5502, 'successful': 7579, 'operations': 5928, 'company': 1445, 'new': 5544, 'employe': 2233, 'self': 7132, 'performance': 6167, 'approval': 393, 'id': 3509, 'using': 8377, 'cv': 1525, 'implemented': 3668, 'system': 7620, 'branches': 1174, 'companies': 1444, 'accounts': 27, 'inventory': 3750, 'production': 6430, 'tracking': 8219, 'planning': 6264, 'ford': 2706, 'oto': 6016, 'programs': 6514, 'operational': 5927, 'tasks': 7889, 'eft': 2117, 'exchange': 2421, 'selenium': 7131, 'sms': 7345, 'writing': 8723, 'maintaining': 4814, 'lines': 4681, 'needed': 5501, 'contract': 1472, 'nlp': 5582, 'technology': 7919, 'support': 7605, 'major': 4816, 'products': 6433, 'integration': 3725, 'family': 2535, 'speaking': 7451, 'also': 246, 'learn': 4603, 'know': 4262, 'working': 8710, 'purchasing': 6599, 'creating': 1497, 'account': 25, 'help': 3373, 'one': 5896, 'including': 3691, 'analysis': 337, 'involved': 3753, 'transactions': 8233, 'last': 4583, 'credit': 1499, 'consumer': 1468, 'months': 5170, 'corporate': 1487, 'testing': 8123, 'review': 6733, 'oracle forms': 5950, 'core asp': 1482, 'node js': 5585, 'git tfs': 3006, 'design patterns': 1707, 'years experience': 8994, 'software development': 7355, 'inventory management': 3751, 'management system': 4878, 'sql oracle': 7474, 'rest api': 6722, 'resepsiyonist': 6708, 'hat': 3288, 'eşya': 2491, 'çalışarak': 9450, 'ziyaretçi': 9369, 'kasiyer': 4100, 'school': 7082, 'nisan': 5572, 'magaza': 4808, 'operatör olarak': 5930, 'bölüm görev': 1268, 'al microsoft': 171, 'bölüm çalış': 1272, 'müşter temsilci': 5346, 'temsilci olarak': 8058, 'word power': 8701, 'point excel': 6290, 'offi sap': 5697, 'sap netsis': 6897, 'edebilen': 2066, 'hırs': 3491, 'enerjik': 2250, 'tartışma': 7865, 'katılabilm': 4131, 'sayısal': 7025, 'mülakat': 5309, 'kullanabilen': 4428, 'özgüven': 9664, 'artır': 480, 'stek': 7528, 'getiren': 2954, 'tems': 8048, 'lci': 4591, 'etki yazı': 2348, 'sözl letiş': 7629, 'satış yönet': 7001, 'müşter odak': 5337, 'grup tartışma': 3060, 'tartışma katılabilm': 7866, 'çalışma yatkınlık': 9475, 'kna yetenek': 4261, 'etk olarak': 2340, 'olarak kullanabilen': 5787, 'bilgi beceri': 974, 'kontrol alt': 4302, 'yönet etk': 9159, 'hedef olan': 3359, 'organizasyon beceri': 5971, 'konu dene': 4327, 'bağıms olarak': 814, 'satiş tems': 6922, 'tems lci': 8049, 'lci si': 4592, 'finansman': 2622, 'levels': 4639, 'çap': 9505, 'geniş': 2882, 'çatı': 9507, 'çalışır': 9501, 'portföy': 6310, 'networking': 5543, 'voiç': 8608, 'intranet': 3748, 'süreklilik': 7651, 'micros': 5072, 'fidelio': 2593, 'plaz': 6273, 'tasarlamak': 7879, 'mis': 5122, 'wide': 8649, 'wan': 8618, 'mrp': 5180, 'inşaat sektör': 3756, 'pazarla satış': 6135, 'satış strateji': 6986, 'hedef doğrultu': 3352, 'ihtiyaç analiz': 3533, 'analiz edilme': 320, 'çatı alt': 9508, 'uygun şekil': 8426, 'destek hizmet': 1716, 'konu görev': 4334, 'ip networking': 3762, 'internet üzer': 3744, 'kurul yönet': 4511, 'grup şirket': 3063, 'network lan': 5538, 'wide area': 8650, 'bilgi sistem': 985, 'destek sağlamak': 1720, 'üret yönet': 9763, 'proses kontrol': 6569, 'personel devam': 6188, 'takip siste': 7769, 'siste uygulama': 7296, 'müşter takip': 5342, 'öncelik': 9605, 'yar': 8886, 'maka': 4817, 'şöför': 9997, 'çalişan': 9395, 'başlangiç': 838, 'sev': 7194, 'yes': 9047, 'zmi': 9373, 'lçe': 4783, 'ller': 4727, 'faali': 2495, 'yürü': 9258, 'black': 1140, 'gene': 2864, 'bel': 875, 'rdi': 6659, 'mercedes': 4994, 'dek': 1601, 'büyük': 1292, 'şeh': 9895, 'zi': 9344, 'yaret': 8909, 'sürücü': 7676, 'araçlari': 438, 'hasar': 3278, 'bakim': 719, 'w': 8617, 'otopark': 6032, 'yürüttük': 9263, 'kon': 4287, 'nok': 5587, 'rut': 6796, 'soğuk': 7442, 'normal': 5596, 'kamyon': 4035, 'filo': 2604, 'bayilik': 793, 'bay': 785, 'deniz': 1654, 'bodr': 1145, 'ancak': 344, 'sözleşme': 7632, 'edil': 2076, 'arasinda': 421, 'rmani': 6766, 'oluşum': 5886, 'pay': 6112, 'artırma': 481, 'hali': 3252, 'geri': 2921, 'artış': 485, 'konum': 4357, 'sponsor': 7457, 'bizzat': 1135, 'uygu': 8391, 'kullanıl': 4457, 'kirala': 4235, 'tahsis': 7728, 'yolç': 9111, 'taşımacılık': 7898, 'nitelik': 5573, 'arabistan': 404, 'ukrayn': 8319, 'alman': 241, 'kayitlari': 4143, 'denetlenme': 1633, 'ka': 3972, 'yasa': 8911, 'çalişmalari': 9398, 'co': 1422, 'olarak hizmet': 5783, 'programlari yi': 6508, 'derece sap': 1692, 'photo shop': 6210, 'sev yes': 7196, 'zmi r': 9374, 'faali yet': 2496, 'yet ni': 9050, 'n satiş': 5372, 'yen ürün': 9018, 'müşter portföy': 5339, 'dek şi': 1602, 'şeh r': 9896, 'zi yaret': 9346, 'tekn k': 7966, 'le lgi': 4597, 'bölg satış': 1257, 'satış kanal': 6962, 'belirlenen satış': 894, 'rut plan': 6797, 'sektör faaliyet': 7111, 'faaliyet gösteren': 2505, 'sahip bir': 6831, 'hedef ulaşma': 3363, 'bir şirket': 1090, 'fi rmani': 2590, 'bölg sorum': 1258, 'kadar geçen': 3982, 'pazar pay': 6123, 'yönelik olarak': 9152, 'müşter ziyaret': 5349, 'ziyaret gerçekleştirmek': 9365, 'hali hazır': 3253, 'türki genel': 8303, 'gösteren bir': 3144, 'bölg müdürlük': 1256, 'ihtiyaç yönelik': 3544, 'araç kirala': 430, 'depo düzen': 1666, 'dış yurt': 2038, 'sap r': 6903, 'güve': 3182, 'kalibrasyon': 4012, 'i': 3501, 'almiş': 243, 'planlanan': 6259, 'makarn': 4819, 'miktar': 5100, 'kali güve': 4003, 'windows ms': 8664, 'şlet si': 9970, 'kullanabi li': 4425, 'almiş olduk': 244, 'yonet': 9113, 'vendor': 8511, 'olunan': 5864, 'akadem': 121, 'ds': 1933, 'autodesk': 574, 'learning': 4604, 'operating': 5923, 'print': 6404, 'implementing': 3669, 'ca': 1323, 'turki': 8267, 'computer': 1453, 'remote': 6691, 'control': 1474, 'faliyet': 2534, 'bülten': 1273, 'karlılık': 4080, 'do': 1863, 'data': 1570, 'aracılık': 405, 'alınıp': 270, 'lüks': 4785, 'kıyafet': 4568, 'eriş': 2283, 'voip': 8607, 'taş': 7894, 'vpn': 8612, 'router': 6782, 'f': 2492, 'çapraz': 9506, 'broşür': 1181, 'almanya': 242, 'amerika': 292, 'olan satış': 5760, 'kişisel geliş': 4247, 'satış sorum': 6984, 'learning new': 4605, 'temel network': 8036, 'operating system': 5924, 'help desk': 3374, 'müdür bağl': 5282, 'stratejik planla': 7559, 'sorum olduk': 7415, 'konu kurumsal': 4340, 'firma kurumsal': 2649, 'lan wan': 4578, 'kurumsal müşteri': 4527, 'donan yazıl': 1884, 'sorun çöz': 7434, 'misafir memnuniyet': 5126, 'icra': 3507, 'peyzaj': 6204, 'süreç yürütülme': 7675, 'sap oracle': 6898, 'idari iş': 3512, 'araç takip': 437, 'kaynak süreç': 4151, 'maximo': 4923, 'oluş': 5868, 'opera': 5908, 'otelcilik': 6013, 'kullanabilir': 4437, 'işletmecilik': 3933, 'okuma': 5731, 'avantaj': 581, 'sade': 6813, 'maslak': 4909, 'kişilik': 4242, 'cam': 1334, 'kimyasal': 4228, 'kullanım': 4465, 'tempo': 8044, 'program iyi': 6477, 'bölüm mezu': 1269, 'aldık eğit': 220, 'kurs git': 4496, 'spss offi': 7468, 'şef olarak': 9893, 'bir ekip': 1048, 'ekip sevk': 2148, 'sevk idare': 7211, 'ekip yönet': 2150, 'yok iş': 9103, 'iş tempo': 3901, 'mc offi': 4940, 'park': 6087, 'acıbadem': 44, 'koç': 4395, 'sabanç': 6806, 'ali': 227, 'bakirköy': 721, 'boss': 1163, 'villa': 8585, 'kilit': 4223, 'zarar': 9334, 'teslimat': 8111, 'isler': 3779, 'kontro': 4300, 'duyulan': 1950, 'bütç yönet': 1285, 'proje yönetici': 6547, 'yönetici olarak': 9198, 'malzeme tedarik': 4865, 'istihbarat': 3809, 'star': 7517, 'tv': 8282, 'boru': 1159, 'atölye': 551, 'sektör ön': 7126, 'ön gelen': 9595, 'personel sevk': 6196, 'ithal': 3823, 'segment': 7102, 'kategori': 4111, 'ulaşmak': 8325, 'artırıç': 484, 'bulunacak': 1203, 'departma': 1656, 'ispar': 3786, 'üretici': 9768, 'cilt': 1396, 'üretilme': 9770, 'sınır': 7703, 'üretim': 9771, 'gerçekleştirdik': 2935, 'un': 8346, 'kozme': 4394, 'korunma': 4387, 'nbsp firma': 5414, 'firma faaliyet': 2640, 'pazarla faaliyet': 6129, 'üret takip': 9758, 'üret konu': 9743, 'yıldız otel': 9308, 'satış yapılma': 7000, 'hedef ulaşmak': 3364, 'konu nbsp': 4341, 'dış satış': 2035, 'satış nbsp': 6969, 'müdürlük birim': 5287, 'yetki olarak': 9078, 'resm kur': 6711, 'kur kuruluş': 4482, 'ürün pazarla': 9792, 'eğitim vermek': 2479, 'gerçekleşme sağlamak': 2933, 'linux işle': 4689, 'erp mrp': 2289, 'elektrik elektronik': 2190, 'holding e': 3445, 'e bağl': 2042, 'ulusal uluslarara': 8336, 'alan yıl': 211, 'yıl iç': 9288, 'proje ilgi': 6528, 'ilişki yönet': 3638, 'yönet müşter': 9167, 'ziyaret satış': 9366, 'anlaşma yapılma': 363, 'çalışma yürütülme': 9479, 'minum': 5119, 'htiyaç': 3468, 'edilecek': 2077, 'rsali': 6787, 'sayım': 7024, 'düzelt': 1980, 'öncü': 9607, 'gelişen': 2819, 'sektörel': 7129, 'istihdam': 3810, 'ekonomi': 2159, 'katm': 4122, 'cidt': 1393, 'duruş': 1942, 'kazanım': 4180, 'olabilecek': 5738, 'göster': 3139, 'geçmiş': 2974, 'profesyonel': 6439, 'arz': 486, 'büyüme': 1296, 'haz': 3317, 'bilinç': 1019, 'aşır': 685, 'yeni': 9020, 'güç': 3203, 'katacak': 4106, 'vizyon': 8602, 'kazanma': 4175, 'sunabilecek': 7584, 'inanan': 3678, 'kuruç': 4533, 'envanter': 2274, 'cost': 1489, 'oluşturduk': 5876, 'düşünmek': 2022, 'görevlendirilecek': 3112, 'titizlik': 8181, 'göz': 3151, 'taşımak': 7899, 'daim': 1535, 'huzur': 3485, 'dol': 1873, 'bol': 1146, 'kazanç': 4178, 'hedefliyor': 3369, 'sunacak': 7585, 'imkan': 3664, 'değerlendirerek': 1776, 'politika': 6302, 'siz': 7326, 'yaka': 8755, 'çukurov': 9549, 'hatay': 3291, 'skenderu': 7331, 'gaziantep': 2789, 'konya': 4366, 'mers': 5008, 'karade': 4059, 'azerbaycan': 633, 'edebilir': 2067, 'toz': 8214, 'levent': 4640, 'san': 6874, 'pegasus': 6154, 'nci': 5480, 'zmit': 9377, 'amp': 297, 'ham': 3259, 'dağıtım': 1588, 'bell': 906, 'bulunulma': 1221, 'seçilme': 7220, 'uygunluk': 8427, 'garanti': 2769, 'yang': 8776, 'kanun': 4041, 'ekonomik': 2161, 'uyar': 8386, 'alternatif': 252, 'sure': 7607, 'seçim': 7221, 'onaylanma': 5894, 'satıcı': 6924, 'iade': 3502, 'fazla': 2575, 'gereks': 2912, 'güncel': 3167, 'bulunmayan': 1217, 'halde': 3247, 'periyot': 6179, 'ups': 8367, 'muhasebeleştirilme': 5217, 'satılan': 6925, 'yapıldık': 8853, 'tedarikçi': 7950, 'masraf': 4910, 'neden': 5495, 'şema': 9910, 'gereç': 2920, 'işç': 3939, 'kor': 4385, 'verimlilik': 8552, 'fiil': 2596, 'emir': 2228, 'yaptırmak': 8837, 'verir': 8558, 'gelişim': 2821, 'eksiks': 2166, 'birinç': 1111, 'fason': 2550, 'imala': 3660, 'ambalaj': 287, 'kriter': 4410, 'uyumluluk': 8434, 'problems': 6420, 'ruti': 6798, 'sık': 7689, 'faktör': 2529, 'beklenti': 872, 'varlık': 8491, 'karşı': 4086, 'oluşturarak': 5875, 'ileri': 3574, 'dönük': 1966, 'aksiyon': 138, 'belirleyerek': 897, 'arttırıç': 479, 'düzenleyerek': 1995, 'adın': 95, 'tercih': 8072, 'kusurs': 4535, 'işleme': 3922, 'düzeltiç': 1982, 'önleyiç': 9625, 'fırsat': 2760, 'doğru': 1910, 'gereksinim': 2913, 'müdürlük görev': 5288, 'çalışma sağlamak': 9466, 'malzeme ihtiyaç': 4859, 'ihtiyaç belirlenme': 3534, 'yapılma şirket': 8877, 'çıkış işlem': 9577, 'windows microsoft': 8663, 'offi iyi': 5681, 'gelişen teknoloji': 2820, 'katm değer': 4123, 'büyük bir': 1293, 'ilk edin': 3644, 'vizyon sahip': 8603, 'sahip ekip': 6832, 'ekip lider': 2144, 'bir ara': 1041, 'yi bir': 9084, 'bir takım': 1078, 'malzeme yönet': 4867, 'planla yönet': 6253, 'yönet lojis': 9164, 'lojis yönet': 4765, 'yönet stok': 9182, 'yönet sat': 9178, 'or düzey': 5943, 'düzey yönetiç': 2004, 'yük öğren': 9246, 'çalış haya': 9409, 'haya boyu': 3304, 'satış bölüm': 6941, 'gelişme açık': 2825, 'odak takım': 5655, 'çalışma inanan': 9462, 'sektör lider': 7117, 'devam etme': 1740, 'etme sağlamak': 2354, 'olduk görev': 5821, 'ilk olarak': 3646, 'firma çalış': 2666, 'değer katacak': 1765, 'katacak inanıyor': 4107, 'çalışmak istedik': 9482, 'arz eder': 487, 'göster olduk': 3140, 'şimdi teşekkür': 9922, 'avrup yaka': 587, 'stanbul anado': 7499, 'anado yaka': 302, 'ger dönüş': 2892, 'nbsp görev': 5417, 'al nbsp': 173, 'müdür nbsp': 5283, 'çalışan sayı': 9449, 'uzun vade': 8461, 'bütçe hazırlanma': 1288, 'ilgi çalışma': 3621, 'şirket politika': 9941, 'üret plan': 9749, 'plan gör': 6234, 'stok seviye': 7540, 'kayıt tutulma': 4165, 'tutulma sağlamak': 8280, 'yapmak nbsp': 8815, 'yönetilme nbsp': 9204, 'sat alma': 6911, 'ilgi işlem': 3610, 'yönet nbsp': 9168, 'tespit edilme': 8116, 'güncel tutulma': 3168, 'ürün takip': 9798, 'erp sistem': 2297, 'sistem oluşturulma': 7312, 'gelen sipariş': 2806, 'siste giriş': 7287, 'giriş yapılma': 2994, 'ay son': 595, 'mal kabul': 4840, 'ilgi konu': 3612, 'süreç yöne': 7670, 'çalış prensip': 9420, 'araç gereç': 429, 'iş güvenlik': 3883, 'güvenlik çevr': 3200, 'nbsp gerek': 5416, 'olarak takip': 5795, 'erp siste': 2296, 'taraf verilen': 7856, 'iş emir': 3879, 'planlama yapılma': 6257, 'diğer departman': 1857, 'sürek iyileştir': 7648, 'iyileştir çalışma': 3842, 'malzeme sipariş': 4862, 'müşter memnuni': 5334, 'üst yöne': 9810, 'ticaret ş': 8164, 'ş merkez': 9859, 'merkez nbsp': 5001, 'nbsp ş': 5477, 'ş tan': 9867, 'sağlamak nbsp': 7042, 'nbsp şirket': 5478, 'kontrol ederek': 4304, 'taraf yapılan': 7857, 'ilgi süreç': 3617, 'süreç hakim': 7661, 'nbsp iyi': 5422, 'üst yönet': 9811, 'içeri yer': 3864, 'tespit etmek': 8118, 'şirket taraf': 9945, 'firma temsil': 2662, 'temsil etmek': 8053, 'analiz etmek': 323, 'aksiyon plan': 141, 'plan oluşturmak': 6237, 'nbsp proje': 5445, 'almak nbsp': 239, 'günlük haftalık': 3178, 'bir nbsp': 1064, 'kali yöne': 4010, 'eksiks olarak': 2167, 'standart uygun': 7514, 'takım arkadaş': 7784, 'önleyiç faaliyet': 9626, 'geliştir fırsat': 2831, 'monitoring': 5159, 'nakit': 5376, 'mutabak': 5256, 'hardware': 3268, 'parti': 6093, 'demirbank': 1614, 'güncelleme': 3170, 'banksoft': 757, 'navision': 5391, 'edilerek': 2079, 'seçm': 7222, 'yerleştir': 9045, 'outbound': 6035, 'kavuşturulma': 4140, 'operasyo': 5909, 'sati': 6913, 'çözümlenme': 9567, 'bireysel bankacılık': 1097, 'kret kart': 4407, 'bireysel kret': 1100, 'point lotus': 6292, 'notes banksoft': 5604, 'banksoft basic': 758, 'basic access': 771, 'sap outlook': 6899, 'outlook navision': 6041, 'navision crm': 5392, 'operasyonel süreç': 5922, 'seçm yerleştir': 7223, 'depo lojis': 1667, 'çöz kavuşturulma': 9551, 'temizlik teknik': 8042, 'ilişki yürütülme': 3641, 'firma satınal': 2658, 'satış satış': 6980, 'sonra hizmet': 7390, 'koordin edilme': 4371, 'satış fiyat': 6953, 'backup': 698, 'arttırılma': 478, 'nakit yönet': 5378, 'siste destek': 7285, 'siste microsoft': 7291, 'şlet siste': 9971, 'iletiş sağlanma': 3590, 'iş geliştir': 3881, 'bilgi güvenlik': 980, 'forklift': 2712, 'eğle': 2485, 'gorev': 3037, 'reyon': 6737, 'saç': 7026, 'ohsas': 5723, 'xp ms': 8741, 'yen müşter': 9012, 'müşter ihtiyaç': 5326, 'topla kali': 8200, 'ar ge': 396, 'sağlanmasi': 7056, 'nep': 5506, 'prog': 6449, 'çözmek': 9564, 'santral': 6883, 'antivirüs': 373, 'siparis': 7275, 'notebook': 5600, 'oem': 5670, 'kalıç': 4026, 'tit': 8180, 'dc': 1591, 'firewall': 2626, 'yazıç': 8971, 'sanallaştır': 6878, 'storage': 7543, 'cisco': 1401, 'hesap şlem': 3390, 'çevr birim': 9526, 'windows işle': 8660, 'ofis uygulama': 5715, 'firma gerek': 2643, 'iyi seviye': 3838, 'hizmet alan': 3417, 'aktif olarak': 151, 'software hardware': 7356, 'servis bak': 7183, 'network kurul': 5537, 'tempo ayak': 8045, 'dikkatli tit': 1810, 'yetenek sahip': 9062, 'ms windows': 5201, 'windows şlet': 8679, 'siste network': 7293, 'konu destek': 4330, 'nt networking': 5614, 'çıkartılma': 9573, 'baan': 690, 'fabrika üret': 2518, 'yapılma windows': 8873, 'windows excel': 8657, 'bilgisayar kurs': 1007, 'arıza giderilme': 500, 'vm': 8604, 'modul': 5150, 'raf': 6622, 'kullanabiliyor': 4438, 'ehliyet': 2128, 'klima': 4256, 'keşif': 4222, 'bit': 1124, 'program sap': 6490, 'stok yönet': 7542, 'al üret': 182, 'üret departman': 9739, 'ret': 6729, 'kar': 4055, 'olacak': 5740, 'bilgilendirmek': 998, 'programi': 6497, 'loji': 4757, 'tart': 7864, 'toplamak': 8202, 'dola': 1874, 'paket progra': 6070, 'progra word': 6459, 'excel access': 2387, 'access power': 19, 'logo eta': 4745, 'kontrol etmek': 4306, 'loji sti': 4758, 'sti k': 7534, 'talep edilen': 7800, 'hale getirmek': 3250, 'program windows': 6492, 'uç': 8463, 'incelemek': 3688, 'önün': 9633, 'hangi': 3266, 'talimat': 7801, 'düşük': 2011, 'nakliyeç': 5380, 'satıç': 6936, 'onenote': 5897, 'akreditif': 130, 'par': 6081, 'türkç': 8308, 'pazarlık': 6145, 'izlenme': 3849, 'karşılaştırma': 4091, 'nakli': 5379, 'ı': 9838, 'araştır yapmak': 442, 'göz önün': 3152, 'iletiş halin': 3583, 'doğr olarak': 1906, 'alternatif çöz': 253, 'mevcut müşteri': 5035, 'müşteri ilişki': 5359, 'gerek müşter': 2902, 'ikna yetenek': 3560, 'windows os': 8669, 'internet uygulama': 3743, 'bankacılık işlem': 749, 'par transfer': 6082, 'ithalat ihracat': 3825, 'ihracat operasyon': 3528, 'operasyon işlem': 5913, 'yapılma takip': 8872, 'yer getirilme': 9037, 'takip hracat': 7751, 'müşter lişki': 5333, 'nbsp satış': 5446, 'ziyaret gerçekleştirilme': 9364, 'bildirilme': 955, 'hedeflenen': 3367, 'sertifikasyon': 7165, 'çin': 9538, 'müzaker': 5313, 'güvenilirlik': 3188, 'çeviri': 9523, 'paylaşılma': 6116, 'thal': 8136, 'canias': 1339, 'emc': 2221, 'açılma': 653, 'distribütörlük': 1848, 'enstrüman': 2265, 'ona': 5888, 'istinaden': 3813, 'zayıf': 9337, 'hazırlanarak': 3334, 'stant': 7516, 'eksik': 2164, 'tutar': 8271, 'yapılandır': 8849, 'adapte': 51, 'boya': 1165, 'yüzey': 9270, 'dal': 1542, 'kambiyo': 4027, 'yurtdi': 9124, 'kosgeb': 4389, 'alaka': 193, 'anla': 356, 'blok': 1142, 'alacak': 189, 'mevzuat': 5044, 'kartal': 4083, 'bulunup': 1222, 'akabin': 120, 'sureç': 7608, 'mailing': 4812, 'biç': 1136, 'tanıtılma': 7848, 'maltep': 4856, 'calis': 1330, 'haber': 3218, 'olay': 5812, 'geçerek': 2964, 'set': 7192, 'ortaminda': 6001, 'bilgilendirilme': 996, 'verg': 8532, 'tabi': 7712, 'hraç': 3464, 'tahmin': 7722, 'değiş': 1786, 'ünl': 9729, 'national': 5389, 'bul': 1195, 'bulunduk': 1209, 'yıl yak': 9303, 'bünye yer': 1279, 'olan süreç': 5761, 'ürün kali': 9786, 'belirlenen hedef': 893, 'aksiyon alınma': 140, 'edilme gerek': 2082, 'test süreç': 8121, 'ürün stok': 9797, 'maliyet analiz': 4854, 'analiz rapor': 327, 'üret müdür': 9745, 'üret planla': 9750, 'kontrolü yapılma': 4320, 'ihtiyaç doğrultu': 3535, 'sipariş alınma': 7277, 'müşteri gerek': 5354, 'bilgi verilme': 989, 'haftalık olarak': 3231, 'araştırma yapılma': 447, 'yapılma raporlanma': 8868, 'mevcut müşter': 5034, 'offi yi': 5705, 'thalat ihracat': 8139, 'stok kontrol': 7538, 'proje takip': 6538, 'ürün konu': 9788, 'zaman yönet': 9331, 'yönet konu': 9163, 'yer getir': 9036, 'ara yer': 401, 'yer almak': 9035, 'organizasyon takip': 5975, 'olarak gerek': 5780, 'tedarikç firma': 7948, 'yen müşteri': 9013, 'operasyon süreç': 5917, 'gümrük mevzuat': 3160, 'gümrük işlem': 3158, 'olarak müşter': 5789, 'bir biç': 1045, 'günlük olarak': 3180, 'yapılma yen': 8874, 'kayıt yapılma': 4166, 'ş yer': 9875, 'görev bul': 3096, 'canias erp': 1340, 'luç': 4781, 'pdks': 6149, 'yetkinlik': 9080, 'geliştirip': 2849, 'hem': 3375, 'fayda': 2567, 'avans': 580, 'muhasep paket': 5235, 'program eta': 6469, 'eta logo': 2326, 'tecrübe doğrultu': 7928, 'takip etm': 7748, 'şe al': 9889, 'görüşme yapılma': 3135, 'gerek evrak': 2898, 'progra kullan': 6454, 'takip microsoft': 7756, 'eta sql': 2330, 'giyim': 3011, 'pedagojik': 6150, 'formasyon': 2715, 'pedagojik formasyon': 6151, 'serbest': 7153, 'iliski': 3626, 'fon': 2702, 'export': 2437, 'planlıyor': 6262, 'link': 4682, 'trade': 8220, 'sonuçlandırılma': 7404, 'ant': 368, 'imalat': 3661, 'alıç': 274, 'swift': 7613, 'olan firma': 5751, 'www link': 8729, 'link com': 4683, 'firma ihracat': 2645, 'thalat şlem': 8140, 'akreditif banka': 131, 'banka transfer': 744, 'mcse': 4941, 'ünvan': 9730, 'gümrükle': 3162, 'dokümantasyon': 1872, 'mavi': 4920, 'yeterlilik': 9067, 'beyaz': 929, 'üretilen': 9769, 'dağıt': 1587, 'bt': 1185, 'windows linux': 8661, 'tecrüp sahip': 7942, 'konu tecrüp': 4346, 'mavi yak': 4921, 'yeterlilik belge': 9068, 'taban süreç': 7711, 'süreç yönet': 7671, 'yönet satınal': 9179, 'satınal yönet': 6932, 'yönet performans': 9171, 'antrepo': 375, 'q': 6604, 'powerpoint lotus': 6343, 'q basic': 6605, 'ihracat işlem': 3526, 'yöne beceri': 9137, 'kriz yönet': 4412, 'spot': 7461, 'arayış': 426, 'ab': 2, 'tara': 7854, 'sıklık': 7691, 'fizik': 2686, 'düze': 1979, 'bulma': 1198, 'arayış bulunmak': 427, 'ler excel': 4619, 'ş geliştir': 9852, 'yönet proje': 9173, 'e ticaret': 2053, 'periyodik olarak': 6178, 'hesap mutabakat': 3387, 'gör uygun': 3079, 'gümrük mevzu': 3159, 'mektup': 4976, 'tescil': 8098, 'acrobat': 36, 'private': 6406, 'kontrat': 4299, 'hracat satış': 3462, 'satış operasyon': 6973, 'aşama kadar': 673, 'pazar araştır': 6121, 'excell powerpoint': 2415, 'adobe acrobat': 74, 'program kullanabiliyor': 6481, 'uzman nbsp': 8442, 'kontrolü takip': 4319, 'üret pazarla': 9748, 'dış müşter': 2033, 'olan ilişki': 5752, 'bun bağl': 1228, 'yükleme': 9248, 'açmak': 639, 'outdoor': 6036, 'grafik program': 3042, 'bir marka': 1061, 'yıl boyu': 9280, 'genel merkez': 2871, 'ürün sipariş': 9796, 'süreç aktif': 7655, 'rol almak': 6777, 'bağl bulunduk': 800, 'firma müşter': 2651, 'üret aşama': 9737, 'aşama takip': 674, 'etc': 2331, 'legal': 4613, 'negotiation': 5505, 'import': 3670, 'letter': 4637, 'process': 6423, 'current': 1518, 'suppliers': 7602, 'customs': 1524, 'documents': 1867, 'related': 6685, 'attending': 549, 'international': 3734, 'weekly': 8645, 'monthly': 5169, 'merchandising': 4996, 'distribution': 1845, 'procurement': 6427, 'stock': 7535, 'supply': 7603, 'chai': 1381, 'sözleş': 7631, 'daya': 1582, 'ias': 3503, 'ifrs': 3519, 'offi programs': 5695, 'import export': 3671, 'supply chai': 7604, 'chai management': 1382, 'raporla standart': 6642, 'solidworks': 7364, 'inventor': 3749, 'tamamladık': 7819, 'öz': 9637, 'temmuz': 8043, 'ağustos': 664, 'maki': 4822, 'elektr': 2183, 'mühendis': 5299, 'torn': 8210, 'malat': 4842, 'spc': 7449, 'statistiksel': 7524, 'solidworks autocad': 7365, 'autocad autocad': 561, 'makina mühendislik': 4827, 'mühendislik bölüm': 5302, 'eğit süreç': 2465, 'süreç içeri': 7664, 'içeri araştır': 3863, 'araştır öz': 443, 'öz motivasyon': 9639, 'motivasyon girişimcilik': 5173, 'girişimcilik fark': 2998, 'fark yetenek': 2545, 'yetenek edin': 9053, 'edin nokta': 2089, 'nokta kent': 5591, 'firma üret': 2669, 'üret mühendi': 9746, 'olarak iş': 5784, 'yıl fazl': 9284, 'ş hayat': 9854, 'insan iletiş': 3715, 'den ber': 1620, 'elektr k': 2184, 'autodesk inventor': 575, 'spc statistiksel': 7450, 'statistiksel süreç': 7525, 'süreç kontrolü': 7665, 'program autocad': 6466, 'edinmek': 2097, 'uzun döne': 8457, 'staj yapt': 7493, 'axapta': 592, 'workstation': 8714, 'dürüst': 1976, 'asl': 524, 'şehr': 9898, 'lis': 4693, 'bekar': 869, 'ag': 98, 'açtık': 640, 'cerrahi': 1375, 'lazer': 4587, 'fiber': 2592, 'yil': 9092, 'faaliye': 2497, 'kongre': 4293, 'sirk': 7281, 'yetk': 9075, 'muster': 5255, 'biraz': 1091, 'artırılma': 483, 'dinamo': 1828, 'forwarder': 2723, 'kazanmak': 4176, 'birey': 1094, 'bulunarak': 1208, 'uzmani': 8449, 'yapılandırılma': 8851, 'dynamics': 1954, 'network uygulama': 5542, 'dış dönük': 2029, 'bir yapı': 1082, 'yapı sahip': 8841, 'sahip yi': 6855, 'düzen disiplin': 1985, 'sorumluluk almak': 7424, 'ler derece': 4617, 'derece ngiliz': 1691, 'ngiliz bilg': 5555, 'bilg mevcut': 968, 'al yıl': 180, 'satış tecrübe': 6991, 'baş olmak': 816, 'bayi yönet': 792, 'müşteri satış': 5361, 'ilgi gerek': 3609, 'malzeme stok': 4863, 'stok analiz': 7537, 'çalışma olt': 9464, 'firma gelen': 2641, 'ihracat satış': 3529, 'yönet satış': 9180, 'sati al': 6914, 'ci si': 1392, 'offi ce': 5679, 'sap microsoft': 6894, 'microsoft dynamics': 5075, 'dynamics crm': 1955, 'bütç planla': 1283, 'planla raporla': 6250, 'business development': 1242, 'kdv': 4183, 'muhtasar': 5247, 'göndermek': 3076, 'limit': 4677, 'mantık': 4885, 'oldukç': 5828, 'implementasyon': 3666, 'ödenme': 9585, 'aktarmak': 143, 'faturala': 2561, 'açılış': 654, 'bilanço': 949, 'konsolidasyon': 4296, 'incele': 3685, 'kredi': 4402, 'kalma': 4019, 'rakam': 6626, 'olanak': 5767, 'sıfır': 7686, 'milyon': 5108, 'tl': 8183, 'kazandır': 4172, 'minimum': 5114, 'çıkabilecek': 9568, 'hp': 3455, 'fair': 2522, 'hukuki': 3482, 'objects': 5643, 'kas banka': 4095, 'kdv muhtasar': 4185, 'banka kret': 743, 'risk takip': 6759, 'hesap takip': 3389, 'mutabakat yapılma': 5258, 'hesap plan': 3388, 'erp program': 2293, 'liste hazırlanma': 4712, 'oldukç iyi': 5829, 'oracle erp': 5949, 'erp yazıl': 2299, 'şekil kullanabiliyor': 9904, 'müşter beklenti': 5322, 'süreç destek': 7658, 'crm program': 1504, 'vardiya siste': 8487, 'yok olarak': 9104, 'mali tablo': 4850, 'tablo analiz': 7717, 'yatır proje': 8930, 'nakit akış': 5377, 'hakk detay': 3244, 'ş nin': 9863, 'yöne kurul': 9142, 'nbsp ms': 5433, 'çalışma yapılma': 9473, 'problem çöz': 6417, 'sözleşme hazırlanma': 7633, 'yapılma nbsp': 8865, 'erp proje': 2294, 'verilme nbsp': 8547, 'şube operasyon': 9990, 'yapılma personel': 8866, 'çöz merkez': 9552, 'business objects': 1244, 'finansal tablo': 2621, 'analiz finansal': 324, 'finansal analiz': 2617, 'acces': 14, 'pm': 6282, 'mm': 5134, 'mamül': 4870, 'ambar': 289, 'devre': 1760, 'kpi': 4400, 'tanımlama': 7841, 'aks': 133, 'tesi': 8099, 'usd': 8373, 'plastik': 6269, 'manuel': 4886, 'iyi düzey': 3834, 'düzey ms': 2002, 'project ms': 6556, 'geliştir uzman': 2835, 'ş süreç': 9865, 'ürün müşteri': 9790, 'yönet ms': 9166, 'teklif hazırla': 7963, 'devre al': 1761, 'al faaliyet': 167, 'tedarik süreç': 7945, 'iç kontrol': 3857, 'al uzman': 179, 'çalış ms': 9414, 'dahil olmak': 1532, 'yönet eğit': 9160, 'sonra destek': 7389, 'program nbsp': 6486, 'uygulama sap': 8404, 'term': 8091, 'konferans': 4290, 'tanıtmak': 7847, 'iste': 3793, 'faks': 2527, 'hazırlayarak': 3342, 'olas': 5811, 'araştırmak': 448, 'bilgilendirme': 997, 'word iyi': 8696, 'excel iyi': 2391, 'satış performans': 6977, 'yen iş': 9009, 'yıllık satış': 9317, 'yönet sunmak': 9184, 'müşter ara': 5321, 'potansiyel müşter': 6325, 'etmek raporlamak': 2360, 'yapmak müşteri': 8814, 'teknik bilgi': 7970, 'hizmet vermek': 3434, 'ziyaret yapmak': 9368, 'strateji doğrultu': 7556, 'sorumluluk olan': 7428, 'uygun olan': 8421, 'devre alınma': 1762, 'gelen malzeme': 2802, 'aylık rapor': 611, 'potansiyel müşteri': 6326, 'faaliyet yürütülme': 2513, 'sağlayacak': 7062, 'em': 2218, 'im': 3654, 'özgeçmiş': 9661, 'görebilecek': 3082, 'yaşam': 8985, 'efektif': 2109, 'özveri': 9672, 'gerektirdik': 2916, 'ister': 3804, 'mutlak': 5261, 'sonuçlanacak': 7401, 'sağlayabilecek': 7057, 'şüphe': 9998, 'olduk iş': 5822, 'geliştir özgeçmiş': 2837, 'özgeçmiş görebilecek': 9662, 'eğit iş': 2457, 'yaptık bireysel': 8832, 'bireysel araştırma': 1096, 'araştırma kent': 445, 'kent iş': 4205, 'hayat hazır': 3311, 'yaşam efektif': 8986, 'efektif hızl': 2110, 'hızl olmak': 3498, 'olmak konu': 5844, 'konu son': 4343, 'son derece': 7374, 'derece özveri': 1694, 'özveri heves': 9673, 'heves olduk': 3395, 'gerektirdik sorumluluk': 2918, 'sorumluluk merak': 7427, 'merak istek': 4993, 'istek üzer': 3800, 'üzer almak': 9820, 'almak istedik': 236, 'istedik belirtmek': 3795, 'belirtmek ister': 904, 'özen dikkatli': 9656, 'dikkatli çalışma': 1811, 'çalışma mutlak': 9463, 'mutlak başar': 5262, 'başar sonuçlanacak': 819, 'sonuçlanacak bilinç': 7402, 'bilinç neden': 1020, 'neden siz': 5497, 'siz yetenek': 7329, 'yetenek çalış': 9064, 'çalış disipl': 9405, 'disipl katk': 1841, 'katk sağlayabilecek': 4116, 'sağlayabilecek nokta': 7060, 'nokta şüphe': 5593, 'şüphe yok': 9999, 'front offi': 2741, 'sales marketing': 6868, 'satış gerçekleştirilme': 6956, 'yaratıcılık': 8894, 'üretebil': 9764, 'analiz edebil': 318, 'çöz üretebil': 9556, 'şim': 9920, 'assistant': 534, 'program hakim': 6473, 'satış odak': 6971, 'odak çalış': 5658, 'plik': 6276, 'explorer': 2435, 'wintex': 8683, 'merchandiser': 4995, 'gayrimenkul': 2777, 'anadil': 300, 'çiftçilik': 9536, 'ilave': 3564, 'start': 7519, 'temin': 8038, 'dik': 1805, 'bask': 778, 'örm': 9634, 'ufrs': 8316, 'excell internet': 2412, 'internet explorer': 3740, 'basic photoshop': 776, 'photoshop nternet': 6217, 'nternet site': 5625, 'çalıştık yer': 9494, 'son çalıştık': 7383, 'çalıştık işyer': 9490, 'takip program': 7761, 'pozisyon üret': 6366, 'pazarla pozisyon': 6134, 'ihracat müşter': 3527, 'temsilcilik yapt': 8063, 'planla üret': 6254, 'hracat işlem': 3460, 'takip satınal': 7765, 'satınal lojis': 6929, 'pazarla konu': 6130, 'konu deneyim': 4329, 'deneyim var': 1650, 'gayrimenkul danışmanlık': 2780, 'olarak devam': 5776, 'or seviye': 5945, 'seviye ngiliz': 7207, 'ngiliz biliyor': 5557, 'tekstil otomotiv': 8004, 'otomotiv yan': 6031, 'yan sanayi': 8774, 'gı sektör': 3215, 'sınıf öğretmenlik': 7701, 'mill eğit': 5107, 'pazarla müşter': 6132, 'pazar analiz': 6120, 'takip üret': 7778, 'planla konu': 6246, 'konu çalış': 4354, 'peraken satış': 6162, 'satınal satış': 6930, 'görev ara': 3094, 'satış gerçekleştirmek': 6957, 'sağlamak üret': 7047, 'sevk edilme': 7210, 'lojis operasyon': 4762, 'operasyon lojis': 5914, 'son kontrol': 7377, 'satınal üret': 6933, 'piya analiz': 6228, 'lojis planla': 4763, 'aralık': 407, 'itibaren': 3827, 'göze': 3153, 'yakıt': 8769, 'maksimum': 4837, 'fay': 2566, 'hizm vermek': 3414, 'amonr': 295, 'tatil': 7890, 'er': 2281, 'düşü': 2009, 'anali düşü': 307, 'kayit': 4142, 'alinmasi': 231, 'yardimç': 8899, 'çıkarılma': 9574, 'sabit': 6807, 'tahakkuk': 7721, 'şantiye': 9882, 'offi windows': 5701, 'dosya takip': 1897, 'personel iş': 6192, 'resm kurum': 6712, 'takip konu': 7755, 'toyo': 8213, 'hatt': 3292, 'vision': 8591, 'yeter': 9065, 'arıyor': 491, 'duyar': 1946, 'güvenen': 3186, 'okumak': 5733, 'aydınlat': 603, 'şti': 9981, 'açik': 637, 'ifade': 3518, 'çevre': 9528, 'motiv': 5171, 'olarak çalıştık': 5807, 'çalıştık sonr': 9492, 'çalış arkadaş': 9402, 'arkadaş arıyor': 471, 'kent güvenen': 4200, 'gel şti': 2797, 'şti rme': 9982, 'ayar': 601, 'fakat': 2526, 'büy': 1291, 'kadıköy': 3990, 'herhangi': 3381, 'bulunmamak': 1216, 'lginiz': 4649, 'sayg': 7020, 'araba': 403, 'baskı': 780, 'enjeksiyon': 2263, 'kalt': 4022, 'lise mezun': 4709, 'çalışmak ister': 9483, 'herhangi bir': 3382, 'çalışma başl': 9456, 'zor kalt': 9379, 'amaçlıyor': 286, 'pazarla alan': 6125, 'word ms': 8699, 'sayar': 7010, 'elektronik bak': 2206, 'bilgisayar ofis': 1010, 'program yi': 6494, 'derece bilgisayar': 1681, 'lgi sayar': 4645, 'lgi si': 4647, 'tank': 7838, 'katı': 4128, 'modelle': 5146, 'başlangıç düzey': 840, 'olarak yapt': 5798, 'makine operatör': 4833, 'teknik res': 7979, 'makina bak': 4826, 'sürüm': 7677, 'proğram': 6583, 'klavye': 4252, 'sak': 6861, 'vasıta': 8494, 'operatörlük': 5931, 'yardımcılık': 8904, 'denetle': 1631, 'windows taban': 8672, 'excel eta': 2389, 'kurs bitir': 4495, 'hızl klavye': 3497, 'mağaza iç': 4929, 'iç yer': 3858, 'yardımcı olarak': 8903, 'gerek gördük': 2900, 'iş iş': 3887, 'parça üret': 6100, 'üret yapan': 9761, 'tekniker': 7986, 'basınç': 783, 'mükemmel': 5306, 'kompresör': 4285, 'tesisat': 8103, 'kadarki': 3986, 'yardımç tesis': 8908, 'üret sistem': 9754, 'teknik mü': 7977, 'dil eğit': 1819, 'pres': 6386, 'bugün': 1188, 'trafo': 8224, 'lecek': 4609, 'powerpoint windows': 6349, 'bugün kadar': 1189, 'yaptık iş': 8834, 'çalış sonr': 9425, 'laboratuvar': 4575, 'head': 3346, 'hplc': 3456, 'donanim': 1885, 'fiziksel': 2687, 'heps': 3380, 'gam': 2768, 'hayvan': 3316, 'ağır': 666, 'metal': 5023, 'üret hatt': 9741, 'yapmak üret': 8822, 'üret kali': 9742, 'rapor etmek': 6633, 'metot': 5029, 'koçluk': 4396, 'proaktif': 6412, 'ehli': 2124, 'enge': 2252, 'iller': 3649, 'kamp': 4031, 'aktivi': 156, 'kayser': 4157, 'mücade': 5279, 'klasik': 4251, 'insan ilişki': 3716, 'çalış ortam': 9418, 'ler düzey': 4618, 'iletiş beceri': 3581, 'beceri güçl': 858, 'planla koordinasyon': 6247, 'sahip sorumluluk': 6850, 'sorumluluk bilinç': 7426, 'yön güçl': 9132, 'uygulama hakim': 8398, 'sahip ms': 6838, 'ehli olan': 2125, 'olan aktif': 5746, 'aktif araç': 148, 'araç kullanan': 433, 'seyahat enge': 7215, 'enge olmayan': 2254, 'ikamet e': 3550, 'bilgisayar bak': 1000, 'eskişehir': 2310, 'yilinda': 9094, 'meb': 4944, 'merkez nde': 5002, 'kazan': 4170, 'pozisyo': 6353, 'inceleme': 3686, 'vakit': 8474, 'ayırdık': 631, 'güleryüz': 3156, 'öz geçmiş': 9638, 'görebilecek fark': 3083, 'fark alan': 2538, 'hazır ş': 3328, 'ş yaşam': 9874, 'olduk pozisyo': 5823, 'pozisyo gerektirdik': 6354, 'yapılan iş': 8846, 'cv mi': 1526, 'mi inceleme': 5066, 'inceleme vakit': 3687, 'vakit ayırdık': 8475, 'ayırdık teşekkür': 632, 'eder saygı': 2072, 'sahip sonuç': 6849, 'nk': 5577, 'kom': 4278, 'ğer': 9835, 'yükümlülük': 9257, 'asgari': 509, 'oluşturulmasi': 5884, 'sağlik': 7067, 'kanu': 4040, 'zler': 9370, 'sap logo': 6892, 'eta li': 2323, 'li nk': 4652, 'mrp erp': 5181, 'di ğer': 1798, 'bordro özlük': 1154, 'şler ni': 9961, 'li ri': 4653, 'xp windows': 8744, 'ofiç': 5718, 'kasko': 4101, 'materyal': 4916, 'ms ofiç': 5192, 'outlook powerpoint': 6044, 'yıldız teknik': 9309, 'teknik üniversite': 7984, 'üniversite nbsp': 9723, 'yıllık iz': 9315, 'ön hazırlık': 9596, 'bank': 738, 'pms': 6283, 'mevduat': 5040, 'bağla': 805, 'vergi': 8536, 'beyan': 926, 'sermaye': 7156, 'sınav': 7693, 'gerçekleş rmek': 2929, 'portföy yönet': 6312, 'özel sektör': 9649, 'muhasep kayıt': 5228, 'geçiç verg': 2970, 'işlem yapmak': 3918, 'sermaye piyasa': 7157, 'temel düzey': 8033, 'düzey lisans': 2001, 'lisans sahip': 4704, 'bilanço analiz': 950, 'finansal planla': 2618, 'planla kontrol': 6245, 'analiz ş': 335, 'tablo raporla': 7719, 'analiz mali': 326, 'verg mevzu': 8535, 'wındows': 8731, 'poınt': 6368, 'giren': 2990, 'zin': 9350, 'ş kanun': 9856, 'ş sağlık': 9864, 'sağlık güvenlik': 7071, 'hukuk ş': 3481, 'sistem ms': 7310, 'power poınt': 6332, 'logo lks': 4748, 'fark sektör': 2542, 'ticaret site': 8163, 'görev yapmak': 3105, 'eğit program': 2461, 'dosya hazırlanma': 1895, 'ş kur': 9857, 'şe giriş': 9890, 'eğitim verilme': 2478, 'firma genel': 2642, 'xp iso': 8739, 'önemseyen': 9617, 'esnek': 2312, 'döndük': 1959, 'önemsiyor': 9619, 'öğreticilik': 9690, 'faydalanmak': 2570, 'zihn': 9347, 'beden': 866, 'tuttuk': 8277, 'taze': 7893, 'şin severek': 9925, 'severek yapan': 7201, 'yapan detay': 8796, 'detay önemseyen': 1734, 'önemseyen biri': 9618, 'biri nsan': 1104, 'esnek olma': 2313, 'olma ban': 5833, 'ban verimlilik': 735, 'verimlilik olarak': 8554, 'olarak ger': 5779, 'ger döndük': 2891, 'döndük sıklık': 1960, 'sıklık tecrüp': 7692, 'tecrüp ett': 7940, 'ett yen': 2364, 'öğrenme yetenek': 9686, 'yetenek geliştirme': 9055, 'geliştirme önemsiyor': 2855, 'önemsiyor amaç': 9620, 'amaç insan': 285, 'ilişki öğreticilik': 3642, 'öğreticilik faydalanmak': 9691, 'faydalanmak gerektik': 2571, 'gerektik düşünüyor': 2915, 'fikir geliştirme': 2598, 'geliştirme zihn': 2854, 'zihn dolayı': 9348, 'dolayı beden': 1876, 'beden sürek': 867, 'sürek aktif': 7646, 'aktif tuttuk': 154, 'tuttuk bilinç': 8278, 'bilinç olarak': 1021, 'iş bireysel': 3876, 'bireysel hayat': 1099, 'hayat yaratıç': 3313, 'yaratıç olma': 8898, 'olma önem': 5837, 'önem olduk': 9616, 'olduk düşünüyor': 5818, 'sık sık': 7690, 'var ayrı': 8481, 'ister stek': 3806, 'stek özen': 7529, 'bir sektör': 1074, 'microsoft excel': 5076, 'sahip microsoft': 6837, 'microsoft powerpoint': 5083, 'microsoft outlook': 5082, 'sosyal sorumluluk': 7439, 'lat': 4584, 'superonlin': 7599, 'nakış': 5381, 'turkcell superonlin': 8265, 'etl': 2351, 'sinif': 7271, 'sg': 7224, 'önlem': 9624, 'zirv': 9359, 'şletmenlik': 9977, 'mühen': 5292, 'yon': 9112, 'şanti': 9879, 'kesmek': 4215, 'isg': 3774, 'egitim': 2121, 'rve': 6799, 'len': 4615, 'kapasi': 4047, 'arttır': 475, 'çelik': 9516, 'demontaj': 1617, 'tedbir': 7952, 'güven k': 3184, 'gi ri': 2981, 'ri ş': 6750, 'progra microsoft': 6456, 'sistem windows': 7315, 'bilgisayar şletmenlik': 1014, 'mühen si': 5293, 'görev aldim': 3090, 'gelen telefon': 2808, 'bilgi vermek': 990, 'zi rve': 9345, 'birikim': 1106, 'katabilecek': 4103, 'sigortacılık': 7258, 'sege': 7101, 'sertifikam': 7163, 'düşünebil': 2018, 'yaklaşım': 8766, 'getirdik': 2951, 'ektek': 2168, 'rica': 6751, 'görme': 3117, 'pet': 6202, 'renault': 6692, 'word exel': 8695, 'değer yetki': 1769, 'yetki eğit': 9077, 'eğit kariyer': 2458, 'kariyer haya': 4074, 'boyu oluşturduk': 1168, 'oluşturduk birikim': 5877, 'birikim kullanarak': 1107, 'kullanarak şirket': 4446, 'şirket değer': 9933, 'değer katabilecek': 1764, 'katabilecek bir': 4104, 'bir pozisyon': 1067, 'çalış istek': 9412, 'istek iletmek': 3798, 'iletmek istiyor': 3594, 'istiyor özellik': 3817, 'katk sağlayacak': 4117, 'sağlayacak düşünüyor': 7063, 'böl nden': 1251, 'nden mezu': 5487, 'çeşit sektör': 9531, 'sektör yıl': 7122, 'yıl deney': 9282, 'deney bulunmak': 1638, 'özellik problem': 9652, 'vade düşünebil': 8470, 'düşünebil yetenek': 2019, 'yetenek insan': 9057, 'ilişki empati': 3633, 'empati yaklaşım': 2232, 'yaklaşım çalış': 8767, 'çalış hayat': 9410, 'hayat başarı': 3309, 'başarı getirdik': 824, 'getirdik düşünüyor': 2952, 'düşünüyor deneyim': 2024, 'deneyim kullanarak': 1644, 'sonuç olarak': 7399, 'özgeçmiş şirket': 9663, 'katabilecek uygun': 4105, 'uygun pozisyon': 8424, 'pozisyon değerlendirilme': 6358, 'değerlendirilme rica': 1779, 'rica ediyor': 6753, 'ş deneyim': 9850, 'gerek görme': 2901, 'görme durum': 3118, 'durum detay': 1939, 'vermek siz': 8571, 'siz karşılık': 7327, 'karşılık görüşmek': 4093, 'görüşmek ister': 3137, 'ltd şti': 4780, 'san tic': 6875, 'tic ltd': 8158, 'progra bilgi': 6451, 'başvuran': 850, 'ameliyat': 290, 'ziyare': 9360, 'acil servis': 35, 'etmek gerek': 2356, 'özel okul': 9646, 'işletmenlik': 3934, 'eğit merkez': 2460, 'e b': 2041, 'bilgisayar işletmenlik': 1005, 'ofi programlari': 5710, 'annual': 366, 'existing': 2429, 'potential': 6327, 'key': 4218, 'region': 6675, 'coordination': 1480, 'responsip': 6718, 'organizing': 5985, 'periodic': 6174, 'meetings': 4962, 'analyzing': 342, 'distributor': 1846, 'timely': 8177, 'actions': 40, 'reporting': 6696, 'effectiv': 2112, 'made': 4804, 'relationship': 6687, 'quality': 6612, 'leading': 4601, 'organizational': 5982, 'career': 1346, 'direct': 1830, 'general': 2880, 'develop': 1745, 'revenue': 6732, 'lin': 4678, 'country': 1492, 'growth': 3053, 'build': 1191, 'within': 8688, 'driv': 1927, 'satisfaction': 6918, 'strategic': 7550, 'establish': 2316, 'maintai': 4813, 'prepare': 6383, 'plans': 6265, 'transport': 8236, 'opportunities': 5932, 'giving': 3009, 'daily': 1534, 'controlling': 1476, 'raw': 6654, 'materials': 4915, 'brand': 1175, 'implementation': 3667, 'providing': 6580, 'organization': 5981, 'agencies': 99, 'ensure': 2266, 'excellent': 2418, 'execution': 2423, 'closely': 1413, 'following': 2701, 'functional': 2753, 'developing': 1748, 'special': 7452, 'designs': 1710, 'deal': 1594, 'orders': 5960, 'via': 8581, 'performing': 6173, 'different': 1799, 'departments': 1664, 'logistics': 4740, 'directly': 1831, 'understanding': 8349, 'environment': 2275, 'effectively': 2113, 'decision': 1595, 'making': 4835, 'visits': 8592, 'trust': 8246, 'sap crm': 6888, 'key account': 4219, 'team management': 7911, 'general manager': 2881, 'sales manager': 6867, 'sales activities': 6866, 'professional': 6437, 'industrial': 3699, 'automation': 576, 'proposals': 6563, 'regu': 6677, 'increase': 3693, 'share': 7226, 'demo': 1616, 'technical': 7916, 'manufacturing': 4887, 'industry': 3701, 'logistic': 4739, 'automotiv': 577, 'high': 3403, 'offer': 5671, 'safety': 6814, 'works': 8711, 'solution': 7368, 'partners': 6095, 'accordance': 23, 'gis': 3004, 'relations': 6686, 'together': 8189, 'units': 8357, 'processes': 6425, 'tenders': 8065, 'phase': 6206, 'electrical': 2178, 'required': 6701, 'progress': 6517, 'law': 4585, 'solving': 7370, 'analytical': 339, 'machin': 4795, 'offi autocad': 5678, 'customer needs': 1520, 'products services': 6434, 'marketing sales': 4901, 'days': 1584, 'agreement': 104, 'regarding': 6674, 'issues': 3787, 'creativ': 1498, 'experienced': 2431, 'channel': 1384, 'forecasting': 2708, 'coaching': 1423, 'across': 37, 'strategies': 7551, 'pricing': 6397, 'goals': 3023, 'insert': 3718, 'channels': 1385, 'retail': 6730, 'stores': 7547, 'multi': 5250, 'gai': 2766, 'contracts': 1473, 'telecommunication': 8009, 'sector': 7096, 'markets': 4903, 'getting': 2958, 'year': 8992, 'contact': 1469, 'trends': 8240, 'media': 4948, 'dr': 1919, 'ads': 86, 'fmcg': 2696, 'social': 7350, 'website': 8644, 'administration': 68, 'instagra': 3721, 'telekomünikasyon': 8015, 'p l': 6054, 'management project': 4876, 'management business': 4875, 'customer relations': 1521, 'süreç analiz': 7656, 'raporla finansal': 6640, 'social media': 7351, 'budget': 1186, 'ac': 13, 'cad': 1324, 'unigraphics': 8351, 'university': 8360, 'projem': 6561, 'itibari': 3828, 'fiyatlandır': 2683, 'sürdürmek': 7640, 'analyst': 338, 'executive': 2424, 'procedures': 6422, 'candidates': 1338, 'strategy': 7552, 'specialist': 7453, 'future': 2757, 'aspects': 529, 'focused': 2699, 'deep': 1596, 'driving': 1930, 'innovation': 3710, 'proactiv': 6411, 'building': 1193, 'priç': 6408, 'target': 7859, 'according': 24, 'sing': 7269, 'show': 7236, 'update': 8365, 'collection': 1430, 'implement': 3665, 'monitor': 5158, 'create': 1496, 'studies': 7568, 'necessary': 5494, 'optimization': 5938, 'requests': 6700, 'follow': 2700, 'apply': 390, 'engineering': 2260, 'terms': 8094, 'accurate': 28, 'upper': 8366, 'scope': 7085, 'commercial': 1439, 'motivated': 5175, 'result': 6727, 'player': 6272, 'tools': 8196, 'problem solving': 6416, 'auto cad': 558, 'endüstri mühendislik': 2243, 'mühendislik mezun': 5304, 'ticari pazarla': 8168, 'pazarla uzman': 6141, 'bitir projem': 1127, 'iş başl': 3873, 'iletiş konu': 3585, 'da analysis': 1529, 'digital marketing': 1802, 'product development': 6429, 'management team': 4879, 'karar al': 4062, 'ekip çalışma': 2153, 'uzman satış': 8445, 'self motivated': 7133, 'management skills': 4877, 'organizational skills': 5983, 'tim management': 8176, 'team player': 7913, 'e commer': 2044, 'forecast': 2707, 'demand': 1611, 'prepared': 6384, 'improve': 3673, 'managed': 4873, 'important': 3672, 'manner': 4884, 'brands': 1176, 'value': 8478, 'interpersonal': 3746, 'advertising': 91, 'electronic': 2180, 'investment': 3752, 'organized': 5984, 'events': 2377, 'standards': 7511, 'objectives': 5642, 'europe': 2369, 'modern': 5149, 'take': 7731, 'improvement': 3674, 'areas': 459, 'trend': 8239, 'best': 923, 'supplier': 7601, 'responsibility': 6717, 'two': 8284, 'coordinate': 1478, 'results': 6728, 'improving': 3675, 'class': 1407, 'concepts': 1456, 'idea': 3515, 'administrativ': 69, 'complaints': 1446, 'person': 6181, 'cash': 1352, 'handling': 3263, 'operation': 5926, 'day': 1581, 'presentation': 6387, 'image': 3655, 'chemical': 1389, 'marka yönet': 4896, 'yönet pazarla': 9170, 'pazarla strateji': 6137, 'nler': 5580, 'bor': 1151, 'hacmin': 3223, 'leri': 4626, 'des': 1703, 'eğit sertifika': 2464, 'yen proje': 9015, 'danışmanlık yapmak': 1564, 'satış yapan': 6996, 'rol al': 6775, 'domestic': 1879, 'fashion': 2549, 'fabric': 2516, 'times': 8178, 'textile': 8128, 'payment': 6118, 'factory': 2521, 'kind': 4229, 'us': 8372, 'germany': 2925, 'countries': 1491, 'applications': 388, 'understand': 8348, 'buyer': 1246, 'correct': 1488, 'buyers': 1247, 'right': 6754, 'long': 4769, 'expertise': 2434, 'believ': 885, 'success': 7578, 'knowing': 4263, 'reach': 6660, 'proficient': 6446, 'listening': 4716, 'focus': 2698, 'asking': 523, 'intelligent': 3727, 'questions': 6617, 'discovery': 1839, 'analyze': 341, 'prospect': 6570, 'quickly': 6618, 'able': 9, 'setup': 7193, 'shipment': 7230, 'cs': 1511, 'flour': 2693, 'auditing': 555, 'agreements': 105, 'conditions': 1459, 'goods': 3031, 'documentation': 1866, 'machinery': 4797, 'details': 1730, 'certificate': 1376, 'anti': 371, 'cases': 1351, 'get': 2949, 'sourcing': 7441, 'east': 2056, 'way': 8624, 'boot': 1149, 'must': 5253, 'delivery': 1605, 'gui': 3067, 'basis': 777, 'flow': 2694, 'manage': 4872, 'list': 4710, 'processing': 6426, 'evaluate': 2374, 'communicate': 1440, 'provi': 6578, 'good knowledge': 3030, 'offi applications': 5677, 'applications word': 389, 'long term': 4770, 'export import': 2438, 'international marketing': 3735, 'international sales': 3736, 'international trade': 3737, 'foreign trade': 2710, 'high level': 3404, 'customer serv': 1522, 'powerpoi': 6333, 'metro': 5031, 'food': 2705, 'osb': 6009, 'kahve': 3994, 'metalurji': 5024, 'maden': 4805, 'kesiç': 4213, 'aş': 670, 'port': 6307, 'taahhüt': 7708, 'arçelik': 489, 'lg': 4641, 'konserv': 4295, 'leader': 4599, 'excel powerpoi': 2401, 'powerpoi nt': 6334, 'olarak yıl': 5801, 'başl görev': 832, 'müşter kazan': 5330, 'osb müdürlük': 6010, 'san ş': 6876, 'turkcell kurumsal': 8263, 'kurumsal çöz': 4530, 'kurumsal müşter': 4526, 'müşteri hizmet': 5357, 'satış müdür': 6966, 'kurumsal hizmet': 4522, 'satış yönetici': 7002, 'çecek': 9512, 'firmam': 2671, 'civar': 1405, 'abone': 11, 'sd': 7090, 'satış departman': 6947, 'şirket hedef': 9936, 'ekip yönetim': 2152, 'mm sd': 5135, 'olduk bölge': 5817, 'çalış yapmak': 9428, 'çalışma destek': 9459, 'uyg': 8390, 'cep': 1372, 'crosoft offi': 1507, 'ce programlari': 1366, 'ndows şlet': 5492, 'satış organizasyon': 6974, 'personel eğit': 6189, 'bun birlik': 1229, 'mağaza genel': 4927, 'gerek eğitim': 2899, 'telekomünikasyon sektör': 8016, 'gösteren firma': 3147, 'cep telefon': 1373, 'sonra müşter': 7391, 'ürün yönet': 9803, 'mekanik': 4968, 'hidrolik': 3401, 'pnömatik': 6284, 'arıza müdahale': 501, 'mekanik bak': 4969, 'hidrolik pnömatik': 3402, 'türkiye': 8307, 'vinç': 8586, 'pompa': 6305, 'onarim': 5890, 'teknisyen': 7988, 'mekani': 4966, 'üret tesis': 9760, 'bakım yapmak': 724, 'bakim onarim': 720, 'bak teknisyen': 714, 'mekani k': 4967, 'manisa': 4883, 'gelt': 2861, 'beyaz eşya': 930, 'firma yıl': 2665, 'belge var': 882, 'src': 7480, 'usta': 8378, 'sınıf ehliyet': 7698, 'frez': 2738, 'nc': 5479, 'cnc': 1419, 'sıhhi': 7687, 'bak konu': 708, 'konu yıllık': 4353, 'yıllık iş': 9316, 'alan uzman': 210, 'kıs zaman': 4563, 'elektrik bak': 2188, 'ş makina': 9858, 'kullan bilgi': 4420, 'mekanik tesisat': 4972, 'sıhhi tesisat': 7688, 'elektromekanik': 2202, 'kompanzasyon': 4280, 'pano': 6078, 'kumanda': 4472, 'soğut': 7443, 'projelendir': 6558, 'alet': 223, 'tesisa': 8102, 'geril': 2922, 'tezgah': 8130, 'kalıp': 4023, 'ada': 46, 'sağlayıp': 7066, 'konstrüksiyon': 4297, 'motor': 5177, 'algıla': 226, 'söndür': 7623, 'talaş': 7794, 'og': 5722, 'havalandır': 3298, 'routers': 6783, 'şartname': 9885, 'konut': 4358, 'brülör': 1182, 'isıtm': 3820, 'plastik enjeksiyon': 6270, 'kumanda pano': 4473, 'zayıf ak': 9338, 'yük geril': 9234, 'ş bünye': 9848, 'elektrik mekanik': 2193, 'taşeron firma': 7896, 'elektrik kumanda': 2192, 'elektrik motor': 2194, 'yang algıla': 8777, 'söndür sistem': 7624, 'talaş malat': 7796, 'wan wide': 8619, 'güvenlik mevzu': 3196, 'ngilizce': 5560, 'bir parça': 1066, 'şlet yönet': 9973, 'bilgi dene': 978, 'ray': 6655, 'ısıt': 9840, 'solid works': 7362, 'görev yaptim': 3107, 'profosyonel': 6448, 'trim': 8243, 'sac': 6810, 'kaliplari': 4014, 'kalip': 4013, 'ariza': 464, 'üniversal': 9707, 'kaynagi': 4144, 'elektirik': 2182, 'argon': 463, 'tig': 8169, 'tecrube': 7922, 'tesvi': 8125, 'cnc frez': 1420, 'otomotiv sektör': 6030, 'kaynak bilgi': 4147, 'torn tesvi': 8211, 'revizyon': 6736, 'gerçekleştiriyor': 2943, 'dworks': 1952, 'aparat': 380, 'daki': 1539, 'fanuc': 2536, 'pun': 6595, 'profil': 6447, 'güneş': 3175, 'tasar imalat': 7871, 'imalat montaj': 3662, 'ms ofi': 5190, 'soli dworks': 7360, 'makine tasar': 4834, 'kurul bak': 4504, 'kontrol sistem': 4307, 'cnc torn': 1421, 'kaynak kullan': 4149, 'böl sorum': 1252, 'al ms': 172, 'proje hazırlanma': 6527, 'sipari': 7274, 'telefon satış': 8012, 'reklamcılık': 6684, 'gayrimenkul satış': 2782, 'pazarla süreç': 6138, 'süreç görev': 7660, 'satış yöneticilik': 7003, 'yapmak microsoft': 8811, 'amortisman': 296, 'home': 3446, 'sta': 7489, 'express': 2439, 'dem': 1610, 'soft': 7352, 'birik': 1105, 'kayp': 4156, 'ölç': 9587, 'ü': 9697, 'karş': 4085, 'bedel': 865, 'faiz': 2523, 'desteklemek': 1728, 'öneri': 9622, 'banka hesap': 741, 'personel bordro': 6187, 'hesap kontrolü': 3386, 'muhasep müdür': 5233, 'ihracat ithalat': 3525, 'arız bak': 497, 'vi sta': 8579, 'offi xp': 5703, 'access excel': 16, 'outlook express': 6039, 'nternet explorer': 5622, 'engel bulunmamak': 2256, 'satış ekip': 6949, 'çalış düzen': 9406, 'iş ortak': 3891, 'talimat hazırlanma': 7802, 'işlem yürütmek': 3920, 'türki dek': 8302, 'şirket strateji': 9943, 'cisco routers': 1402, 'yapabiliyor': 8789, 'hti': 3467, 'muhasebeç': 5219, 'kullan windows': 4422, 'program or': 6488, 'internet kullan': 3741, 'donan konu': 1882, 'konu yeter': 4350, 'bireysel emeklilik': 1098, 'doğrultu satış': 1914, 'sahip müşter': 6839, 'öğrenen': 9681, 'bildik': 951, 'hizmet verilme': 3433, 'kurumsal satış': 4528, 'gelen çağrı': 2809, 'kapanış': 4046, 'girme': 3001, 'basıc': 782, 'powerpoınt': 6352, 'donanım': 1887, 'switch': 7615, 'memur': 4988, 'psikoloji': 6588, 'bilen': 958, 'yazar': 8941, 'zorluk': 9381, 'nbsp iş': 5423, 'eta lks': 2325, 'kurul kullan': 4508, 'üniversite bilgisayar': 9713, 'muhasep verg': 5245, 'danışmanlık firma': 1561, 'eğitim tama': 2477, 'pozisyon çalışmak': 6365, 'kent istek': 4203, 'süreç ilgi': 7662, 'geliştir çalışma': 2836, 'world exel': 8718, 'temel bilgisayar': 8032, 'bilgisayar bilgi': 1002, 'powerpoint excel': 6339, 'bell bir': 907, 'proğra': 6582, 'kalan': 3997, 'vakf': 8473, 'arayan': 422, 'ürün tanıt': 9799, 'kurumsal letiş': 4525, 'cpm': 1494, 'gelir': 2811, 'iplik': 3763, 'mümessil': 5310, 'ince': 3684, 'ayakkabı': 600, 'ürettik': 9775, 'verg daire': 8534, 'vergi beyanname': 8537, 'beyanname hazırlanma': 928, 'olarak kent': 5785, 'risk analiz': 6756, 'tekstil sektör': 8005, 'ger bildir': 2889, 'görev yap': 3103, 'sektör nbsp': 7118, 'takip satış': 7766, 'sispar': 7283, 'siemens': 7247, 'farkli': 2546, 'oldug': 5813, 'giş': 3013, 'yürütülen': 9264, 'excell word': 2417, 'nternet uygulama': 5626, 'uygulama logo': 8401, 'merkez müşter': 5000, 'photoshop ms': 6216, 'züccaci': 9384, 'geçilme': 2965, 'hedef gerçekleştirilme': 3354, 'takip müşter': 7758, 'danişmani': 1547, 'ayrılma': 623, 'danış': 1554, 'abas': 5, 'kaydetmek': 4141, 'rezidans': 6741, 'dikkate': 1808, 'dair': 1537, 'çizim': 9543, 'hatas': 3290, 'kırtasi': 4557, 'memnuni odak': 4980, 'ndows xp': 5491, 'xp word': 8745, 'faaliyet ilgi': 2507, 'yak takip': 8753, 'yapmak ms': 8812, 'ilgi nbsp': 3613, 'şekil yürütülme': 9907, 'yurtdış yurtiç': 9128, 'syen': 7618, 'kontroller': 4313, 'kullanim': 4449, 'islem': 3778, 'kasi': 4098, 'presto': 6391, 'şeflik': 9894, 'mimarlık': 5111, 'katl': 4121, 'op': 5903, 'biz': 1134, 'çiftlik': 9535, 'istasyon': 3790, 'delta': 1609, 'enerji': 2249, 'organizasyo': 5969, 'nun': 5629, 'tünel': 8294, 'direk': 1835, 'autocad solidworks': 572, 'sap progra': 6901, 'konut proje': 4360, 'şanti şeflik': 9881, 'yapmak olduk': 8817, 'onay süreç': 5893, 'güçl bir': 3208, 'takip proje': 7762, 'siste tasar': 7295, 'çalıştık sür': 9493, 'grup nun': 3058, 'satış teknik': 6992, 'yıl itibaren': 9286, 'çelik konstrüksiyon': 9517, 'satış kirala': 6963, 'cat': 1356, 'bırak': 1306, 'elektroni': 2203, 'devr': 1758, 'boyut': 1169, 'sonr yıl': 7387, 'satış proje': 6978, 'proje nbsp': 6532, 'mekanik elektrik': 4970, 'elektrik tesisat': 2200, 'elektroni k': 2204, 'üste': 9812, 'yüksek': 9251, 'sca': 7079, 'pano montaj': 6079, 'sap mm': 6895, 'teknikerlik': 7987, 'bilgi tecrübe': 986, 'yıl tecrübe': 9301, 'esas': 2303, 'inşa': 3754, 'lem': 4614, 'tadilat': 7720, 'alüminyum': 261, 'ihbar': 3522, 'sensör': 7146, 'çalıştırılma': 9496, 'sıv': 7706, 'mekatronik': 4974, 'fabri': 2514, 'nalari': 5382, 'yaratılma': 8895, 'alışveriş merkez': 281, 'üst yap': 9809, 'olarak yapılma': 5799, 'ver lmes': 8516, 'fabri ka': 2515, 'maki nalari': 4824, 'güvenlik sistem': 3197, 'firma teknik': 2661, 'city': 1404, 'projelendirme': 6560, 'yakalama': 8758, 'alçak': 260, 'mar': 4891, 'o': 5637, 'kule': 4418, 'tasarim': 7878, 'yal': 8770, 'hazirlam': 3322, 'üret tesi': 9759, 'ms offıce': 5189, 'kullanarak değer': 4444, 'bir görev': 1052, 'görev çalış': 3110, 'üniversite elektrik': 9714, 'firma elektrik': 2639, 'grup firma': 3056, 'tic ş': 8159, 'ş firma': 9851, 'elektrik işler': 2191, 'müdür olarak': 5284, 'konu oldukç': 4342, 'uygun bir': 8418, 'iş fırsat': 3880, 'fırsat yakalama': 2763, 'devlet hastane': 1755, 'proje uygula': 6541, 'ms powerpoint': 5195, 'finansman bütç': 2623, 'offi ms': 5684, 'grafi': 3039, 'arıt': 490, 'santrali': 6884, 'ısıt soğut': 9841, 'soğut sistem': 7445, 'sistem bak': 7303, 'su arıt': 7575, 'tesis yönet': 8101, 'belgelendir': 883, 'patent': 6108, 'bilir': 1023, 'yedekle': 8998, 'imaj': 3657, 'tetkik': 8126, 'pfsen': 6205, 'fortinet': 2720, 'wista': 8686, 'işletilme': 3931, 'açılacak': 651, 'yüklenme': 9250, 'hsbc': 3465, 'fiat': 2591, 'dell': 1606, 'es': 2302, 'cc': 1360, 'virtual': 8588, 'checkpoint': 1388, 'üret alan': 9736, 'siste yönet': 7298, 'server kurul': 7170, 'mail server': 4811, 'say yetki': 7009, 'son yıl': 7382, 'yapan bir': 8795, 'bir fabrika': 1050, 'yöne bilgi': 9138, 'server yönet': 7179, 'firewall yönet': 2627, 'cihaz kurul': 1395, 'kurul yapılandırılma': 4509, 'ikamet edebilir': 3551, 'server exchange': 7169, 'exchange server': 2422, 'güvenlik kamera': 3193, 'yen açılacak': 9004, 'hsbc bank': 3466, 'network sistem': 5539, 'sistem kurul': 7307, 'son olarak': 7380, 'bilgi teknoloji': 988, 'teknoloji konu': 7992, 'bir tecrübe': 1079, 'tecrübe sahip': 7933, 'ms exchange': 5186, 'ibm os': 3506, 'os windows': 6008, 'vpn virtual': 8613, 'virtual private': 8589, 'private networking': 6407, 'eş': 2487, 'sürdürülme': 7642, 'tpm': 8215, 'iyileştirme': 3844, 'kaizen': 3995, 'emr': 2235, 'torba': 8209, 'yatırım': 8931, 'ünite': 9706, 'bulun': 1201, 'oluşabilecek': 5869, 'standar': 7509, 'bak faaliyet': 706, 'bak ekip': 705, 'uygulama ms': 8402, 'süreklilik sağlanma': 7652, 'makine ekipman': 4830, 'montaj devre': 5162, 'bakım yapılma': 725, 'çalışma takip': 9468, 'proje yöneticilik': 6548, 'güç elektronik': 3204, 'yönet sap': 9177, 'siemens plc': 7248, 'hemşire': 3378, 'hemşirelik': 3379, 'yok bak': 9101, 'bak hemşire': 707, 'hemşir': 3377, 'süren': 7653, 'fakülte mezun': 2532, 'ameliyathane': 291, 'üniversite lisans': 9720, 'öğrencilik': 9679, 'topluluk': 8207, 'sağlık kuruluş': 7073, 'iletiş kuvvet': 3587, 'yıl nbsp': 9294, 'nbsp sorum': 5449, 'operating systems': 5925, 'kalp': 4020, 'damar': 1543, 'kalp damar': 4021, 'gold eta': 3026, 'offi proğram': 5696, 'edebilecek': 2063, 'kan': 4036, 'önem bir': 9613, 'bir yer': 1083, 'alan yıllık': 212, 'geliştirmek istiyor': 2859, 'motivasyon yük': 5174, 'yük takım': 9245, 'çalışma başarı': 9455, 'gerek teknik': 2906, 'sev ye': 7195, 'sahi bi': 6824, 'analiz yaparak': 330, 'point internet': 6291, 'mamul': 4868, 'mamuller': 4869, 'fir': 2625, 'yar mamul': 8887, 'yapılma gere': 8857, 'takip raporla': 7763, 'plan yapılma': 6242, 'personel takip': 6198, 'fran': 2732, 'rmalari': 6765, 'tedari': 7943, 'şek': 9899, 'lde': 4593, 'check': 1386, 'rli': 6762, 'lpg': 4778, 'ts': 8247, 'fmea': 2697, 'fi rmalari': 2589, 'şler n': 9960, 'şek lde': 9900, 'le bi': 4596, 'bi rli': 942, 'rli kte': 6763, 'nbsp microsoft': 5432, 'üret mi': 9744, 'şirket çalışan': 9948, 'iso ts': 3784, 'ç kontrol': 9388, 'petrol': 6203, 'bult': 1200, 'pvc': 6601, 'prose': 6564, 'literatür': 4717, 'bakış': 728, 'açıs': 656, 'sağlıyor': 7078, 'a': 1, 'standart uygunluk': 7515, 'bilgi tecrüp': 987, 'sahip olt': 6846, 'el edilen': 2170, 'kali kontrolü': 4005, 'fırsat bult': 2761, 'point outlook': 6295, 'çalışma seven': 9467, 'bir bakış': 1042, 'bakış açıs': 729, 'açıs sahip': 658, 'prosedür uygun': 6567, 'gerek aksiyon': 2895, 'sap siste': 6905, 'etk şekil': 2343, 'performans takip': 6170, 'vardiya çalış': 8488, 'operasyonel işlem': 5921, 'bir eğit': 1049, 'kazandırmak': 4173, 'verip': 8557, 'hizmet ilgi': 3421, 'istemek': 3801, 'inanç': 3680, 'point word': 6297, 'turizm otelcilik': 8259, 'kariyer yapmak': 4079, 'kent güven': 4199, 'ikna kabi': 3558, 'sunt': 7592, 'onur': 5901, 'air': 113, 'telemarketing': 8018, 'veriç': 8564, 'firma yen': 2664, 'ekip destek': 2140, 'olduk firma': 5820, 'muhasep işlem': 5227, 'hedef odak': 3358, 'odak ekip': 5651, 'yabanç dil': 8750, 'katarak': 4110, 'arttırma': 476, 'tüketiç': 8292, 'ettirmek': 2367, 'lansman': 4581, 'kiralık': 4236, 'zorun': 9382, 'pivot': 6226, 'kent sürek': 4208, 'yük lisans': 9236, 'müşter deney': 5323, 'analiz etm': 322, 'devam ettirmek': 1743, 'planlama yapmak': 6256, 'ekip yer': 2149, 'yer alacak': 9031, 'tem etmek': 8027, 'olarak çalışma': 5805, 'portfö': 6309, 'kurabilen': 4486, 'işin': 3908, 'hedeflemek': 3366, 'artırmak': 482, 'ölçek': 9589, 'açılan': 652, 'bilinirlik': 1018, 'sunan': 7586, 'planlamak': 6258, 'günde': 3173, 'reviz': 6735, 'sağlan': 7049, 'derece ms': 1690, 'sektör satış': 7119, 'satış geliştir': 6955, 'sektör fark': 7112, 'geniş bir': 2883, 'müşter portfö': 5338, 'satış müşter': 6968, 'yen satış': 9016, 'satış süreç': 6987, 'rakip analiz': 6628, 'araç satış': 436, 'süreç yürütmek': 7674, 'çalış sistem': 9424, 'güçl iletiş': 3210, 'iletiş kurabilen': 3586, 'yönet ürün': 9193, 'ürün portföy': 9793, 'müşter yönet': 5348, 'yönet bütç': 9157, 'yönet tedarikç': 9187, 'tedarikç yönet': 7949, 'den fazl': 1621, 'satış servis': 6982, 'verilen hedef': 8544, 'uygulanma sağlamak': 8411, 'raporlama yapmak': 6647, 'kali standart': 4008, 'hedef gerçekleşme': 3353, 'sağlamak satış': 7044, 'pazarla ekip': 6128, 'marka bilinirlik': 4894, 'satış bütçe': 6942, 'faaliyet planlamak': 2508, 'süreç iyileştir': 7663, 'ihtiyaç gör': 3539, 'başladık görev': 836, 'bankacılık sektör': 750, 'çalışma aktif': 9454, 'faaliyet gerçekleştirmek': 2504, 'faaliyet planlanma': 2509, 'sonra süreç': 7392, 'alan faaliyet': 199, 'gerçekleştirmek müşter': 2946, 'süreç yer': 7669, 'uludağ': 8330, 'kıbrıs': 4554, 'program excel': 6471, 'davranış': 1580, 'haf': 3224, 'dekorasyon': 1603, 'tasarlanma': 7881, 'paralel': 6083, 'gen': 2863, 'yaşadık': 8984, 'ataşehir': 542, 'eğitmek': 2482, 'fonksiyonel': 2704, 'yarar': 8889, 'rehber': 6678, 'mode': 5144, 'outlook internet': 6040, 'eğit satış': 2462, 'prim sistem': 6400, 'proje satış': 6535, 'konut kredi': 4359, 'ziyaret bulunmak': 9362, 'şirket grup': 9935, 'yapmak satış': 8819, 'yönet raporlanma': 9176, 'hedef belirlenme': 3351, 'satış ofis': 6972, 'ekip yönetilme': 2151, 'zaman olarak': 9328, 'sah çalışma': 6821, 'içeren': 3861, 'yönte': 9229, 'likom': 4674, 'verimor': 8555, 'tegsoft': 7954, 'sadakat': 6811, 'telesales': 8022, 'lifecell': 4668, 'bulunul': 1220, 'söz': 7625, 'ne': 5493, 'başlık': 848, 'gerçekleştiril': 2940, 'inbound': 3682, 'kazandırılma': 4174, 'kana': 4037, 'outsource': 6046, 'simülasyon': 7265, 'prestij': 6390, 'indir': 3697, 'yenile': 9023, 'is': 3770, 'oluşturulan': 5880, 'uyarlanma': 8387, 'programme': 6510, 'misyon': 5128, 'sağlama': 7031, 'edinen': 2095, 'erasmus': 2282, 'likom verimor': 4675, 'verimor tegsoft': 8556, 'tegsoft http': 7955, 'http ms': 3474, 'windows professional': 8670, 'professional nets': 6438, 'nets telemarketing': 5531, 'telemarketing telefon': 8019, 'telefon iletiş': 8011, 'iletiş müşter': 3588, 'müşter sadakat': 5340, 'sadakat yönet': 6812, 'yıllık dene': 9313, 'dene danışmanlık': 1625, 'vermek ayrı': 8568, 'ayrı kişisel': 621, 'kişisel zaman': 4249, 'etk satış': 2341, 'yönet stres': 9183, 'stres kontrolü': 7561, 'kontrolü konu': 4316, 'kurumsal eğit': 4520, 'eğit yaşa': 2469, 'yaşa kariyer': 8981, 'kariyer koçluk': 4077, 'koçluk vermek': 4397, 'vermek telemarketing': 8572, 'telemarketing telesales': 8020, 'telesales alan': 8023, 'alan ngilter': 207, 'ngilter ukrayn': 5562, 'ukrayn turkcell': 8320, 'turkcell lifecell': 8264, 'lifecell dahil': 4669, 'dahil proje': 1533, 'proje start': 6537, 'start eğit': 7520, 'eğit alan': 2446, 'faaliyet bulunul': 2502, 'tanıt satış': 7846, 'iç eğit': 3855, 'söz konu': 7626, 'konu yıl': 4352, 'inbound outbound': 3683, 'uygulama yapılma': 8407, 'satış kana': 6961, 'hazırlanma müşter': 3337, 'yüz yüz': 9269, 'şirket genel': 9934, 'eğitim al': 2473, 'aylık hedef': 609, 'geliştirilme satış': 2848, 'nde çağrı': 5484, 'yönet bölüm': 9156, 'alan görev': 200, 'bılgısayar': 1304, 'bölge satış': 1263, 'gı güvenlik': 3214, 'yönet yen': 9191, 'sistem ş': 7318, 'ş akış': 9844, 'destek tasar': 1722, 'bılgısayar program': 1305, 'mali iş': 4848, 'proteus': 6573, 'kazandık': 4171, 'katmak': 4125, 'çalışabilir': 9440, 'bant': 760, 'jeneratör': 3953, 'kesintis': 4212, 'matlab': 4917, 'isis': 3776, 'derece biliyor': 1682, 'açık sorumluluk': 648, 'eğit haya': 2455, 'kent alan': 4194, 'sürek olarak': 7650, 'firma değer': 2638, 'değer katmak': 1767, 'elektrik pano': 2196, 'üzer bir': 9822, 'çalış imkan': 9411, 'fırsat olt': 2762, 'sah montaj': 6818, 'c programming': 1317, 'programming language': 6512, 'powerpoint autocad': 6337, 'sketch': 7332, 'katma': 4124, 'mekanizma': 4973, 'kolaylık': 4274, 'mala': 4841, 'makine mühendislik': 4832, 'şanti şef': 9880, 'çiz program': 9541, 'sektör önç': 7127, 'önç firma': 9632, 'firma olan': 2654, 'yönet kali': 9162, 'mühendi satış': 5297, 'satış mühendi': 6967, 'arge mühendi': 462, 'ge proje': 2792, 'maki na': 4823, 'renk': 6694, 'kapla': 4050, 'etiket': 2334, 'gerçekleştiren': 2938, 'alır': 272, 'belirledik': 889, 'uret': 8370, 'yetiştirmek': 9074, 'teslim': 8110, 'pp': 6369, 'packaging': 6057, 'olmak ister': 5841, 'orta çıkan': 5994, 'standart gör': 7513, 'üret proses': 9752, 'gerek çalışma': 2907, 'yapılan işler': 8847, 'işler yapılma': 3927, 'alan tecrübe': 209, 'düşündük': 2017, 'yerleş': 9044, 'oran': 5957, 'optimizasyon': 5937, 'c programla': 1316, 'fi co': 2582, 'yal üret': 8771, 'müdürlük nde': 5289, 'excel sap': 2404, 'planla departman': 6244, 'endüstri mühendi': 2242, 'graduated': 3038, 'abroad': 12, 'short': 7235, 'command': 1435, 'written': 8724, 'plant': 6266, 'spare': 7448, 'parts': 6096, 'module': 5151, 'components': 1451, 'assembly': 530, 'balancing': 730, 'requirements': 6702, 'optimum': 5939, 'methods': 5026, 'final': 2605, 'policy': 6300, 'leadership': 4600, 'fluent': 2695, ';(': 0, 'basic c': 772, 'able work': 10, 'good command': 3029, 'command english': 1436, 'written spoken': 8725, 'team work': 7914, 'hyundai': 3489, 'yağ': 8975, 'yelpaze': 8999, 'yapt ms': 8828, 'sistem proje': 7313, 'mü olarak': 5276, 'müşteri ürün': 5365, 'ürün yelpaze': 9802, 'tane': 7829, 'mustaf': 5254, 'kemal': 4188, 'tez': 8129, 'tehlike': 7956, 'karayo': 4066, 'doğalgaz': 1902, 'ulaştır': 8326, 'üret planlama': 9751, 'logo erp': 4744, 'erp uygulama': 2298, 'logo unity': 4756, 'seviye ms': 7206, 'autocad yi': 573, 'yıl stanbul': 9297, 'üniversite endüstri': 9715, 'lisans mezun': 4702, 'mezun yıl': 5058, 'demir çelik': 1613, 'sektör çalışmak': 7125, 'yönet üret': 9192, 'kontrol bölüm': 4303, 'bitir tez': 1128, 'iso ohsas': 3783, 'c sınıf': 1319, 'sınıf ş': 7702, 'güvenlik uzman': 3198, 'çalışma proje': 9465, 'proje uygulama': 6542, 'faaliyet bul': 2500, 'erp sap': 2295, 'sap pp': 6900, 'malzeme htiyaç': 4858, 'htiyaç planlama': 3469, 'kaynak planlama': 4150, 'oil': 5724, 'akaryakıt': 124, 'borula': 1160, 'otomoti': 6027, 'fiyat analiz': 2678, 'sah ekip': 6817, 'otomoti v': 6028, 'yapan bi': 8794, 'ayni zaman': 615, 'ci li': 1391, 'uygulama word': 8406, 'yaşamak': 8987, 'samim': 6871, 'benimseyen': 913, 'alaninda': 214, 'faal': 2494, 'ilişki kuvvet': 3636, 'xp microsoft': 8740, 'destek uzman': 1723, 'kara': 4057, 'medya hesap': 4958, 'malzeme takip': 4864, 'kayıt tutmak': 4164, 'cevap vermek': 1379, 'plan program': 6239, 'derece kullanabiliyor': 1688, 'ilet': 3578, 'tutarak': 8272, 'geçirilme': 2967, 'dönüştürmek': 1968, 'ekip görev': 2141, 'odak çalışma': 5662, 'pazarla departman': 6127, 'point access': 6288, 'tasar üret': 7877, 'takip gerçekleştirmek': 7750, 'tasar ekip': 7869, 'akti f': 146, 'gelen talep': 2807, 'anali z': 312, 'ade': 61, 'ulaşılma': 8329, 'kasa': 4097, 'irsaliye': 3766, 'kesilme': 4211, 'işler yürütülme': 3928, 'unsur': 8364, 'mezuniyet': 5059, 'teks': 7999, 'yürütebilecek': 9260, 'yönetmen': 9221, 'diz': 1854, 'sponsorluk': 7458, 'bugü': 1187, 'karakter': 4060, 'sinema': 7268, 'koordinatörlük': 4381, 'erkek': 2284, 'tasarımç': 7887, 'belirleyip': 898, 'prodüksiyon': 6435, 'vitr': 8600, 'tanımlanma': 7842, 'sn': 7347, 'peraken sektör': 6163, 'teks l': 8000, 'satış danışmanlık': 6944, 'yön vermek': 9134, 'nbsp yen': 5463, 'takip nbsp': 7759, 'kontrol takip': 4309, 'nbsp mağaza': 5429, 'doğr bir': 1905, 'çalış program': 9421, 'takvim': 7782, 'ingilizce': 3707, 'güncellik': 3172, 'tanım': 7840, 'fiyatlandırılma': 2684, 'olunma': 5865, 'destek hatt': 1715, 'kurumsal iletiş': 4523, 'görev tanım': 3102, 'progra üzer': 6462, 'şube bireysel': 9986, 'müdürlük bağl': 5286, 'destek olunma': 1719, 'uçuş': 8465, 'film': 2603, 'röportaj': 6800, 'br': 1172, 'televizyon': 8024, 'macro': 4799, 'workshop': 8713, 'yayın': 8934, 'üstlenmek': 9815, 'sorumluluk proje': 7429, 'hazırlanma nbsp': 3338, 'hizm vert': 3415, 'sektör ilk': 7115, 'haziran': 3320, 'ayın': 630, 'eksiklik': 2165, 'sahip olduk': 6843, 'yatk uyum': 8926, 'müşavi': 5315, 'müşavi r': 5316, 'bep': 918, 'mtsk': 5211, 'sert': 7158, 'kalari': 3998, 'banaksi': 736, 'alidik': 228, 'proğrami': 6584, 'unisoft': 8353, 'proğraminda': 6586, 'çalişabi': 9393, 'takim': 7735, 'danişmanliktan': 1550, 'monart': 5155, 'bakirköy bep': 722, 'bep bi': 919, 'sayar mtsk': 7013, 'mtsk dan': 5212, 'dan almiş': 1546, 'olduk windows': 5826, 'excel outlook': 2399, 'outlook nternet': 6042, 'nternet ortaminda': 5624, 'ortaminda çalişma': 6002, 'çalişma sert': 9397, 'sert fi': 7159, 'fi kalari': 2584, 'kalari garanti': 3999, 'garanti banaksi': 2770, 'banaksi ş': 737, 'ş den': 9849, 'den alidik': 1619, 'alidik şube': 229, 'operasyon gel': 5912, 'şi sert': 9916, 'fi kasi': 2585, 'kasi eta': 4099, 'eta paket': 2329, 'paket proğrami': 6074, 'proğrami unisoft': 6585, 'unisoft muhasep': 8354, 'muhasep proğraminda': 5241, 'proğraminda çalişabi': 6587, 'çalişabi li': 9394, 'ri takim': 6749, 'takim ek': 7736, 'ti danişmanliktan': 8150, 'danişmanliktan satiş': 1552, 'mi monart': 5068, 'monart ek': 5156, 'danişmanliktan nlp': 1551, 'nlp satiş': 5583, 'finans muhasep': 2613, 'bi yi': 943, 'mes': 5010, 'gidermek': 2987, 'özver': 9671, 'kullanıç destek': 4470, 'notes uygulama': 5605, 'kullanılan program': 4460, 'sağlamak windows': 7045, 'açılış kapanış': 655, 'pos cihaz': 6314, 'teknik ekip': 7972, 'ekip birlik': 2139, 'üret operatör': 9747, 'şoför': 9978, 'kız': 4570, 'şoförlük': 9979, 'çeşit firma': 9530, 'depo sevkiyat': 1669, 'emek olt': 2224, 'etmek istiyor': 2357, 'gelen ürün': 2810, 'satış yapılan': 6999, 'çalıştık kur': 9491, 'yapt yıl': 8829, 'ilçe': 3652, 'senelik': 7142, 'araştirma': 439, 'eks': 2163, 'powerpoint iyi': 6341, 'has kayıt': 3276, 'vb işlem': 8499, 'et len': 2320, 'şart gör': 9884, 'şube gelen': 9987, 'üni': 9704, 'vers': 8573, 'üni vers': 9705, 'vers tes': 8574, 'bebek': 854, 'bayan': 788, 'tedavi': 7951, 'zarf': 9335, 'ay boyu': 594, 'sür zarf': 7638, 'msdos': 5206, 'bey': 925, 'onkoloji': 5898, 'satranç': 6923, 'çöz ortak': 9554, 'paket programlari': 6073, 'programlari word': 6507, 'ner': 5508, 'tıp': 8312, 'hız': 3492, 'yükseltmek': 9256, 'olarak aktif': 5770, 'aktif görev': 150, 'görev yaptık': 3108, 'çalış alan': 9401, 'broker': 1179, 'kademe': 3987, 'mining': 5116, 'mevzuat uygun': 5046, 'yıllık bütç': 9312, 'muhasep bölüm': 5223, 'rapor oluşturulma': 6636, 'olarak türki': 5797, 'muhasep şlem': 5246, 'hazırlama': 3330, 'yönet alan': 9155, 'iş arayış': 3870, 'odak müşter': 5653, 'satış fırsat': 6954, 'pari': 6086, 'çalış olduk': 9416, 'olduk ürün': 5827, 'erp progra': 2292, 'si pari': 7241, 'si olarak': 7240, 'bulunan firma': 1205, 'sistem ilgi': 7305, 'ilgi bilgi': 3599, 'al satış': 177, 'hal': 3246, 'bağlılık': 810, 'ava': 578, 'toptanç': 8208, 'soluk': 7367, 'yapmak ürün': 8823, 'şirket nbsp': 9940, 'nbsp kent': 5425, 'nbsp müşter': 5435, 'logo ti': 4754, 'ti ger': 8151, 'kamu kurum': 4034, 'aydınlat sistem': 605, 'satış tahsilat': 6988, 'otomasyon elektrik': 6021, 'faaliyet gerçekleştirilme': 2503, 'uzun soluk': 8458, 'çalışma bul': 9457, 'bir profesyonel': 1068, 'profesyonel olarak': 6442, 'bir şey': 1089, 'sağlamak amaç': 7033, 'yazıl program': 8962, 'satış yapt': 6998, 'kontrolü sağlanma': 4318, 'sağlık grup': 7070, 'yanısır': 8779, 'ölçüm': 9592, 'marmar üniversite': 4905, 'üniversite şlet': 9728, 'biliş alan': 1026, 'şirket satış': 9942, 'yok bir': 9102, 'bir bilgi': 1043, 'bilgi birikim': 976, 'letiş pazarla': 4634, 'yönetim sağlamak': 9207, 'yönetim sorum': 9209, 'ürün grup': 9782, 'sağlamak ürün': 7048, 'bir satış': 1072, 'takip edilerek': 7745, 'edilme raporlanma': 2083, 'nbsp ilgi': 5421, 'bulup': 1224, 'genişletmek': 2885, 'yen bayi': 9005, 'müşter aday': 5320, 'bat': 784, 'düşünce': 2016, 'planlanma uygulanma': 6261, 'yapmak müşter': 8813, 'takip sağlamak': 7767, 'faaliyet yürütmek': 2512, 'faaliyet rapor': 2510, 'yönet microsoft': 9165, 'faaliyet bulunmak': 2501, 'durum takip': 1941, 'yapmak yen': 8821, 'çözm kriz': 9561, 'yaratıç fikir': 8897, 'süt': 7681, 'ulusal zincir': 8337, 'zincir market': 9353, 'yerel zincir': 9041, 'zincir mağaza': 9354, 'yapılma konu': 8861, 'verilen satış': 8545, 'winner': 8680, 'nep winner': 5507, 'powerpoint oracle': 6346, 'ş takip': 9866, 'proje çiz': 6552, 'müşter tems': 5345, 'military': 5103, 'consultancy': 1465, 'geliştiren': 2843, 'öğretiç': 9692, 'exel power': 2426, 'yıl son': 9296, 'cin': 1397, 'quark': 6615, 'liman': 4676, 'tekirdağ': 7960, 'meydan': 5047, 'siste windows': 7297, 'photoshop adobe': 6212, 'tasarım yapılma': 7886, 'sağlamak proje': 7043, 'nbsp stanbul': 5451, 'gösterge': 3149, 'projelendirilme': 6559, 'program hazırlanma': 6474, 'kıs vade': 4562, 'teknolojik gelişme': 7996, 'müşter talep': 5343, 'ekip liderlik': 2145, 'liderlik etmek': 4665, 'ilgi yasal': 3619, 'kipa': 4232, 'ms ofis': 5191, 'olmak müşter': 5845, 'gelir gider': 2812, 'giy': 3010, 'ön lisans': 9597, 'hukuk büro': 3480, 'icra takip': 3508, 'güzellik': 3202, 'prezentabl': 6394, 'güç yük': 3205, 'çalışma uygun': 9470, 'geliştirme açık': 2852, 'yatk dinamik': 8921, 'düzg prezentabl': 2007, 'faturalandır': 2562, 'ilişki yürütmek': 3640, 'tespit edilen': 8115, 'raporla analiz': 6638, 'rahat': 6624, 'kari': 4069, 'danışman nbsp': 1557, 'nbsp bölüm': 5408, 'kari yer': 4070, 'şeker': 9901, 'nt nternet': 5615, 'çalıştık firma': 9489, 'ilaç sektör': 3567, 'iyi iletiş': 3835, 'cro': 1505, 'nans': 5384, 'muhasep sorum': 5242, 'mi cro': 5063, 'fi nans': 2586, 'malati': 4843, 'cok': 1426, 'cok iyi': 1427, 'robotik': 6773, 'bak planla': 713, 'yerleştirilme': 9046, 'dav': 1576, 'kapatılma': 4049, 'ürün giriş': 9781, 'fatura kesilme': 2559, 'organizasyon sağlamak': 5974, 'çekm': 9515, 'havale': 3299, 'hazin': 3318, 'bono': 1148, 'borç': 1161, 'ihraç': 3530, 'ulaştırmak': 8327, 'hiss': 3409, 'hazin bono': 3319, 'bankacılık ürün': 753, 'ticari paket': 8167, 'borç alacak': 1162, 'alacak takip': 191, 'raf düzen': 6623, 'yapılacak olan': 8844, 'gümrük müşavirlik': 3161, 'yatır fon': 8929, 'bireysel portföy': 1102, 'portföy operasyon': 6311, 'hiss sene': 3410, 'sene al': 7141, 'atmak': 547, 'silah': 7259, 'tablet': 7715, 'belirt': 899, 'ayrılmak': 624, 'ilin': 3625, 'göstermek': 3150, 'ötür': 9636, 'ürün üret': 9804, 'üret bölüm': 9738, 'seviye kullanabiliyor': 7204, 'geliş öğrenme': 2818, 'açık bir': 644, 'teknoloji takip': 7994, 'takip e': 7740, 'e bir': 2043, 'letiş ikna': 4632, 'özel güvenlik': 9644, 'güvenlik görev': 3191, 'yıllık çalış': 9319, 'ayrılmak zor': 625, 'satış eleman': 6950, 'sahip olma': 6844, 'faaliyet göstermek': 2506, 'uyumsoft': 8435, 'xp offi': 8742, 'depo sorum': 1670, 'devr tasar': 1759, 'fatih': 2552, 'diliyor': 1823, 'yok ön': 9107, 'ön yaz': 9600, 'yaz okuma': 8940, 'okuma cv': 5732, 'eder yak': 2073, 'yak zaman': 8754, 'zaman siz': 9329, 'siz olum': 7328, 'olum haber': 5863, 'haber alma': 3219, 'alma diliyor': 234, 'diliyor saygı': 1824, 'yük olan': 9241, 'odak bir': 5650, 'kurm': 4491, 'arzu': 488, 'machines': 4798, 'installation': 3722, 'maintenance': 4815, 'expert': 2433, 'dök': 1956, 'outlook access': 6038, 'türl paket': 8310, 'proje teknik': 6540, 'mikroişlemç': 5098, 'uyt': 8431, 'madencilik': 4807, 'eplan': 2278, 'listelen': 4714, 'şaşmaz': 9886, 'otobil': 6017, 'fb': 2576, 'lüleburgaz': 4786, 'linea': 4679, 'kaynar': 4154, 'sakarya': 6862, 'taşınma': 7900, 'seramik': 7152, 'alan sahip': 208, 'lojis merkez': 4761, 'offi network': 5685, 'network tasar': 5540, 'tasar program': 7873, 'program elektrik': 6468, 'elektrik autocad': 2187, 'autocad eplan': 563, 'eplan yönetiç': 2279, 'olarak bulunduk': 5775, 'bulunduk büyük': 1210, 'büyük proje': 1294, 'proje aşağı': 6520, 'aşağı listelen': 678, 'listelen noter': 4715, 'noter birlik': 5602, 'birlik ankar': 1116, 'ankar adalet': 352, 'adalet bakanlık': 48, 'bakanlık bilgi': 718, 'şlem merkez': 9956, 'merkez şaşmaz': 5006, 'şaşmaz ankar': 9887, 'ankar renault': 354, 'renault otobil': 6693, 'otobil fb': 6018, 'fb dari': 2577, 'dari bina': 1567, 'bina burs': 1037, 'burs kipa': 1239, 'kipa ayt': 4233, 'ayt konya': 629, 'konya lüleburgaz': 4367, 'lüleburgaz zmir': 4787, 'zmir tofaş': 9376, 'tofaş linea': 8188, 'linea pun': 4680, 'pun soğut': 6596, 'soğut hatt': 7444, 'hatt burs': 3293, 'burs kartal': 1238, 'kartal kaynar': 4084, 'kaynar metro': 4155, 'metro hatt': 5032, 'hatt stanbul': 3295, 'devam e': 1738, 'otomasyon proje': 6022, 'stanbul teknik': 7505, 'telekomünikasyon sistem': 8017, 'freelance': 2737, 'mep': 4991, 'resim': 6709, 'revit': 6734, 'vray': 8614, 'kurul devre': 4506, 'üzer çalışan': 9830, 'kullan konu': 4421, 'sonuç çöz': 7400, 'bilgi birik': 975, 'elektrik proje': 2197, 'olt yıl': 5861, 'test devre': 8120, 'photoshop coreldraw': 6214, 'oluşturan': 5874, 'role': 6778, 'windows ofis': 8667, 'elektronik elektrik': 2208, 'completed': 1447, 'started': 7521, 'obligation': 5644, 'small': 7341, 'always': 259, 'experiences': 2432, 'study': 7573, 'would': 8719, 'firm': 2629, 'provides': 6579, 'vendors': 8512, 'duties': 1943, 'shipping': 7231, 'phone': 6207, 'agency': 100, 'around': 473, 'mitsubish': 5130, 'giv': 3008, 'offers': 5672, 'tuzl': 8281, 'military obligation': 5104, 'would lik': 8720, 'supervisor': 7600, 'aylar': 606, 'özel ders': 9642, 'hiçbir': 3436, 'komple': 4281, 'yöneticilik yapt': 9202, 'güçl letiş': 3211, 'saki': 6863, 'adil': 64, 'çevik': 9521, 'oluşturul': 5879, 'elementer': 2215, 'trakya': 8229, 'fiyatla': 2682, 'health': 3347, 'kapsa': 4051, 'aktivasyon': 155, 'yük motivasyon': 9237, 'saki bir': 6864, 'analiz yetenek': 333, 'yetenek iş': 9058, 'risk fırsat': 6757, 'ekip arkadaş': 2138, 'arkadaş ara': 467, 'bir rol': 1071, 'çalışmak üzer': 9487, 'hizmet kalite': 3422, 'yönetim sağlanma': 9208, 'yönetim yapılma': 9211, 'bir iletiş': 1054, 'şikayet yönet': 9919, 'firma müşteri': 2652, 'sağlanma gerek': 7052, 'analiz raporla': 328, 'hata': 3289, 'mizan': 5131, 'kıymet': 4569, 'host': 3449, 'komisyon': 4279, 'faktoring': 2528, 'yapar': 8799, 'yönetmelik': 9220, 'verecek': 8523, 'gm': 3016, 'izlemek': 3848, 'atılma': 553, 'gelir tablo': 2813, 'sabit kıymet': 6808, 'garanti banka': 2771, 'link muhasep': 4685, 'progra logo': 6455, 'hazırlanma kontrolü': 3336, 'yönet sunulma': 9185, 'günlük aylık': 3177, 'zaman eksiks': 9324, 'e defter': 2045, 'defter e': 1598, 'takip kontrol': 7753, 'hazırlanma sağlamak': 3339, 'kontrol süreç': 4308, 'ceph': 1374, 'edilmek': 2086, 'pazarla çalışma': 6142, 'yaşant': 8989, 'kaç': 4181, 'lojistik': 4766, 'kri': 4409, 'ilerleme': 3575, 'çerkezköy': 9519, 'dikkat': 1807, 'excel ler': 2392, 'word yi': 8703, 'yi sevi': 9089, 'temel sevi': 8037, 'bir kaç': 1058, 'kali siste': 4006, 'şlet fakülte': 9966, 'takım yönet': 7791, 'al konu': 170, 'prosedür talimat': 6566, 'sağlamak firma': 7034, 'özel olarak': 9647, 'e yak': 2054, 'düzen bir': 1984, 'proje proje': 6534, 'yapılma proje': 8867, 'şirket bünye': 9932, 'sap erp': 6889, 'esbank': 2304, 'matematik': 4913, 'managers': 4881, 'farkındalık': 2548, 'şişl': 9951, 'yönlendirilen': 9224, 'esbank ş': 2305, 'pazarla teknik': 6140, 'mü yardımcılık': 5278, 'bank ş': 739, 'sun beceri': 7583, 'ş banka': 9847, 'test yapılma': 8122, 'tanış': 7851, 'takipç': 7779, 'detayç': 1735, 'sayar şletmen': 7014, 'tempo uy': 8047, 'organizasyon konu': 5972, 'tamamlamak': 7820, 'world excell': 8717, 'hizmet satış': 3426, 'alışveriş bulunmak': 280, 'ist': 3788, 'satıs': 6935, 'sahip yen': 6854, 'deneyim sahip': 1648, 'konu hakim': 4335, 'yönet personel': 9172, 'lms': 4732, 'ti cari': 8149, 'program logo': 6482, 'eğit destek': 2450, 'iç dene': 3853, 'kar zarar': 4056, 'otomasyon siste': 6023, 'mevzua uygun': 5043, 'heavy': 3348, 'beton': 924, 'ton': 8193, 'kompleks': 4282, 'surfer': 7609, 'ti c': 8147, 'b sınıf': 687, 'offi paket': 5688, 'yazıl dil': 8957, 'sahip askerlik': 6830, 'askerlik görev': 518, 'fen': 2580, 'orman': 5990, 'stanbul üniversite': 7507, 'süreç nbsp': 7667, 'yükleniç': 9249, 'lık': 4789, 'konularinda': 4356, 'başari': 821, 'kanuni': 4043, 'güvenlik ilgi': 3192, 'reçe': 6742, 'windows uygulama': 8673, 'mi ni': 5070, 'mali yet': 4851, 'katılma': 4134, 'şahıs': 9877, 'sin': 7266, 'sistematik': 7319, 'yapılma günlük': 8859, 'teminat mektup': 8040, 'satış arttırıç': 6939, 'trent takip': 8242, 'personel eğitim': 6190, 'tespit ederek': 8114, 'dış pazar': 2034, 'üzer gerek': 9823, 'steel': 7527, 'koruyuç': 4388, 'başlayarak': 846, 'per': 6159, 'ppap': 6370, 'apqp': 394, 'productiv': 6431, 'msa': 5204, 'hvac': 3486, 'outlook word': 6045, 'olarak üret': 5809, 'mekanik sistem': 4971, 'cad cam': 1325, 'catia': 1358, 'autocad solid': 571, 'arcgis': 453, 'nx': 5630, 'biriy': 1112, 'olan proje': 5759, 'unigraphics nx': 8352, 'biliş teknoloji': 1029, 'bir kişilik': 1059, 'autocad program': 569, 'jeneratör bak': 3954, 'solidcam': 7363, 'üre firma': 9734, 'kontrol ünite': 4312, 'teknik resim': 7980, 'nbsp olarak': 5442, 'li yor': 4655, 'şekil çalışma': 9908, 'sayar donanim': 7011, 'yıllık tecrübe': 9318, 'yts': 9119, 'program bilgisayar': 6467, 'du': 1935, 'aramak': 409, 'tutku': 8274, 'ceza': 1380, 'resort': 6713, 'dene sahip': 1628, 'bir bir': 1044, 'alan ilgi': 202, 'profesyonel çalış': 6443, 'olmak nbsp': 5846, 'dış görünüş': 2031, 'nbsp ön': 5472, 'olarak şirket': 5810, 'bağl olan': 801, 'program eğitim': 6472, 'material': 4914, 'odeon': 5667, 'hospitality': 3448, 'positions': 6316, 'principles': 6403, 'protection': 6571, 'guests': 3066, 'önbüro': 9601, 'guest': 3065, 'event': 2376, 'memnuniyet üst': 4986, 'sui': 7580, 'man': 4871, 'hotels': 3451, 'operasyon müdür': 5915, 'throughout': 8144, 'four': 2728, 'rooms': 6781, 'assurance': 537, 'equipment': 2280, 'opening': 5907, 'member': 4977, 'franchi': 2733, 'heyecan': 3396, 'afyon': 97, 'cadde': 1328, 'mağazacılık': 4935, 'son kadar': 7376, 'yöne organizasyon': 9145, 'nbsp ekip': 5410, 'stanbul zmir': 7506, 'sahip olan': 6842, 'reklam tanıt': 6682, 'felsefe': 2579, 'tu': 8250, 'pozisyon görev': 6360, 'gelişim öne': 2823, 'odak çalışan': 5661, 'yetenek beceri': 9052, 'esnek çalış': 2314, 'iler derece': 3569, 'kent iyi': 4204, 'fayda olacak': 2569, 'pozisyon çalışacak': 6364, 'nbsp muhasep': 5434, 'offi adobe': 5675, 'görev yapacak': 3104, 'yüksekokul': 9253, 'vietnam': 8583, 'sektör hizmet': 7113, 'müdürlük yapt': 5290, 'dis': 1838, 'sistemsel': 7320, 'car': 1343, 'shell': 7228, 'packages': 6056, 'deliver': 1604, 'water': 8623, 'çalış diler': 9404, 'new projects': 5545, 'düşün': 2012, 'bağl bulunan': 799, 'hizmet sunmak': 3428, 'lisans eğit': 4699, 'erp crm': 2287, 'sahip anali': 6829, 'anali düşün': 308, 'araç kullanabilen': 432, 'yeti': 9070, 'alabilen': 185, 'sorumluluk alabilen': 7421, 'bir çalışan': 1086, 'lightroom': 4672, 'kel': 4187, 'itibar': 3826, 'performansı': 6172, 'etki iletiş': 2345, 'personel al': 6186, 'tanıtım yapılma': 7850, 'gerçek': 2926, 'edindik bilgi': 2092, 'kur kültür': 4483, 'siste ilgi': 7288, 'çizelge': 9542, 'ölçü': 9591, 'olap': 5768, 'mapics': 4890, 'odi': 5668, 'qlikview': 6609, 'composer': 1452, 'yaklaşan': 8762, 'perakendecilik': 6164, 'paydaş': 6113, 'apple': 385, 'wms': 8690, 'scm': 7084, 'load': 4733, 'bpc': 1171, 'tan nbsp': 7828, 'ms visual': 5200, 'sql pl': 7475, 'sql c': 7470, 'ilk hedef': 3645, 'konu faaliyet': 4332, 'satış önce': 7004, 'çalış yapılma': 9430, 'proje ekip': 6524, 'proje plan': 6533, 'tedbir alınma': 7953, 'sistem konu': 7306, 'nbsp ürün': 5476, 'dış kaynak': 2032, 'eğitim destek': 2474, 'c dil': 1311, 'autocad ms': 567, 'server mysql': 7173, 'ftp': 2745, 'aşk': 681, 'gerek rapor': 2904, 'merkez hizmet': 4999, 'program nternet': 6487, 'belirttik': 905, 'teori': 8067, 'görünüm': 3127, 'sunarak': 7588, 'donanımsal': 1888, 'jquery javascript': 3964, 'grafi k': 3040, 'değiş geliş': 1788, 'sahip olmak': 6845, 'dış görünüm': 2030, 'ekip iç': 2143, 'verim bir': 8550, 'uygun ürün': 8425, 'hizmet anlayış': 3418, 'medical': 4949, 'ülk genel': 9701, 'nin büyük': 5569, 'önle': 9623, 'istatistik': 3792, 'etüt': 2368, 'gösterdik': 3141, 'yürütecek': 9261, 'değerlendirilmek': 1780, 'özgeç': 9660, 'ilişik': 3627, 'nihai': 5567, 'uygunsuzluk': 8430, 'döngü': 1965, 'pen': 6156, 'qc': 6607, 'yasal mevzuat': 8914, 'gerek önlem': 2908, 'yapılma üret': 8875, 'autocad microsoft': 566, 'ilgi faaliyet': 3606, 'çalışmak istiyor': 9485, 'değerlendirilmek üzer': 1781, 'nbsp yıl': 5467, 'güvenlik uzmanlık': 3199, 'mühendislik nbsp': 5305, 'çalış orta': 9417, 'ser üret': 7151, 'yöne süreç': 9150, 'konu eğit': 4331, 'verimlilik analiz': 8553, 'acil dur': 34, 'güvenlik kural': 3195, 'iş sağlık': 3896, 'proje mühendi': 6531, 'ç tetkik': 9389, 'tetkik eğit': 8127, 'server activ': 7168, 'directory dns': 1834, 'php mysql': 6222, 'solidworks catia': 7366, 'şirket kent': 9939, 'autocad catia': 562, 'mechanical': 4945, 'gri': 3050, 'ansys': 367, 'buhar': 1190, 'türbin': 8296, 'firma iş': 2647, 'görev başl': 3095, 'dos ms': 1891, 'autocad mechanical': 565, 'mechanical desktop': 4946, 'proje tasar': 6539, 'pro engineer': 6410, 'kro': 4413, 'room': 6780, 'logo mi': 4750, 'mi kro': 5067, 'bütç raporla': 1284, 'sorumluluk alt': 7425, 'kret analiz': 4404, 'analiz kret': 325, 'kret değerlendir': 4406, 'mali analiz': 4847, 'logo logo': 4749, 'kret kontrol': 4408, 'finans finansal': 2611, 'ulus firma': 8334, 'firma deney': 2637, 'müh': 5291, 'tübitak': 8289, 'access ms': 17, 'rica eder': 6752, 'imalat süreç': 3663, 'proje destek': 6523, 'devices': 1752, 'achiev': 32, 'circuit': 1398, 'well': 8646, 'altium': 254, 'electronics': 2181, 'construction': 1464, 'pic': 6224, 'embedded': 2220, 'cycle': 1527, 'tests': 8124, 'perform': 6166, 'inspection': 3720, 'personnel': 6201, 'qualifications': 6611, 'method': 5025, 'electric': 2177, 'gas': 2773, 'medium': 4956, 'voltage': 8610, 'pressure': 6389, 'telecom': 8008, 'routing': 6784, 'public': 6593, 'energy': 2246, 'security': 7099, 'running': 6792, 'analog': 336, 'circuit design': 1399, 'military serv': 5105, 'digital circuit': 1801, 'qt': 6610, 'arm': 472, 'kısa': 4564, 'gömü': 3072, 'ubun': 8314, 'elektronik haberleş': 2209, 'bir mühendis': 1063, 'danışmanlık hizmet': 1563, 'prototip': 6576, 'hikaye': 3407, 'altium designer': 255, 'elektronik mühendislik': 2211, 'olmak birlik': 5840, 'designing': 1709, 'cleaning': 1408, 'pspi': 6590, 'controller': 1475, 'publisher': 6594, 'driver': 1929, 'students': 7567, 'visual c': 8598, 'hardware software': 3269, 'background': 696, 'low': 4777, 'standard': 7510, 'pcb': 6148, 'ruby': 6788, 'atıl': 552, 'nas': 5386, 'bulabilir': 1196, 'eşlik': 2490, 'vb nbsp': 8501, 'c yi': 1322, 'çiz progra': 9540, 'destek vert': 1727, 'direkt': 1836, 'ağaç': 662, 'koyup': 4392, 'ulaşabilme': 8322, 'alabilecek': 183, 'kullanabilecek': 4426, 'maddi': 4803, 'component': 1450, 'min': 5112, 'giderek': 2985, 'emniyet': 2230, 'lojis gümrük': 4760, 'sağlık sigorta': 7076, 'ürün ağaç': 9777, 'dış ara': 2028, 'yen teknoloji': 9017, 'giriş yapmak': 2993, 'ilgi yer': 3620, 'derece microsoft': 1689, 'excel macro': 2395, 'iş haya': 3885, 'beceri orta': 861, 'orta koyup': 5993, 'koyup fayda': 4393, 'fayda olabilecek': 2568, 'kur hedef': 4478, 'hedef ulaşabilme': 3362, 'ulaşabilme görev': 8323, 'görev alabilecek': 3087, 'alabilecek problem': 184, 'çözm yetenek': 9562, 'yetenek kullanabilecek': 9059, 'kullanabilecek bir': 4427, 'pozisyon başarı': 6357, 'başarı iş': 825, 'ş nbsp': 9861, 'yapmak olan': 8816, 'üret satış': 9753, 'lojis süreç': 4764, 'dene kazan': 1626, 'hayat devam': 3310, 'iyi olduk': 3837, 'excel yi': 2409, 'derece autocad': 1677, 'cad yi': 1327, 'elektronik devr': 2207, 'workbench': 8707, 'yapısal': 8882, 'simulink': 7263, 'hakimiyet': 3241, 'yıl aşk': 9278, 'aşk bir': 682, 'tasar konu': 7872, 'montaj demontaj': 5161, 'devi': 1751, 'tool': 8195, 'lighting': 4671, 'graphics': 3045, 'orcad': 5958, 'especially': 2315, 'tia': 8154, 'electricity': 2179, 'established': 2317, 'protel': 6572, 'tia portal': 8155, 'version': 8575, 'edition': 2099, 'plsql': 6278, 'modelling': 5147, 'singleton': 7270, 'itil': 3829, 'techniques': 7917, 'blockchai': 1141, 'devops': 1757, 'pattern': 6110, 'telerik': 8021, 'respect': 6715, 'pages': 6060, 'injection': 3709, 'image processing': 3656, 'software architecture': 7354, 'ios android': 3758, 'end development': 2239, 'design pattern': 1706, 'machin learning': 4796, 'risk management': 6758, 'arapç': 418, 'dubai': 1936, 'bir döne': 1047, 'anali yaratıç': 311, 'den gelen': 1622, 'uygunluk kontrol': 8429, 'f klavye': 2493, 'klavye kullan': 4253, 'offi outlook': 5687, 'movi': 5178, 'mesaj': 5013, 'girmek': 3002, 'movi maker': 5179, 'offi access': 5674, 'muhasep nbsp': 5234, 'organizasyon koordinasyon': 5973, 'ilgi bilgilendir': 3600, 'fiyat araştırma': 2679, 'operasyon ekip': 5911, 'sah operasyon': 6819, 'akademi': 122, 'duygu': 1948, 'düşünebilen': 2020, 'logo enterpr': 4743, 'tek düzen': 7959, 'düzen hesap': 1986, 'düzey excel': 1999, 'anali düşünebilen': 309, 'değiş açık': 1787, 'odak anali': 5649, 'şubat': 9984, 'doğt': 1916, 'çanakkale': 9503, 'ktisat': 4417, 'yapabilecek': 8786, 'üniversite ktisat': 9719, 'neden iş': 5496, 'finans sektör': 2614, 'olacak inanıyor': 5742, 'özlük işler': 9669, 'kdv iade': 4184, 'muhasep süreç': 5243, 'go plus': 3022, 'ilişki nokta': 3637, 'nokta esnek': 5590, 'olma yan': 5836, 'olan müşteri': 5756, 'hertür': 3383, 'gor': 3036, 'üsküdar': 9805, 'si gor': 7239, 'poli': 6298, 'prg': 6395, 'tutm': 8275, 'gizlilik': 3012, 'traktör': 8228, 'paylaşım': 6117, 'şveren': 9992, 'finans işlem': 2612, 'plan hazırlamak': 6235, 'fiyat alınma': 2677, 'muhasep programi': 5239, 'tersane': 8095, 'kısım': 4567, 'sivil': 7324, 'log': 4737, 'tami': 7824, 'mil': 5101, 'std': 7526, 'al ayrı': 165, 'mil std': 5102, 'porgram': 6306, 'uzmanlaş': 8450, 'çalışabilecek': 9436, 'bölüm yıl': 1271, 'yıl mezu': 9293, 'makine mühendi': 4831, 'süreç konu': 7666, 'dünya büyük': 1972, 'askerlik yap': 522, 'yap bulunmak': 8781, 'olacak düşünüyor': 5741, 'yapmak firma': 8808, 'schneider': 7081, 'elektrik teknisyen': 2199, 'wincc': 8654, 'müster': 5312, 'pascal c': 6103, 'matlab simulink': 4918, 'akıç': 161, 'sürdürülebilir': 7641, 'fikstür': 2600, 'otobüs': 6019, 'thinking': 8142, 'lisans eğitim': 4700, 'şekil kullanabilen': 9903, 'sektör tecrübe': 7120, 'konu takip': 4344, 'konu teknik': 4347, 'avrup birlik': 586, 'infrastructure': 3704, 'secure': 7098, 'proxy': 6581, 'isa': 3771, 'wins': 8682, 'ms server': 5197, 'kurul destek': 4505, 'msaccess': 5205, 'notus': 5606, 'paintshop': 6066, 'sıfat': 7684, 'powerpoint ms': 6345, 'lotus notus': 4775, 'paintshop pro': 6067, 'firmam müşteri': 2672, 'müşteri hedef': 5356, 'hedef stratej': 3361, 'stratej istek': 7554, 'istek uygun': 3799, 'uygun hizm': 8420, 'hizm vererek': 3413, 'vererek anali': 8531, 'yönetiç sıfat': 9218, 'sıfat uygun': 7685, 'yakalama amaçlıyor': 8759, 'firma birlik': 2634, 'birlik büyümek': 1117, 'yük nbsp': 9239, 'ortaokul': 6003, 'dershane': 1702, 'yetiştir': 9071, 'daima': 1536, 'tavsiye': 7891, 'dir': 1829, 'gmail': 3017, 'yıka': 9273, 'liv': 4718, 'simatic': 7260, 'elektrik otomasyon': 2195, 'bitirdik sonr': 1130, 'ders al': 1700, 'mevcut olup': 5036, 'sınıf ehli': 7696, 'derece ingiliz': 1686, 'parça olmak': 6099, 'gmail com': 3018, 'uzun süre': 8460, 'bilg iyi': 967, 'paket programi': 6072, 'bw': 1248, 'uygun olduk': 8423, 'yük performans': 9242, 'vade çalışmak': 8472, 'görev alma': 3092, 'sap business': 6887, 'depo operasyon': 1668, 'şler uzman': 9962, 'satış beceri': 6940, 'başar odak': 818, 'iş konu': 3889, 'fatur giriş': 2556, 'erp microsoft': 2288, 'tiger logo': 8172, 'çay': 9509, 'yileştir': 9093, 'performans değerlendir': 6169, 'autocad sap': 570, 'sap lotus': 6893, 'nbsp sorumluluk': 5450, 'nbsp teknik': 5456, 'paslanmaz': 6105, 'aşk süre': 683, 'meslek eğit': 5017, 'sonra teknik': 7393, 'nbsp üret': 5475, 'çevr yönet': 9527, 'sorum nbsp': 7412, 'sağlamak mağaza': 7038, 'uydurabilecek': 8388, 'ayak uydurabilecek': 598, 'offi programi': 5693, 'gazi': 2787, 'prof': 6436, 'trabzon': 8217, 'sorumluk': 7417, 'gazi üniversite': 2788, 'eğit alarak': 2447, 'hastane nde': 3286, 'bilim': 1015, 'hekim': 3371, 'yaşıyor': 8990, 'takip eder': 7743, 'birlik çalış': 1119, 'open offi': 5905, 'deney var': 1642, 'tecrüp kazan': 7941, 'ndek': 5485, 'kazakistan': 4169, 'maaş prim': 4792, 'koordine bir': 4383, 'muhasep programlari': 5240, 'programlari muhasep': 6506, 'muhasep uzman': 5244, 'belirlen': 891, 'smmm': 7343, 'konfeksiyon': 4289, 'mali şler': 4852, 'yeni yapılan': 9021, 'siste kurm': 7289, 'ş analiz': 9846, 'smmm belge': 7344, 'organiz sanayi': 5967, 'sanayi bölge': 6881, 'muhtasar beyanname': 5248, 'bildirg': 953, 'işveren': 3936, 'sap fi': 6890, 'genel bilgisayar': 2867, 'sap sd': 6904, 'mikro erp': 5096, 'geçer': 2963, 'üretebilme': 9766, 'talyan': 7804, 'yönetebilecek': 9195, 'geliştirebilen': 2841, 'map': 4889, 'muhasep mali': 5230, 'uygulama iyi': 8400, 'sağl eğit': 7028, 'haya tecrübe': 3306, 'doğrultu fark': 1912, 'fark insan': 2541, 'insan birlik': 3714, 'takım yer': 7790, 'al birlik': 166, 'birlik üretebilme': 1121, 'üretebilme öğren': 9767, 'öğren fırsat': 9676, 'olt neden': 5860, 'neden takım': 5498, 'takım kolaylık': 7785, 'kolaylık adapte': 4275, 'adapte olacak': 52, 'düşünüyor şin': 2026, 'düşünüyor ekip': 2025, 'ekip insan': 2142, 'insan bilgi': 3713, 'bilgi alışveriş': 972, 'bulunmak ben': 1213, 'ben neden': 909, 'neden önem': 5499, 'önem fikir': 9615, 'katkı bulun': 4119, 'birlik çalışmak': 1120, 'bütç finansal': 1282, 'sahip ş': 6860, 'mevzuat hakim': 5045, 'raporla konu': 6641, 'beceri geliş': 857, 'konu deney': 4328, 'doğr zaman': 1907, 'kişilik sahip': 4244, 'fiş': 2688, 'ban bağl': 733, 'luç muhasep': 4782, 'kayıt takip': 4163, 'departman gelen': 1659, 'kentsel': 4209, 'quantis': 6613, 'sk': 7330, 'planla yöne': 6252, 'ç dene': 9386, 'faaliyet alan': 2499, 'olarak faaliyet': 5777, 'rpg': 6786, 'can': 1336, 'servlet': 7189, 'tomcat': 8190, 'varan': 8483, 'proje danışmanlık': 6522, 'basic fortran': 773, 'erp paket': 2291, 'çalışma bulunmak': 9458, 'yöne muhasebe': 9144, 'öncelik olarak': 9606, 'teknik analiz': 7968, 'yönet nsan': 9169, 'excellent communication': 2420, 'ability work': 8, 'çok': 9546, 'sertifikam var': 7164, 'creo': 1500, 'lean': 4602, 'human': 3483, 'fast': 2551, 'need': 5500, 'want': 8620, 'looking': 4771, 'took': 8194, 'internship': 3745, 'things': 8141, 'sigma': 7252, 'robotic': 6771, 'program aktif': 6465, 'fields': 2595, 'engineers': 2261, 'drawings': 1923, 'purchase': 6598, 'sinç': 7272, 'resources': 6714, 'degre': 1599, 'intermediate': 3731, 'dynamic': 1953, 'efficient': 2116, 'human resources': 3484, 'kestirimç': 4216, 'qdms': 6608, 'kayıp': 4159, 'ressam': 6720, 'öncülük': 9608, 'birincilik': 1110, 'puan': 6591, 'bina bak': 1036, 'bak yönet': 715, 'tecrübe yıl': 7936, 'kestirimç bak': 4217, 'teknik ressam': 7981, 'talaş imalat': 7795, 'analiz çalışma': 334, 'edindik tecrübe': 2093, 'periyodik bak': 6176, 'bun dış': 1230, 'sigor satış': 7255, 'müşteri ziyaret': 5364, 'özel sağlık': 9648, 'anali zler': 313, 'planned': 6263, 'troubleshooting': 8245, 'plastic': 6268, 'productivity': 6432, 'six': 7325, 'applying': 391, 'modules': 5152, 'taking': 7737, 'ms power': 5194, 'point auto': 6289, 'cad sap': 1326, 'excel autocad': 2388, 'arena': 460, 'simulation': 7262, 'proficiency': 6445, 'extensive': 2440, 'ideal': 3516, 'candidate': 1337, 'willing': 8651, 'edg': 2075, 'passion': 6106, 'confere': 1461, 'deadlines': 1593, 'bilgi crm': 977, 'romanya': 6779, 'kocae üniversite': 4268, 'organizasyon yetenek': 5979, 'uzman yardımcı': 8447, 'iş tanım': 3899, 'süreç geliştir': 7659, 'excellent command': 2419, 'beginner': 868, 'billing': 1032, 'second': 7095, 'policies': 6299, 'facilities': 2520, 'airport': 114, 'market research': 4899, 'warehouse management': 8622, 'yatırımcı': 8932, 'excell spss': 2416, 'spss ms': 7467, 'kurumsal ürün': 4531, 'ettir': 2366, 'körfez': 4545, 'fransız': 2734, 'uluslarara ticaret': 8341, 'ihtiyaç duyulan': 3538, 'netice': 5528, 'çorl': 9548, 'yara': 8888, 'düzç': 2008, 'offi ler': 5682, 'kalite hizmet': 4016, 'açıköğr': 650, 'katar': 4109, 'eta micro': 2327, 'şlet bölüm': 9964, 'başl sonr': 833, 'ödem şekil': 9581, 'zaman kadar': 9326, 'firma kent': 2648, 'program iler': 6475, 'ehliyet sahip': 2129, 'sahip aktif': 6827, 'olarak araç': 5771, 'çocuk baba': 9545, 'seyahat engel': 7216, 'olarak saha': 5793, 'regional': 6676, 'highly': 3405, 'profi': 6444, 'aspect': 528, 'marketing strategies': 4902, 'ilke': 3648, 'tespit edip': 8117, 'çalışma uy': 9469, 'olarak bilgi': 5774, 'işler çalış': 3929, 'mikrometr': 5099, 'kumpas': 4475, 'res okum': 6705, 'ug': 8317, 'üret hat': 9740, 'çalışma yürütmek': 9478, 'ürün tasar': 9801, 'işler ilgi': 3925, 'kumpas mikrometr': 4476, 'iyi microsoft': 3836, 'sürüş': 7680, 'red': 6669, 'ölç alet': 9588, 'olan ş': 5765, 'belge sahip': 881, 'bir orta': 1065, 'dns dhcp': 1862, 'network tcp': 5541, 'trading': 8221, 'premier': 6379, 'ağlar': 663, 'şimt': 9923, 'rağmen': 6657, 'smtp': 7346, 'adobe premier': 82, 'linux unix': 4691, 'server unix': 7177, 'mikro muhasep': 5097, 'linux windows': 4692, 'forward': 2722, 'bors': 1158, 'forex': 2711, 'ce word': 1368, 'ekonomi mali': 2160, 'administrator': 70, 'patron': 6109, 'şkur': 9954, 'avukat': 588, 'kuruluş olan': 4516, 'bulunan genel': 1206, 'yi ms': 9088, 'isa server': 3772, 'engel rapor': 2257, 'fil server': 2602, 'şirket içeri': 9938, 'antivirus': 372, 'donan kurul': 1883, 'nbsp bilgisayar': 5404, 'trans': 8230, 'group policy': 3052, 'centos': 1370, 'servers': 7180, 'certified': 1377, 'configuration': 1462, 'veeam': 8505, 'ccna': 1362, 'uzmanlık alan': 8454, 'server server': 7175, 'veeam backup': 8506, 'ip lan': 3761, 'ms outlook': 5193, 'consultant': 1466, 'sektör kariyer': 7116, 'bir insan': 1055, 'katılacak': 4132, 'edius': 2103, 'yayıncılık': 8935, 'admi': 67, 'yaziç': 8943, 'yapabilir': 8788, 'dil bilgi': 1816, 'düzey bilgisayar': 1998, 'network kablola': 5535, 'ilgi teknik': 3618, 'ork': 5988, 'yapılandırma': 8850, 'unix linux': 8363, 'hbys': 3345, 'citrix': 1403, 'kurul yöne': 4510, 'bilgi yöne': 991, 'barkot': 764, 'symantec': 7619, 'fortigate': 2719, 'boyahane': 1166, 'juniper': 3969, 'vista ms': 8594, 'yönet siste': 9181, 'müşteri telefon': 5363, 'ssl': 7486, 'sonlandır': 7384, 'değişim': 1792, 'sip': 7273, 'sistem hakk': 7304, 'psikolojik': 6589, 'üniversite eğit': 9716, 'python': 6603, 'shopping': 7234, 'many': 4888, 'c python': 1318, 'offi microsoft': 5683, 'diyarbakır': 1852, 'stanbul ankar': 7500, 'sağlık hizmet': 7072, 'tanıt pazarla': 7845, 'proje aşama': 6519, 'müşter grup': 5324, 'dreamweaver flash': 1926, 'nternet kullan': 5623, 'satış görev': 6958, 'banyo': 761, 'genel kurul': 2870, 'dava': 1577, 'bildirge': 954, 'plan uygun': 6241, 'çalışma yer': 9476, 'sap hr': 6891, 'iş çıkış': 3905, 'eyle': 2442, 'parmak': 6088, 'sistem yönet': 7316, 'pusu': 6600, 'kaynak yönet': 4152, 'progra yi': 6460, 'yi yıl': 9091, 'iş kol': 3888, 'kaynak alan': 4146, 'alan bilgi': 195, 'meslek yeterlilik': 5020, 'iş yapt': 3903, 'şirket araç': 9931, 'bordro hazırlanma': 1153, 'fazl mesai': 2573, 'meyer': 5048, 'yasal süreç': 8915, 'güvenlik konu': 3194, 'ofis word': 5716, 'tiger plus': 8174, 'plus logo': 6280, 'nbsp personel': 5443, 'nbsp hedef': 5419, 'yürütülme nbsp': 9266, 'nbsp yıllık': 5468, 'potansiye': 6323, 'organizasyon yapı': 5977, 'iş güç': 3884, 'sağlamak yen': 7046, 'iş program': 3895, 'katk sağl': 4113, 'prim siste': 6399, 'sayarli': 7015, 'lgi sayarli': 4646, 'sayarli muhasep': 7016, 'nk mega': 5579, 'norm': 5595, 'deneyim kurumsal': 1645, 'kariyer planla': 4078, 'savunm': 7005, 'taban progra': 7710, 'hedefleyen': 3368, 'kur vergi': 4484, 'muhasep konu': 5229, 'yıl deneyim': 9283, 'pareken': 6085, 'takıp': 7793, 'ofi ce': 5709, 'onayli': 5895, 'sos': 7436, 'yapan şirket': 8798, 'şirket yıl': 9947, 'üret sorum': 9755, 'sual': 7576, 'ce uygulamalari': 1367, 'vi sual': 8580, 'seri': 7155, 'hakimi': 3240, 'sahip çalış': 6858, 'stan': 7497, 'akrilik': 132, 'lks logo': 4725, 'iş yapmak': 3902, 'öğrenmek': 9687, 'vasf': 8492, 'adidas': 63, 'programlama': 6502, 'hazır giy': 3326, 'excel logo': 2393, 'tecrubem': 7923, 'src belge': 7481, 'progra internet': 6452, 'hizmet destek': 3419, 'derece word': 1693, 'program kullanabilen': 6479, 'fır': 2759, 'yapabilmek': 8791, 'kabiliyet': 3976, 'otomobil': 6026, 'form hazırlanma': 2714, 'teknik eğit': 7973, 'press': 6388, 'üniversite makine': 9721, 'çalış fırsat': 9408, 'mit': 5129, 'anlatmak': 359, 'kadar takip': 3985, 'şekil yer': 9906, 'araç kullan': 431, 'efficiency': 2115, 'bachelor': 692, 'meet': 4960, 'care': 1345, 'üstlendik': 9814, 'satılık': 6926, 'exel powerpoint': 2427, 'yıl satış': 9295, 'mağaza mü': 4930, 'teknik bak': 7969, 'gelişim katk': 2822, 'görev alacak': 3088, 'temsilci nbsp': 8057, 'teknisyen olarak': 7989, 'mağaza ürün': 4934, 'ap': 377, 'firma olarak': 2655, 'objectiv': 5641, 'detail': 1729, 'asset': 532, 'associate': 536, 'work experience': 8706, 'minitab': 5117, 'kullanıcılık': 4456, 'mühendislik böl': 5301, 'satınal süreç': 6931, 'least': 4607, 'tax': 7892, 'compliance': 1449, 'advance': 88, 'base': 766, 'cash flow': 1353, 'european': 2370, 'previous': 6392, 'isle': 3777, 'transportation': 8237, 'opportunity': 5933, 'increased': 3694, 'change': 1383, 'mission': 5127, 'inandık': 3679, 'yaratacak': 8892, 'consulting': 1467, 'evaluation': 2375, 'functions': 2754, 'capex': 1342, 'business intellige': 1243, 'strong analytical': 7564, 'tecrüp bilgi': 7938, 'bakanlik': 716, 'sahip olup': 6847, 'çanka': 9504, 'excell access': 2411, 'yet muhasebe': 9049, 'parmak f': 6089, 'derece excel': 1684, 'teknik satış': 7982, 'damg': 1544, 'taşıt': 7901, 'gayrimenkul değerle': 2781, 'yok çalış': 9106, 'çalış tempo': 9427, 'özgüven yük': 9665, 'bireysel müşter': 1101, 'banka ş': 745, 'müşteri ihtiyaç': 5358, 'logo mikro': 4751, 'nşaat muhasebe': 5636, 'gold logo': 3027, 'rating': 6652, 'kurumsal yöne': 4529, 'ymm': 9099, 'verg beyanname': 8533, 'nbsp ofis': 5440, 'nbsp bulunan': 5406, 'bulunan nbsp': 1207, 'mağaza görsel': 4928, 'okul mezun': 5727, 'meslek yük': 5021, 'endüstriyel otomasyon': 2245, 'excel program': 2403, 'askerlik hizmet': 519, 'hizmet tama': 3429, 'iş arıyor': 3871, 'bilinen': 1017, 'pardus': 6084, 'büyüyen': 1300, 'marka olan': 4895, 'olabilir': 5739, 'sor olmayan': 7407, 'nk logo': 5578, 'katk sağlamak': 4114, 'ekip ruh': 2147, 'eba': 2057, 'yönet rapor': 9174, 'muhasep eleman': 5225, 'mıcrosoft': 5366, 'hospital': 3447, 'uygulama excel': 8397, 'takip stok': 7772, 'çalışma yürüt': 9477, 'farklılık': 2547, 'adobe indesign': 80, 'dost': 1893, 'hizmet kurumsal': 3423, 'hizmet müşter': 3424, 'sahip satış': 6848, 'aksiyon almak': 139, 'ik yıl': 3548, 'nbsp alan': 5397, 'sürek geliş': 7647, 'beklenen': 870, 'yıl itibari': 9287, 'yönetiç pozisyon': 9217, 'işyer referans': 3938, 'mağazacılık alan': 4936, 'liste oluşturulma': 4713, 'edindik tecrüp': 2094, 'takip süreç': 7773, 'gerçekleşme gerek': 2932, 'araç kullanıyor': 434, 'şirk olan': 9928, 'hedef gerçekleştirmek': 3355, 'etk iletiş': 2338, 'arcon': 455, 'mühendislik fakülte': 5303, 'satış alan': 6938, 'km': 4258, 'sağlanmak': 7055, 'program kullanabilir': 6480, 'ziyaret ederek': 9363, 'yapmak mağaza': 8810, 'src src': 7482, 'tep': 8069, 'eğit yönet': 2470, 'üzer topla': 9828, 'peraken mağazacılık': 6161, 'mağazacılık sektör': 4937, 'bachelor degre': 693, 'ben önem': 910, 'bulut': 1225, 'çalış firma': 9407, 'planla sat': 6251, 'word access': 8692, 'nbsp türki': 5459, 'lider firma': 4660, 'hizmet sektör': 3427, 'görev alarak': 3089, 'travel': 8238, 'alan bir': 196, 'düşünen': 2021, 'planla lojis': 6248, 'anali düşünen': 310, 'autocad or': 568, 'sahip kent': 6834, 'reçete': 6743, 'geliştirdik': 2838, 'düz': 1978, 'yöneticilik tecrübe': 9201, 'metod': 5027, 'tmen': 8184, 'ek tmen': 2136, 'muhasep alan': 5221, 'nbsp aktif': 5396, 'seviye microsoft': 7205, 'karar verm': 4065, 'güçl anali': 3207, 'mevcut yen': 5038, 'ilişki yönetilme': 3639, 'duyan': 1945, 'eğit geliş': 2453, 'genel olarak': 2878, 'kullan yi': 4423, 'görüşülerek': 3138, 'hafta': 3227, 'geliş yenilik': 2817, 'profesyonel iş': 6441, 'yıl türki': 9302, 'alan dene': 197, 'ivr': 3830, 'kişilik ekip': 4243, 'fark bir': 2539, 'yatk sorumluluk': 8925, 'yöne progra': 9146, 'bun sonr': 1232, 'atlas': 545, 'epc': 2276, 'identifying': 3517, 'hmi': 3437, 'flexible': 2692, 'c visual': 1321, 'gün saat': 3164, 'yönet teknik': 9188, 'plc programla': 6275, 'olduk proje': 5824, 'bilkent': 1030, 'odaklanarak': 5663, 'kv': 4542, 'pw': 6602, 'edebilmek': 2068, 'solaris': 7358, 'epdk': 2277, 'jav html': 3942, 'hedef yük': 3365, 'yıl iş': 9290, 'olan takım': 5762, 'teknoloji kullanarak': 7993, 'son teknoloji': 7381, 'oracle mysql': 5951, 'sli': 7339, 'alışkanlık': 278, 'gurur': 3070, 'bun sonraki': 1233, 'mühen sli': 5294, 'sli ği': 7340, 'bir deney': 1046, 'çalıştık şirket': 9495, 'çıkacak': 9569, 'ofiç program': 5719, 'prezantabl': 6393, 'başlama': 837, 'tarama': 7858, 'liderlik vasıf': 4666, 'beceri olan': 860, 'yön kuvvet': 9133, 'değer katma': 1766, 'verim şekil': 8551, 'letiş yön': 4636, 'kullanır': 4467, 'zaman iyi': 9325, 'sahip nsan': 6841, 'çokl': 9547, 'kavram': 4139, 'benims': 911, 'üretebilen': 9765, 'inisiyatif': 3708, 'temel bilgi': 8031, 'bilg ada': 966, 'pratik çöz': 6375, 'çöz üretebilen': 9557, 'şler müdür': 9959, 'excel windows': 2406, 'son kullanıcı': 7378, 'tamamlanan': 7822, 'kanun sgk': 4042, 'eğitim katıl': 2475, 'etmek ş': 2362, 'branch': 1173, 'deng': 1653, 'reader': 6663, 'lojman': 4767, 'süre iş': 7644, 'hizmet grup': 3420, 'haf iç': 3225, 'merkez sektör': 5005, 'eğit danışmanlık': 2449, 'ilgi rapor': 3615, 'eta link': 2324, 'yaklaşık yıllık': 8765, 'biyomedikal': 1133, 'kalkın': 4018, 'gezi': 2959, 'avusturya': 589, 'subay': 7577, 'interface': 3730, 'continuous': 1471, 'koçtaş': 4398, 'hedef bazl': 3350, 'emin': 2227, 'finans alan': 2609, 'kişisel özellik': 4250, 'haf son': 3226, 'sevdik': 7197, 'gerçekleştirmek satış': 2948, 'kısmi': 4566, 'kli': 4255, 'alan iş': 203, 'myo': 5270, 'nokia': 5588, 'reader crm': 6664, 'aldık eğitim': 221, 'edin olduk': 2090, 'kent geliştirerek': 4196, 'ürün hakk': 9783, 'excel world': 2408, 'yıl yan': 9304, 'ürün kalite': 9787, 'teknik şartname': 7985, 'eğit öğre': 2471, 'ilk yıl': 3647, 'premium': 6380, 'istikrar': 3812, 'global bilgi': 3015, 'ekip üye': 2154, 'bir hizmet': 1053, 'keyshot': 4221, 'sula': 7581, 'ziraat mühendi': 9358, 'memorial': 4987, 'haya geçirilme': 3305, 'yıl görev': 9285, 'yaşa koçluk': 8982, 'birlik proje': 1118, 'kurt': 4500, 'yak bir': 8752, 'php asp': 6220, 'çaba': 9390, 'uni': 8350, 'rahatlık': 6625, 'olan ekip': 5749, 'eğit bakanlık': 2448, 'fikr': 2599, 'pazarla müdür': 6131, 'iso windows': 3785, 'uyap': 8385, 'eğit geçmiş': 2454, 'geçmiş kişisel': 2975, 'bankacılık sigortacılık': 751, 'yönet uzun': 9189, 'yardımç olacak': 8906, 'vade eğit': 8471, 'özellik yardım': 9654, 'yardım şirket': 8901, 'ediyor gerek': 2105, 'dil c': 1818, 'aradık': 406, 'tun': 8252, 'ver analiz': 8514, 'programi yi': 6498, 'çalış şart': 9434, 'konu yetk': 4351, 'kurup': 4532, 'alabilir': 186, 'pazarla sosyal': 6136, 'engel yok': 2258, 'kalıp tasar': 4024, 'savunm sanayi': 7006, 'tasarım yapmak': 7885, 'kompozit': 4284, 'tasar uzman': 7876, 'aşama görev': 672, 'tama olan': 7810, 'post': 6318, 'teknik hizmet': 7974, 'arc': 451, 'olarak kullan': 5786, 'dev': 1736, 'anlaşılır': 364, 'ssrs': 7487, 'ssis': 7483, 'dbase': 1590, 'ii': 3545, 'rpa': 6785, 'tü': 8286, 'gerçekleştirecek': 2937, 'birleşme': 1113, 'pascal basic': 6102, 'robotic process': 6772, 'process automation': 6424, 'dünya çap': 1974, 'olarak tama': 5796, 'web uygulama': 8639, 'hızl büyüyen': 3495, 'derece hakim': 1685, 'samsung': 6873, 'statis': 7523, 'program adobe': 6464, 'pozisyon yıl': 6362, 'yetkinlik sahip': 9081, 'etk verim': 2342, 'windows mac': 8662, 'mysql oracle': 5274, 'veren nbsp': 8529, 'scripting': 7087, 'tasarlan': 7880, 'gömü siste': 3073, 'ş tanim': 9868, 'uygun fiyat': 8419, 'tasar proje': 7874, 'maven': 4919, 'mvc asp': 5266, 'illustrator adobe': 3651, 'açık kaynak': 645, 'spring framework': 7464, 'indesign adobe': 3696, 'spring boot': 7463, 'dreamveawer': 1924, 'yapabilen': 8787, 'google com': 3035, 'deney olan': 1640, 'mesai saat': 5012, 'yedek subay': 8997, 'ambalaj sektör': 288, 'sektör üret': 7128, 'jenkins': 3955, 'nexus': 5548, 'yazt': 8948, 'bilgisayar mühendislik': 1009, 'bk': 1137, 'tesisatçı': 8105, 'montajcı': 5167, 'taşıyabilir': 7902, 'lköğr': 4726, 'uygulama olarak': 8403, 'program son': 6491, 'son bir': 7373, 'bir meslek': 1062, 'yeterlilik belgelendir': 9069, 'belgelendir firma': 884, 'firma asansör': 2633, 'asansör bk': 507, 'bk asansör': 1138, 'asansör montaj': 508, 'montaj şlet': 5166, 'şlet elektrik': 9965, 'elektrik bk': 2189, 'bk elektrik': 1139, 'elektrik tesisatçı': 2201, 'tesisatçı elektrik': 8106, 'pano montajcı': 6080, 'montajcı meslek': 5168, 'meslek bir': 5016, 'bir şef': 1087, 'şef karar': 9892, 'karar alıç': 4064, 'alıç sınav': 275, 'sınav yapıç': 7694, 'yapıç olarak': 8885, 'yapt elektrik': 8826, 'elektrik teknik': 2198, 'eğit elektrik': 2451, 'tesisat pano': 8104, 'montaj üret': 5165, 'hizmet teknik': 3430, 'res autocad': 6704, 'autocad idari': 564, 'iş otomasyon': 3892, 'bak asansör': 704, 'asansör bak': 506, 'montaj plc': 5164, 'programla matlab': 6501, 'simulink yük': 7264, 'geril brülör': 2923, 'brülör bak': 1183, 'montaj jeneratör': 5163, 'bak muhasep': 710, 'muhasep meslek': 5231, 'meslek alan': 5015, 'tecrübe bilgi': 7925, 'sahip çalıştık': 6859, 'referans belirt': 6673, 'belirt uzun': 900, 'istiyor ev': 3815, 'ev çalışacak': 2373, 'çalışacak yer': 9446, 'yer taşıyabilir': 9039, 'taşıyabilir sigar': 7903, 'başar tama': 820, 'ge çalışma': 2793, 'devlet okul': 1756, 'iseries': 3773, 'eserver': 2307, 'banknote': 756, 'sürdür': 7639, 'mülaka': 5307, 'tanışma': 7852, 'konuşma': 4363, 'concept': 1455, 'win nt': 8653, 'ibm eserver': 3505, 'eserver iseries': 2308, 'fi ka': 2583, 'destek mühendi': 1717, 'siste mühendi': 7292, 'ürün müdür': 9789, 'maden par': 4806, 'veren ekip': 8527, 'e ekip': 2047, 'çalışma öne': 9480, 'mülaka katılarak': 5308, 'iş beceri': 3874, 'beceri uygunluk': 863, 'uygunluk hakk': 8428, 'konuşma ister': 4364, 'cluster': 1416, 'han': 3261, 'kurduk': 4490, 'tasar uygulama': 7875, 'ilişki güçl': 3634, 'getirme': 2956, 'bahçeşehir': 702, 'bir anlayış': 1040, 'gayrimenkuller': 2784, 'teklif alınma': 7962, 'lli': 4728, 'view': 8584, 'tutk': 8273, 'olduk bölg': 5816, 'sahip letiş': 6836, 'firma türki': 2663, 'ehliye': 2126, 'pazarla bölüm': 6126, 'görev tama': 3100, 'ngiliz bilgi': 5556, 'sınıf ehliye': 7697, 'ehliye sahip': 2127, 'kitl': 4238, 'apartman': 381, 'thy': 8145, 'twitter': 8283, 'hedef kitl': 3356, 'satılık kiralık': 6927, 'yer alma': 9034, 'ms works': 5203, 'works ofis': 8712, 'explorer linux': 2436, 'linux open': 4690, 'open ofiç': 5906, 'ofiç star': 5720, 'star ofiç': 7518, 'ofiç windows': 5721, 'windows wista': 8676, 'wista bulut': 8687, 'bulut yöne': 1226, 'yöne apartman': 9136, 'apartman si': 382, 'si yöne': 7243, 'progra point': 6458, 'windows iso': 8659, 'değerlendirme kur': 1783, 'pazarla tanıt': 6139, 'tanıt faaliyet': 7844, 'kent işim': 4206, 'enerj sektör': 2248, 'fiyat liste': 2680, 'sektör ilgi': 7114, 'iot': 3759, 'sayar kurs': 7012, 'kafe': 3991, 'powerpoint internet': 6340, 'el ettik': 2173, 'german': 2924, 'yen mezu': 9011, 'isıl': 3818, 'temel ms': 8035, 'isıl şlem': 3819, 'powerpoint eta': 6338, 'ran': 6630, 'katılımç': 4137, 'bilgi deneyim': 979, 'iletiş yetenek': 3591, 'medipol': 4953, 'medipol üniversite': 4955, 'ndows offi': 5489, 'taşla': 7897, 'keyif': 4220, 'laç sektör': 4589, 'access powerpoint': 20, 'reyon düzen': 6738, 'müşter kazandırmak': 5331, 'programlari logo': 6505, 'or ölçek': 5947, 'bünye nbsp': 1277, 'nbsp genel': 5415, 'ş tecrübe': 9873, 'sans': 6882, 'li sans': 4654, 'opt': 5935, 'öğretmen olarak': 9694, 'poliç': 6303, 'nbsp bölge': 5407, 'kontrolün sağlamak': 4322, 'rhinoceros': 6746, 'bölg bayi': 1254, 'ürün fiyat': 9779, 'ilgi gelişme': 3608, 'ort': 5991, 'sinan': 7267, 'firma bölg': 2635, 'koton': 4391, 'iyi çalış': 3839, 'stanbul nbsp': 7504, 'iş alan': 3869, 'ofis araç': 5712, 'yıl sür': 9298, 'öğretmenlik yapt': 9696, 'üniversi eğit': 9709, 'konu başarı': 4325, 'yenilik takip': 9027, 'wrd': 8722, 'tmfk': 8185, 'derhane': 1697, 'olmus': 5856, 'değerlendirebilmek': 1775, 'veli': 8510, 'anaoku': 343, 'marj': 4892, 'al özel': 181, 'üniversi hazırlık': 9710, 'öğrenci eğit': 9678, 'kur ihtiyaç': 4479, 'açıs kazandır': 657, 'gördük takdir': 3081, 'bekliyor': 873, 'odtü': 5669, 'de': 1592, 'eğit fakülte': 2452, 'kurs katıl': 4497, 'fakülte nde': 2533, 'öğrenç yurt': 9689, 'laçlari': 4590, 'başl yıl': 834, 'yıl aktif': 9275, 'bilgi becer': 973, 'çalışa': 9435, 'sağlamak günlük': 7036, 'taşıyan': 7904, 'track': 8218, 'ür': 9731, 'olan departman': 5748, 'departman pozisyon': 1662, 'eğit sektör': 2463, 'uygula konu': 8394, 'sahip konu': 6835, 'karlılık hedef': 4081, 'olan nbsp': 5757, 'sahi p': 6825, 'ür ge': 9732, 'sivas': 7323, 'dünya ön': 1975, 'yıl dene': 9281, 'kuzey': 4541, 'verilen eğitim': 8542, 'derece c': 1683, 'veritaban yönet': 8562, 'full tim': 2751, 'danışmanlık alan': 1560, 'tama ş': 7816, 'sahip takım': 6851, 'iddia': 3514, 'fazl ülke': 2574, 'odak hizmet': 5652, 'çöz sunmak': 9555, 'merkez olan': 5004, 'tama yıl': 7815, 'uydurabilen': 8389, 'ayak uydurabilen': 599, 'okul önce': 5728, 'paint photo': 6064, 'yetenek güçl': 9056, 'has kabul': 3275, 'günlük takip': 3181, 'course': 1493, 'interviews': 3747, 'ikna beceri': 3557, 'kadro ihtiyaç': 3989, 'uygun aday': 8417, 'word outlook': 8700, 'kurslarinda': 4498, 'hocalik': 3440, 'tabin': 7713, 'hazirladim': 3321, 'otelç': 6014, 'vd': 8504, 'muh': 5215, 'kurslarinda bi': 4499, 'donanim bi': 1886, 'tabin kent': 7714, 'kent hazirladim': 4202, 'otelç li': 6015, 'şube müşteri': 9989, 'nin ön': 5571, 'değer veren': 1768, 'sorgula': 7408, 'link logo': 4684, 'ticaret hukuk': 8161, 'dene bilgi': 1624, 'geliş nbsp': 2816, 'tecil': 7920, 'doldurmak': 1877, 'üzer nbsp': 9825, 'etk kullanabilen': 2339, 'assemp': 531, 'nbsp ngiliz': 5438, 'agent': 101, 'servis danışman': 7184, 'programs excel': 6515, 'page outlook': 6059, 'adobe reader': 83, 'şirket ürün': 9950, 'sunduk': 7589, 'memnuniyet öne': 4985, 'plan tu': 6240, 'insiyatif': 3719, 'belir bir': 887, 'kişisel gelişim': 4248, 'ikna kabiliyet': 3559, 'relevant': 6689, 'checking': 1387, 'temsilci destek': 8056, 'davet ediyor': 1579, 'backoffi': 697, 'yaptık görüşme': 8833, 'ürün servis': 9795, 'sistem uzak': 7314, 'sejour': 7104, 'analiz edip': 321, 'econometric': 2059, 'atb': 543, 'nees': 5503, 'uşak': 8466, 'point minitab': 6293, 'minitab ds': 5118, 'ds netsis': 1934, 'netsis ms': 5533, 'project econometric': 6554, 'econometric eviews': 2060, 'eviews atb': 2380, 'atb nees': 544, 'nees spss': 5504, 'uzman takım': 8446, 'yıllık bankacılık': 9311, 'satış deney': 6945, 'servis persone': 7188, 'olduk bilgi': 5815, 'doktor eczane': 1870, 'çalış plan': 9419, 'ngiliz öğretmen': 5559, 'elim gelen': 2217, 'sınıf öğretmen': 7700, 'programlari eta': 6504, 'ler sev': 4623, 'haya açtık': 3303, 'açtık pozisyo': 641, 'gerektirdik altyapı': 2917, 'altyapı ban': 258, 'ban sağl': 734, 'eğitim yaptık': 2480, 'benzer pozisyon': 917, 'note': 5599, 'program raporla': 6489, 'kariyer fırsat': 4073, 'pic programla': 6225, 'offi yazılım': 5704, 'nbsp telefon': 5457, 'led aydınlat': 4611, 'düzey ngiliz': 2003, 'offi nternet': 5686, 'powerpoint paint': 6348, 'oluşturabilecek': 5873, 'koleksiyon': 4277, 'erp yazılım': 2300, 'gayret': 2774, 'konfor': 4292, 'lider olan': 4662, 'offi progra': 5691, 'düşün problem': 2014, 'sürüç belge': 7679, 'bağlan sistem': 807, 'serbest olarak': 7154, 'parmak klavye': 6090, 'nbsp kariyer': 5424, 'nbsp eğit': 5413, 'aday nbsp': 57, 'gerçekleştirmek nbsp': 2947, 'ilerleyen': 3577, 'tama nbsp': 7809, 'iler teknoloji': 3573, 'nbsp letiş': 5427, 'güçl ekip': 3209, 'yatk anali': 8920, 'r mm': 6620, 'hakl': 3245, 'gibi': 2982, 'yıl içeri': 9289, 'aşağı gibi': 677, 'sunuyor': 7597, 'geliştirecek': 2842, 'karşılayacak': 4090, 'rational': 6653, 'arc gis': 452, 'ürün bilgi': 9778, 'yük ekip': 9232, 'attitude': 550, 'description': 1704, 'arayan müşteri': 423, 'vardiya düzen': 8486, 'küçükçekme': 4553, 'talented': 7797, 'offices': 5706, 'midt': 5091, 'tiger micro': 8173, 'cost analysis': 1490, 'business analysis': 1241, 'midt east': 5092, 'ortope': 6004, 'faizs': 2524, 'üret taki': 9757, 'biyoloji': 1132, 'sorumluluk alabilecek': 7420, 'uludağ üniversite': 8331, 'wsus': 8727, 'mssql mysql': 5209, 'microsoft system': 5086, 'system network': 7621, 'network kurs': 5536, 'abap': 4, 'microsoft exchange': 5077, 'sap abap': 6886, 'alcatel': 217, 'olarak mezu': 5788, 'nitelik sahip': 5575, 'powerpoint logo': 6342, 'koordinasyon beceri': 4376, 'skype': 7337, 'moda': 5143, 'fark eğitim': 2540, 'ab proje': 3, 'aday başvuru': 56, 'yenibosn': 9022, 'bay bayan': 787, 'powerpoint yi': 6351, 'ntergis': 5619, 'cbs': 1359, 'temsilci çağrı': 8061, 'bitkisel': 1131, 'girişim': 2996, 'sql veritaban': 7478, 'olan aday': 5745, 'tecrübe olan': 7932, 'yapmak isteyen': 8809, 'açık olan': 647, 'olmak istiyor': 5843, 'lotusnotes': 4776, 'trio': 8244, 'yazı iletiş': 8952, 'sektör yıllık': 7123, 'kamet': 4030, 'sınıf sürüç': 7699, 'yeter bilgi': 9066, 'kullandim': 4447, 'esxi': 2318, 'windows operating': 8668, 'mutluluk': 5263, 'başlangıç sevi': 842, 'genç dinamik': 2887, 'birleştirerek': 1114, 'microsoft server': 5084, 'backup restore': 699, 'wm': 8689, 'analiz tasar': 329, 'new technologies': 5546, 'knowledge experience': 4265, 'crm entegrasyon': 1503, 'sözl yazı': 7630, 'görevlendirmek': 3115, 'alan deneyim': 198, 'mağaza nbsp': 4932, 'repository': 6698, 'programming languages': 6513, 'unit test': 8356, 'svn git': 7611, 'nbsp yük': 5466, 'e ş': 2055, 'cmmi': 1417, 'nbsp nsan': 5439, 'yazma': 8946, 'kafk': 3992, 'borland': 1156, 'borland c': 1157, 'weblogic': 8643, 'orm': 5989, 'editor': 2100, 'üzer aşağı': 9821, 'danişmanlari': 1548, 'yaş ara': 8977, 'softwares': 7357, 'kalıphane': 4025, 'üniversite sağlık': 9725, 'ruhl': 6790, 'pai': 6061, 'pai nt': 6062, 'verebilir': 8521, 'almak istiyor': 238, 'nbsp olan': 5441, 'yetenek geliş': 9054, 'mba': 4938, 'ilgi sektör': 3616, 'yen kadro': 9010, 'or yıl': 5946, 'koordinasyon yetenek': 4379, 'düzey bilgi': 1997, 'winnt': 8681, 'harç': 3273, 'öğrenme istek': 9685, 'excel lotus': 2394, 'emul': 2236, 'uygulma': 8414, 'verisoft': 8559, 'stramar': 7548, 'şubepgm': 9991, 'uygulama tun': 8405, 'tun emul': 8253, 'emul bankacılık': 2237, 'bankacılık siste': 752, 'offi uygulma': 5700, 'uygulma windows': 8415, 'photo editor': 6209, 'editor adobe': 2101, 'draw başlangıç': 1922, 'başlangıç lotus': 841, 'lotus banksoft': 4773, 'banksoft verisoft': 759, 'verisoft quantis': 8560, 'quantis stramar': 6614, 'stramar şubepgm': 7549, 'felsef': 2578, 'cumarte': 1516, 'yatk iletiş': 8922, 'sophos': 7405, 'lisans bölüm': 4698, 'ilişki iletiş': 3635, 'bilinç sahip': 1022, 'tempo esnek': 8046, 'olmaz': 5854, 'olmaz olmaz': 5855, 'aydınlat sektör': 604, 'bölüm nbsp': 1270, 'nbsp sektör': 5447, 'çözm beceri': 9560, 'müşteri gü': 5355, 'satış yapabilecek': 6995, 'diva': 1849, 'uygulama diva': 8396, 'diva vs': 1850, 'enge bulunmayan': 2253, 'irtiba geçerek': 3768, 'opsiyon': 5934, 'eğit veren': 2466, 'industries': 3700, 'workers': 8709, 'kullanım hakim': 4466, 'ax': 591, 'excel or': 2398, 'görsel standart': 3123, 'destek vererek': 1724, 'hâkim': 3490, 'assisting': 535, 'concierg': 1457, 'profesyonel bir': 6440, 'sahip nbsp': 6840, 'yi microsoft': 9087, 'yıl kurulan': 9292, 'önç bir': 9631, 'başl bura': 831, 'yaş aralık': 8978, 'yi autocad': 9083, 'sektör deneyim': 7110, 'geliştirmek adın': 2857, 'punch': 6597, 'verebilecek': 8520, 'bilgilendir satış': 995, 'raporla word': 6643, 'türki ş': 8306, 'plantum': 6267, 'offi profosyonel': 5690, 'gösteren şirket': 3148, 'yetiştirilmek': 9072, 'diş hastane': 1859, 'lisans tez': 4705, 'medican': 4950, 'pozisyon değerlendirilmek': 6359, 'kpi lar': 4401, 'ms frontpage': 5187, 'yönetecek': 9196, 'sektör dene': 7108, 'fakülte mezu': 2531, 'almak üzer': 240, 'reputable': 6699, 'hands': 3264, 'hands experience': 3265, 'practices': 6373, 'iletiş kabi': 3584, 'raporla beceri': 6639, 'kurabilecek': 4485, 'power bi': 6329, 'el etmek': 2171, 'market olarak': 4898, 'aim': 112, 'edilmek üzer': 2087, 'tep servis': 8070, 'veren anali': 8525, 'kur iyi': 4480, 'kimya mühendislik': 4227, 'biliş sektör': 1027, 'cultural': 1515, 'constantly': 1463, 'available': 579, 'bilgisayar bilg': 1001, 'lis mezun': 4695, 'nbsp çalışma': 5470, 'yok tempo': 9105, 'beceri kuvvet': 859, 'dünya marka': 1973, 'callcenters': 1333, 'aranan': 413, 'progra yönetiç': 6461, 'olan ms': 5755, 'yönetici yönetmen': 9199, 'microsoft visio': 5087, 'an kadar': 299, 'sites': 7322, 'teaching': 7909, 'scripts': 7088, 'cassandr': 1354, 'informatica': 3702, 'druid': 1931, 'turnillo': 8269, 'graphdb': 3044, 'greml': 3048, 'dgraph': 1793, 'rdbms': 6658, 'oracle postgre': 5954, 'postgre cassandr': 6320, 'cassandr pl': 1355, 'apache kafk': 379, 'kafk druid': 3993, 'druid turnillo': 1932, 'greml dgraph': 3049, 'internet applications': 3739, 'üniversite hastane': 9717, 'müşteri gayrimenkul': 5352, 'crm bilgi': 1502, 'uygulama internet': 8399, 'yük gelir': 9233, 'nı': 5631, 'greenpeace': 3047, 'ara yıl': 402, 'şirk nde': 9927, 'temsilci pozisyo': 8059, 'pozisyo çalış': 6355, 'çalış çağrı': 9433, 'hatt nı': 3294, 'nı arayan': 5632, 'doğr çöz': 1908, 'excell pai': 2413, 'bulunabilecek': 1202, 'solving skills': 7371, 'uzman pozisyon': 8444, 'yaka nda': 8757, 'sağlamak istiyor': 7037, 'istiyor nbsp': 3816, 'deneyim ms': 1646, 'jax': 3950, 'ws': 8726, 'jpa': 3960, 'swing': 7614, 'primefaces': 6402, 'benimseyerek': 914, 'jav spring': 3945, 'nbsp askerlik': 5403, 'takip edebilecek': 7741, 'fark yara': 2543, 'spanyol': 7447, 'letiş güçl': 4631, 'dürüstlük': 1977, 'eşleştir': 2489, 'uzmanlaşmak': 8451, 'antalya bölg': 370, 'sunmak nbsp': 7591, 'lisans lisans': 4701, 'plm': 6277, 'letiş yetenek': 4635, 'yetenek kuvvet': 9060, 'yayınlan': 8936, 'yaratabilecek': 8891, 'alma dil': 233, 'net ms': 5518, 'şirket çalışmak': 9949, 'sahip alan': 6828, 'mfg': 5060, 'mfg pro': 5061, 'has memnuniyet': 3277, 'und': 8347, 'ingiliz bilen': 3706, 'yükseltme': 9255, 'progra iyi': 6453, 'benzer bir': 916, 'distributed': 1844, 'entertainment': 2271, 'odak çalışabilen': 5660, 'düşün yetenek': 2015, 'temel gı': 8034, 'grup piya': 3059, 'piya şart': 6229, 'proaktif olarak': 6413, 'uzman bir': 8440, 'duymak': 1949, 'huawei': 3478, 'üniversi mezun': 9711, 'temsil yetenek': 8054, 'deney konu': 1639, 'ilçe ikamet': 3653, 'diyor': 1853, 'lütfen': 4788, 'aramak üniversite': 411, 'sehr': 7103, 'aşma': 684, 'link personel': 4686, 'personel stok': 6197, 'teknik nsan': 7978, 'özellik excel': 9651, 'temsilci pozisyon': 8060, 'programs word': 6516, 'tecrübe ms': 7930, 'düşü yapı': 2010, 'yük müşter': 9238, 'teknik lis': 7976, 'fark yaratacak': 2544, 'great': 3046, 'spring hibernate': 7465, 'intellij': 3728, 'şlet mühendislik': 9969, 'süreç bilgi': 7657, 'yetiştirilmek üzer': 9073, 'sağlık meslek': 7074, 'outlook power': 6043, 'located': 4736, 'semt': 7137, 'gösterebilecek': 3142, 'akıl bina': 159, 'saat uyum': 6804, 'deneyim yi': 1651, 'derece kullanabilen': 1687, 'kullanabilen ş': 4436, 'computer engineering': 1454, 'handle': 3262, 'coretex': 1486, 'mekatronik mühendislik': 4975, 'sahip yok': 6856, 'olan kent': 5753, 'terç': 8096, 'ngiliz bilen': 5554, 'almak isteyen': 237, 'sektör deney': 7109, 'görünüm öne': 3128, 'saat uy': 6803, 'yetenek olan': 9061, 'lise meslek': 4707, 'tekstil mühendislik': 8003, 'spoken english': 7456, 'gayrimenkul danışman': 2779, 'gayrimenkul sektör': 2783, 'bulunmak ş': 1215, 'ankar ikamet': 353, 'gerçekleştirebilecek': 2936, 'yazylymy': 8949, 'yazylymy tiger': 8950, 'fatur entegrasyon': 2555, 'tic logo': 8157, 'ler ms': 4620, 'net platform': 5520, 'medipol mega': 4954, 'kişisel bakım': 4246, 'nitelik uygun': 5576, 'şlet ktisat': 9967, 'e nbsp': 2051, 'bulunmak nbsp': 1214, 'getirebilecek': 2953, 'satış deneyim': 6946, 'male': 4844, 'skills nbsp': 7336, 'bağç': 811, 'tasarruf daya': 7883, 'daya faizs': 1583, 'sorum olacak': 7413, 'üniversite mühendislik': 9722, 'etimesgut': 2335, 'ekip nbsp': 2146, 'proven': 6577, 'çalışabilecek bir': 9437, 'uy sağlayabilecek': 8383, 'olan planla': 5758, 'yasa gerek': 8912, 'büyüme devam': 1297, 'grup logo': 3057, 'önlisans lisans': 9628, 'gün yen': 3166, 'ethica': 2333, 'çalış yer': 9431, 'wir': 8684, 'tercihen': 8075, 'olarak çalışacak': 5804, 'görevlendirilmek': 3113, 'aşağı belirtilen': 676, 'jeans': 3952, 'kuvvet ekip': 4537, 'bilgi olan': 982, 'isteyen nbsp': 3808, 'uyum ş': 8433, 'ş mode': 9860, 'nbsp dış': 5409, 'kendi verilen': 4190, 'nbsp yaş': 5462, 'bakım özen': 726, 'önem değer': 9614, 'konuşabilen': 4362, 'temsil edebilecek': 8051, 'bir sağlık': 1073, 'üniversite yıllık': 9727, 'kariyer hedefleyen': 4076, 'genel hizmet': 2869, 'yaka ikamet': 8756, 'bilkent holding': 1031, 'arkadaş arayış': 470, 'hakim nbsp': 3238, 'gayrimenkul araç': 2778, 'girişimç ruh': 3000, 'okuyabilen': 5735, 'tecrübe nbsp': 7931, 'dil bir': 1817, 'nbsp takım': 5454, 'pozisyon nbsp': 6361, 'verbal': 8518, 'aks akrilik': 134, 'düşün beceri': 2013, 'yatk letiş': 8923, 'von': 8611, 'mezun yaş': 5057, 'ur ge': 8369, 'kümelen': 4549, 'uluslararasılaştır': 8343, 'kümelen çalışma': 4550, 'bölgesel kalkın': 1265, 'değer zincir': 1770, 'zincir analiz': 9352, 'beklenmek': 871, 'ş nets': 9862, 'nets proje': 5530, 'für': 2758, 'gute': 3071, 'zu': 9383, 'als': 245, 'auf': 556, 'ein': 2130, 'eines': 2131, 'değerlendirilecek': 1777, 'kuvvet takım': 4540, 'nbsp çöz': 5471, 'deneyims': 1652, 'kent işin': 4207, 'ortam uy': 6000, 'siste çalışabilecek': 7299, 'lisans nbsp': 4703, 'derece bilen': 1679, 'görevlendirilmek üzer': 3114, 'genel nitelik': 2877, 'çalışmak isteyen': 9484, 'stanbul ikamet': 7503, 'branş ilgi': 1178, 'dinamik kadro': 1827, 'nbsp üniversi': 5473, 'nbsp strong': 5452, 'nbsp mezun': 5431, 'mezun nbsp': 5055, 'tama stanbul': 7813, 'mega hastane': 4964, 'hastane kompleks': 3284, 'mezu nbsp': 5050, 'görmek istiyor': 3120, 'concierg hizmet': 1458, 'vermek isteyen': 8569, 'dil bilen': 1815, 'lider marka': 4661, 'bie': 944, 'aramak ş': 412, 'bi rev': 939, 'gösteren diksiyon': 3145, 'raporla yapabilecek': 6644, 'skills ability': 7335, 'yaşa tarz': 8983, 'grup yıl': 3061, 'arıyor ş': 495, 'tama olmak': 7812, 'bölge ikamet': 1261, 'mıs': 5367, 'birçok ilk': 1123, 'doğrultu kendi': 1913, 'yıl yöneticilik': 9305, 'gerekmek': 2911, 'sefaköy': 7100, 'clinicexpert': 1411, 'kendi yönlendirilen': 4191, 'yönlendirilen müşteri': 9225, 'ihtiyaç duymak': 3537, 'uzman üniversite': 8448, 'nbsp üniversite': 5474, 'remax': 6690, 'tercihen üniversite': 8088, 'kabi olan': 3974, 'odak nbsp': 5654, 'tercihen nbsp': 8079, 'bilen nbsp': 961, 'tercih sebep': 8074, 'sahip tercihen': 6852, 'arıyor nbsp': 493, 'tanimimüşteri': 7835, 'üzer lis': 9824, 'sağlayabilecek erkek': 7058, 'erkek aday': 2285, 'aday askerlik': 55, 'yıl tecil': 9300, 'arkadaş aramak': 468, 'ş tanimimüşteri': 9871, 'nbsp esnek': 5412, 'alınmayacak': 269, 'üniversite ilgi': 9718, 'tecrübe bulunan': 7926, 'tecrübe tercihen': 7934, 'preferred': 6378, 'degre computer': 1600, 'command written': 1437, 'tanimi': 7833, 'ş tanimi': 9869, 'aşağı nitelik': 679, 'nbsp tercihen': 5458, 'tercihen üniversi': 8087, 'sahip erkek': 6833, 'yaş aşma': 8979, 'bünye görevlendirilmek': 1276, 'nbsp lis': 5428, 'açık nbsp': 646, 'nbsp ikamet': 5420, 'min yıl': 5113, 'olan erkek': 5750, 'civar ikamet': 1406, 'mezun tercihen': 5056, 'tercihen önlisans': 8086, 'olmayan aday': 5850, 'mezu tercihen': 5053, 'preferably': 6377, 'obligation male': 5645, 'male candidates': 4845, 'olarak görevlendirilmek': 5782, 'aşağı özellik': 680, 'aramak nbsp': 410, 'kullanabilen nbsp': 4432, 'deneyim nbsp': 1647, 'vardiya çalışabilecek': 8489, 'çalışabilecek nbsp': 9438, 'nbsp yok': 5465, 'tercihen ngiliz': 8080, 'görünüm özen': 3129, 'tercih neden': 8073, 'askerlik ilişik': 520, 'olmayan erkek': 5851, 'görevlendirmek üzer': 3116, 'kullanabilen tercihen': 4435, 'tercihen iyi': 8077, 'olan tercihen': 5763, 'üzer üniversite': 9832, 'ilişik bulunmayan': 3628, 'nbsp pozisyon': 5444, 'nde görevlendirilmek': 5483, 'lis tercihen': 4696, 'tercihen meslek': 8078, 'kullanabilen erkek': 4431, 'çalışacak takım': 9445, 'alacak takım': 192, 'bay aday': 786, 'e edebilecek': 2046, 'edebilecek olan': 2064, 'nbsp görevlendirilmek': 5418, 'nbsp mezu': 5430, 'kuvvet nbsp': 4539, 'aranmak': 415, 'bilen tercihen': 962, 'kullanabilen askerlik': 4429, 'genel başvur': 2866, 'nitelik nbsp': 5574, 'sağlayabilecek nbsp': 7059, 'ilg duyan': 3597, 'bulunmayan erkek': 1218, 'genel ni': 2876, 'vb bölüm': 8498, 'kullanabilen b': 4430, 'aday tercih': 58, 'başvuru bekliyor': 852, 'tama olma': 7811, 'odak çalışabilecek': 5659, 'hastane medipol': 3285, 'kali anlayış': 4002, 'ara görmek': 398, 'olmayan nbsp': 5852, 'nbsp erkek': 5411, 'university degre': 8361, 'nbsp aday': 5395, 'tama tercihen': 7814, 'bayan nbsp': 789, 'lis meslek': 4694, 'uy gösterebilecek': 8382, 'e erkek': 2048, 'nbsp aranmak': 5400, 'aranmak nbsp': 416, 'tanim nbsp': 7832, 'güçl nbsp': 3212, 'düzg iletiş': 2006, 'nbsp aramak': 5399, 'departman görevlendirilmek': 1661, 'nbsp arayış': 5401, 'deney bulunan': 1637, 'olma gerekmek': 5834, 'belirtilen nitelik': 902, 'deneyim tercihen': 1649, 'nbsp anali': 5398, 'yatk nbsp': 8924, 'üniversite tercihen': 9726, 'kullanabilen seyahat': 4433, 'ilişik olmayan': 3629, 'nbsp sen': 5448, 'arıyor lis': 492, 'bulunmayan ş': 1219, 'olan letiş': 5754, 'belge olan': 880, 'arkadaş aranmak': 469, 'nbsp arıyor': 5402, 'aday ş': 60, 'büyüyen organizasyon': 1302, 'tercihen sap': 8081, 'büyüyen ekip': 1301, 'minimum yıl': 5115, 'olmayan ş': 5853, 'ister mis': 3805, 'tecil ş': 7921, 'aranmak ş': 417, 'üzer tercihen': 9827, 'tama erkek': 7808, 'hakim tercihen': 3239, 'led bazl': 4612, 'bazl aydınlat': 796, 'yük prim': 9243, 'tercihen yıl': 8084, 'edebilecek ş': 2065, 'alınacak ş': 264, 'istihdam edilmek': 3811, 'mühendi üniversite': 5298, 'yaklaş benims': 8761, 'benims maksimum': 912, 'maksimum hizmet': 4838, 'kalite sunabilecek': 4017, 'gösteren erkek': 3146, 'alacak aşağı': 190, 'tanimimağaza': 7834, 'ş tanimimağaza': 9870, 'aday aranmak': 54, 'rol alacak': 6776, 'tanimişirket': 7836, 'bilen ms': 960, 'ş tanimişirket': 9872, 'tercihen ön': 8085, 'hakim erkek': 3237, 'çalışacak nbsp': 9444, 'tercihen satış': 8082, 'bilen erkek': 959, 'coldwell': 1428, 'banker': 754, 'mis nbsp': 5123, 'kazanmak isteyen': 4177, 'coldwell banker': 1429, 'yük kazanç': 9235, 'medican sağlık': 4951, 'tercihen sektör': 8083, 'bilen ş': 963, 'danışman arıyor': 1556, 'bekliyor ş': 874, 'aranan nitelik': 414, 'kullanabilen takım': 4434, 'least years': 4608, 'düzey kullanabilen': 2000, 'kuvvet ikna': 4538, 'tercihen askerlik': 8076, 'realty': 6666, 'realty world': 6667, 'arıyor üniversite': 494, 'odak tempo': 5656, 'şirket sunduk': 9944, 'müşteri platform': 5360, 'olacak nbsp': 5743, 'aday tercihen': 59, 'nbsp ability': 5394, 'yotel': 9115, 'faizs ş': 2525, 'sahip yapan': 6853, 'büyüyen yapı': 1303, 'yapı neden': 8840}\n"
          ],
          "name": "stdout"
        }
      ]
    },
    {
      "cell_type": "code",
      "metadata": {
        "id": "tImqCQgooRdS",
        "colab_type": "code",
        "colab": {
          "base_uri": "https://localhost:8080/",
          "height": 1000
        },
        "outputId": "3fb979e1-55fd-40db-f61c-36dbeda0e55c"
      },
      "source": [
        "# Random Forest Classifier for CountVects\n",
        "\n",
        "RANDOM_STATE=42\n",
        "CV=5\n",
        "\n",
        "X = np.concatenate([resmues_vectorized.toarray(), job_ads_vectorized.toarray()], axis=1)\n",
        "y = cv_job_evaluations_df.Label\n",
        "\n",
        "X_train, X_test, y_train, y_test = train_test_split(X, y, test_size=0.20, random_state=42)\n",
        "rfc = RandomForestClassifier(n_estimators=500, verbose=1, n_jobs=-1, criterion=\"entropy\", random_state=42)\n",
        "rfc.fit(X_train, y_train)\n",
        "accuracies = cross_val_score(rfc, X, y, scoring='accuracy', cv=CV)\n",
        "\n",
        "print('#' * 30)\n",
        "print(accuracies)\n",
        "print('#' * 30)\n",
        "predictions = rfc.predict(X_test)\n",
        "print(confusion_matrix(y_test, predictions))\n",
        "print(classification_report(y_test, predictions))\n",
        "print(accuracy_score(y_test, predictions))\n",
        "print('#' * 30)"
      ],
      "execution_count": 34,
      "outputs": [
        {
          "output_type": "stream",
          "text": [
            "[Parallel(n_jobs=-1)]: Using backend ThreadingBackend with 4 concurrent workers.\n",
            "[Parallel(n_jobs=-1)]: Done  42 tasks      | elapsed:    3.4s\n",
            "[Parallel(n_jobs=-1)]: Done 192 tasks      | elapsed:   14.7s\n",
            "[Parallel(n_jobs=-1)]: Done 442 tasks      | elapsed:   33.2s\n",
            "[Parallel(n_jobs=-1)]: Done 500 out of 500 | elapsed:   37.4s finished\n",
            "[Parallel(n_jobs=-1)]: Using backend LokyBackend with 4 concurrent workers.\n",
            "[Parallel(n_jobs=-1)]: Done  42 tasks      | elapsed:   10.6s\n",
            "[Parallel(n_jobs=-1)]: Done 192 tasks      | elapsed:   41.3s\n",
            "[Parallel(n_jobs=-1)]: Done 442 tasks      | elapsed:  1.6min\n",
            "[Parallel(n_jobs=-1)]: Done 500 out of 500 | elapsed:  1.8min finished\n",
            "[Parallel(n_jobs=4)]: Using backend ThreadingBackend with 4 concurrent workers.\n",
            "[Parallel(n_jobs=4)]: Done  42 tasks      | elapsed:    0.0s\n",
            "[Parallel(n_jobs=4)]: Done 192 tasks      | elapsed:    0.1s\n",
            "[Parallel(n_jobs=4)]: Done 442 tasks      | elapsed:    0.3s\n",
            "[Parallel(n_jobs=4)]: Done 500 out of 500 | elapsed:    0.3s finished\n",
            "[Parallel(n_jobs=-1)]: Using backend LokyBackend with 4 concurrent workers.\n",
            "[Parallel(n_jobs=-1)]: Done  42 tasks      | elapsed:    9.0s\n",
            "[Parallel(n_jobs=-1)]: Done 192 tasks      | elapsed:   40.6s\n",
            "[Parallel(n_jobs=-1)]: Done 442 tasks      | elapsed:  1.6min\n",
            "[Parallel(n_jobs=-1)]: Done 500 out of 500 | elapsed:  1.7min finished\n",
            "[Parallel(n_jobs=4)]: Using backend ThreadingBackend with 4 concurrent workers.\n",
            "[Parallel(n_jobs=4)]: Done  42 tasks      | elapsed:    0.0s\n",
            "[Parallel(n_jobs=4)]: Done 192 tasks      | elapsed:    0.1s\n",
            "[Parallel(n_jobs=4)]: Done 442 tasks      | elapsed:    0.3s\n",
            "[Parallel(n_jobs=4)]: Done 500 out of 500 | elapsed:    0.3s finished\n",
            "[Parallel(n_jobs=-1)]: Using backend LokyBackend with 4 concurrent workers.\n",
            "[Parallel(n_jobs=-1)]: Done  42 tasks      | elapsed:    8.8s\n",
            "[Parallel(n_jobs=-1)]: Done 192 tasks      | elapsed:   39.6s\n",
            "[Parallel(n_jobs=-1)]: Done 442 tasks      | elapsed:  1.5min\n",
            "[Parallel(n_jobs=-1)]: Done 500 out of 500 | elapsed:  1.7min finished\n",
            "[Parallel(n_jobs=4)]: Using backend ThreadingBackend with 4 concurrent workers.\n",
            "[Parallel(n_jobs=4)]: Done  42 tasks      | elapsed:    0.0s\n",
            "[Parallel(n_jobs=4)]: Done 192 tasks      | elapsed:    0.1s\n",
            "[Parallel(n_jobs=4)]: Done 442 tasks      | elapsed:    0.3s\n",
            "[Parallel(n_jobs=4)]: Done 500 out of 500 | elapsed:    0.3s finished\n",
            "[Parallel(n_jobs=-1)]: Using backend LokyBackend with 4 concurrent workers.\n",
            "[Parallel(n_jobs=-1)]: Done  42 tasks      | elapsed:    8.8s\n",
            "[Parallel(n_jobs=-1)]: Done 192 tasks      | elapsed:   38.3s\n",
            "[Parallel(n_jobs=-1)]: Done 442 tasks      | elapsed:  1.5min\n",
            "[Parallel(n_jobs=-1)]: Done 500 out of 500 | elapsed:  1.7min finished\n",
            "[Parallel(n_jobs=4)]: Using backend ThreadingBackend with 4 concurrent workers.\n",
            "[Parallel(n_jobs=4)]: Done  42 tasks      | elapsed:    0.0s\n",
            "[Parallel(n_jobs=4)]: Done 192 tasks      | elapsed:    0.1s\n",
            "[Parallel(n_jobs=4)]: Done 442 tasks      | elapsed:    0.3s\n",
            "[Parallel(n_jobs=4)]: Done 500 out of 500 | elapsed:    0.3s finished\n",
            "[Parallel(n_jobs=-1)]: Using backend LokyBackend with 4 concurrent workers.\n",
            "[Parallel(n_jobs=-1)]: Done  42 tasks      | elapsed:    8.7s\n",
            "[Parallel(n_jobs=-1)]: Done 192 tasks      | elapsed:   39.3s\n",
            "[Parallel(n_jobs=-1)]: Done 442 tasks      | elapsed:  1.5min\n",
            "[Parallel(n_jobs=-1)]: Done 500 out of 500 | elapsed:  1.7min finished\n",
            "[Parallel(n_jobs=4)]: Using backend ThreadingBackend with 4 concurrent workers.\n",
            "[Parallel(n_jobs=4)]: Done  42 tasks      | elapsed:    0.0s\n",
            "[Parallel(n_jobs=4)]: Done 192 tasks      | elapsed:    0.1s\n",
            "[Parallel(n_jobs=4)]: Done 442 tasks      | elapsed:    0.3s\n",
            "[Parallel(n_jobs=4)]: Done 500 out of 500 | elapsed:    0.3s finished\n"
          ],
          "name": "stderr"
        },
        {
          "output_type": "stream",
          "text": [
            "##############################\n",
            "[0.75196232 0.7566719  0.76295133 0.75981162 0.73835688]\n",
            "##############################\n"
          ],
          "name": "stdout"
        },
        {
          "output_type": "stream",
          "text": [
            "[Parallel(n_jobs=4)]: Using backend ThreadingBackend with 4 concurrent workers.\n",
            "[Parallel(n_jobs=4)]: Done  42 tasks      | elapsed:    0.0s\n",
            "[Parallel(n_jobs=4)]: Done 192 tasks      | elapsed:    0.1s\n"
          ],
          "name": "stderr"
        },
        {
          "output_type": "stream",
          "text": [
            "[[952 168]\n",
            " [337 454]]\n",
            "              precision    recall  f1-score   support\n",
            "\n",
            "           0       0.74      0.85      0.79      1120\n",
            "           1       0.73      0.57      0.64       791\n",
            "\n",
            "    accuracy                           0.74      1911\n",
            "   macro avg       0.73      0.71      0.72      1911\n",
            "weighted avg       0.73      0.74      0.73      1911\n",
            "\n",
            "0.7357404500261643\n",
            "##############################\n"
          ],
          "name": "stdout"
        },
        {
          "output_type": "stream",
          "text": [
            "[Parallel(n_jobs=4)]: Done 442 tasks      | elapsed:    0.3s\n",
            "[Parallel(n_jobs=4)]: Done 500 out of 500 | elapsed:    0.3s finished\n"
          ],
          "name": "stderr"
        }
      ]
    },
    {
      "cell_type": "markdown",
      "metadata": {
        "id": "b1UMxpKGcuHm",
        "colab_type": "text"
      },
      "source": [
        "## Term-Frequency, Inverse-Document Frequency"
      ]
    },
    {
      "cell_type": "code",
      "metadata": {
        "id": "qSlkkRfgNA0j",
        "colab_type": "code",
        "colab": {}
      },
      "source": [
        "def tf_idf_vectorizer():\n",
        "  tf_idf_transformer = TfidfTransformer(smooth_idf=True, use_idf=True)\n",
        "  return tf_idf_transformer"
      ],
      "execution_count": 36,
      "outputs": []
    },
    {
      "cell_type": "code",
      "metadata": {
        "colab_type": "code",
        "id": "SM6QORm501aW",
        "colab": {
          "base_uri": "https://localhost:8080/",
          "height": 35
        },
        "outputId": "34b486d1-d044-4998-dac9-c25790f1ab04"
      },
      "source": [
        "# tf_idf-vecs for resumes and job ads\n",
        "\n",
        "tf_idf_transformer = tf_idf_vectorizer()\n",
        "tf_idf_transformer.fit(X)"
      ],
      "execution_count": 37,
      "outputs": [
        {
          "output_type": "execute_result",
          "data": {
            "text/plain": [
              "TfidfTransformer(norm='l2', smooth_idf=True, sublinear_tf=False, use_idf=True)"
            ]
          },
          "metadata": {
            "tags": []
          },
          "execution_count": 37
        }
      ]
    },
    {
      "cell_type": "code",
      "metadata": {
        "id": "Su0zSBbXUgY_",
        "colab_type": "code",
        "colab": {}
      },
      "source": [
        "X_transformed = tf_idf_transformer.transform(X)"
      ],
      "execution_count": 40,
      "outputs": []
    },
    {
      "cell_type": "code",
      "metadata": {
        "id": "5dduAk2rVBnf",
        "colab_type": "code",
        "colab": {
          "base_uri": "https://localhost:8080/",
          "height": 139
        },
        "outputId": "685d15c5-887f-4db3-bf81-2ad309f9f5a4"
      },
      "source": [
        "X_transformed.toarray()"
      ],
      "execution_count": 42,
      "outputs": [
        {
          "output_type": "execute_result",
          "data": {
            "text/plain": [
              "array([[0., 0., 0., ..., 0., 0., 0.],\n",
              "       [0., 0., 0., ..., 0., 0., 0.],\n",
              "       [0., 0., 0., ..., 0., 0., 0.],\n",
              "       ...,\n",
              "       [0., 0., 0., ..., 0., 0., 0.],\n",
              "       [0., 0., 0., ..., 0., 0., 0.],\n",
              "       [0., 0., 0., ..., 0., 0., 0.]])"
            ]
          },
          "metadata": {
            "tags": []
          },
          "execution_count": 42
        }
      ]
    },
    {
      "cell_type": "code",
      "metadata": {
        "id": "yu9-tRNhsiKp",
        "colab_type": "code",
        "colab": {
          "base_uri": "https://localhost:8080/",
          "height": 1000
        },
        "outputId": "a8782fb9-8628-4301-acd4-f4c25a28beea"
      },
      "source": [
        "# Random Forest Classifier for TF-IDF Vectors\n",
        "\n",
        "RANDOM_STATE=42\n",
        "CV=5\n",
        "\n",
        "y = cv_job_evaluations_df.Label\n",
        "\n",
        "X_train, X_test, y_train, y_test = train_test_split(X, y, test_size=0.20, random_state=42)\n",
        "rfc = RandomForestClassifier(n_estimators=500, verbose=1, n_jobs=-1, criterion=\"entropy\", random_state=42)\n",
        "rfc.fit(X_train, y_train)\n",
        "accuracies = cross_val_score(rfc, X, y, scoring='accuracy', cv=CV)\n",
        "\n",
        "print('#' * 30)\n",
        "print(accuracies)\n",
        "print('#' * 30)\n",
        "predictions = rfc.predict(X_test)\n",
        "print(confusion_matrix(y_test, predictions))\n",
        "print(classification_report(y_test,predictions))\n",
        "print(accuracy_score(y_test,predictions))\n",
        "print('#' * 30)"
      ],
      "execution_count": 43,
      "outputs": [
        {
          "output_type": "stream",
          "text": [
            "[Parallel(n_jobs=-1)]: Using backend ThreadingBackend with 4 concurrent workers.\n",
            "[Parallel(n_jobs=-1)]: Done  42 tasks      | elapsed:    9.3s\n",
            "[Parallel(n_jobs=-1)]: Done 192 tasks      | elapsed:   39.9s\n",
            "[Parallel(n_jobs=-1)]: Done 442 tasks      | elapsed:  1.5min\n",
            "[Parallel(n_jobs=-1)]: Done 500 out of 500 | elapsed:  1.7min finished\n",
            "[Parallel(n_jobs=-1)]: Using backend LokyBackend with 4 concurrent workers.\n",
            "[Parallel(n_jobs=-1)]: Done  42 tasks      | elapsed:    9.3s\n",
            "[Parallel(n_jobs=-1)]: Done 192 tasks      | elapsed:   39.7s\n",
            "[Parallel(n_jobs=-1)]: Done 442 tasks      | elapsed:  1.5min\n",
            "[Parallel(n_jobs=-1)]: Done 500 out of 500 | elapsed:  1.7min finished\n",
            "[Parallel(n_jobs=4)]: Using backend ThreadingBackend with 4 concurrent workers.\n",
            "[Parallel(n_jobs=4)]: Done  42 tasks      | elapsed:    0.0s\n",
            "[Parallel(n_jobs=4)]: Done 192 tasks      | elapsed:    0.1s\n",
            "[Parallel(n_jobs=4)]: Done 442 tasks      | elapsed:    0.3s\n",
            "[Parallel(n_jobs=4)]: Done 500 out of 500 | elapsed:    0.3s finished\n",
            "[Parallel(n_jobs=-1)]: Using backend LokyBackend with 4 concurrent workers.\n",
            "[Parallel(n_jobs=-1)]: Done  42 tasks      | elapsed:    9.0s\n",
            "[Parallel(n_jobs=-1)]: Done 192 tasks      | elapsed:   40.6s\n",
            "[Parallel(n_jobs=-1)]: Done 442 tasks      | elapsed:  1.5min\n",
            "[Parallel(n_jobs=-1)]: Done 500 out of 500 | elapsed:  1.7min finished\n",
            "[Parallel(n_jobs=4)]: Using backend ThreadingBackend with 4 concurrent workers.\n",
            "[Parallel(n_jobs=4)]: Done  42 tasks      | elapsed:    0.0s\n",
            "[Parallel(n_jobs=4)]: Done 192 tasks      | elapsed:    0.1s\n",
            "[Parallel(n_jobs=4)]: Done 442 tasks      | elapsed:    0.3s\n",
            "[Parallel(n_jobs=4)]: Done 500 out of 500 | elapsed:    0.3s finished\n",
            "[Parallel(n_jobs=-1)]: Using backend LokyBackend with 4 concurrent workers.\n",
            "[Parallel(n_jobs=-1)]: Done  42 tasks      | elapsed:    8.8s\n",
            "[Parallel(n_jobs=-1)]: Done 192 tasks      | elapsed:   40.9s\n",
            "[Parallel(n_jobs=-1)]: Done 442 tasks      | elapsed:  1.5min\n",
            "[Parallel(n_jobs=-1)]: Done 500 out of 500 | elapsed:  1.7min finished\n",
            "[Parallel(n_jobs=4)]: Using backend ThreadingBackend with 4 concurrent workers.\n",
            "[Parallel(n_jobs=4)]: Done  42 tasks      | elapsed:    0.0s\n",
            "[Parallel(n_jobs=4)]: Done 192 tasks      | elapsed:    0.1s\n",
            "[Parallel(n_jobs=4)]: Done 442 tasks      | elapsed:    0.3s\n",
            "[Parallel(n_jobs=4)]: Done 500 out of 500 | elapsed:    0.3s finished\n",
            "[Parallel(n_jobs=-1)]: Using backend LokyBackend with 4 concurrent workers.\n",
            "[Parallel(n_jobs=-1)]: Done  42 tasks      | elapsed:    8.9s\n",
            "[Parallel(n_jobs=-1)]: Done 192 tasks      | elapsed:   39.1s\n",
            "[Parallel(n_jobs=-1)]: Done 442 tasks      | elapsed:  1.5min\n",
            "[Parallel(n_jobs=-1)]: Done 500 out of 500 | elapsed:  1.7min finished\n",
            "[Parallel(n_jobs=4)]: Using backend ThreadingBackend with 4 concurrent workers.\n",
            "[Parallel(n_jobs=4)]: Done  42 tasks      | elapsed:    0.0s\n",
            "[Parallel(n_jobs=4)]: Done 192 tasks      | elapsed:    0.1s\n",
            "[Parallel(n_jobs=4)]: Done 442 tasks      | elapsed:    0.3s\n",
            "[Parallel(n_jobs=4)]: Done 500 out of 500 | elapsed:    0.3s finished\n",
            "[Parallel(n_jobs=-1)]: Using backend LokyBackend with 4 concurrent workers.\n",
            "[Parallel(n_jobs=-1)]: Done  42 tasks      | elapsed:    8.6s\n",
            "[Parallel(n_jobs=-1)]: Done 192 tasks      | elapsed:   38.6s\n",
            "[Parallel(n_jobs=-1)]: Done 442 tasks      | elapsed:  1.5min\n",
            "[Parallel(n_jobs=-1)]: Done 500 out of 500 | elapsed:  1.6min finished\n",
            "[Parallel(n_jobs=4)]: Using backend ThreadingBackend with 4 concurrent workers.\n",
            "[Parallel(n_jobs=4)]: Done  42 tasks      | elapsed:    0.0s\n",
            "[Parallel(n_jobs=4)]: Done 192 tasks      | elapsed:    0.1s\n",
            "[Parallel(n_jobs=4)]: Done 442 tasks      | elapsed:    0.3s\n",
            "[Parallel(n_jobs=4)]: Done 500 out of 500 | elapsed:    0.3s finished\n"
          ],
          "name": "stderr"
        },
        {
          "output_type": "stream",
          "text": [
            "##############################\n",
            "[0.75196232 0.7566719  0.76295133 0.75981162 0.73835688]\n",
            "##############################\n"
          ],
          "name": "stdout"
        },
        {
          "output_type": "stream",
          "text": [
            "[Parallel(n_jobs=4)]: Using backend ThreadingBackend with 4 concurrent workers.\n",
            "[Parallel(n_jobs=4)]: Done  42 tasks      | elapsed:    0.0s\n",
            "[Parallel(n_jobs=4)]: Done 192 tasks      | elapsed:    0.1s\n"
          ],
          "name": "stderr"
        },
        {
          "output_type": "stream",
          "text": [
            "[[952 168]\n",
            " [337 454]]\n",
            "              precision    recall  f1-score   support\n",
            "\n",
            "           0       0.74      0.85      0.79      1120\n",
            "           1       0.73      0.57      0.64       791\n",
            "\n",
            "    accuracy                           0.74      1911\n",
            "   macro avg       0.73      0.71      0.72      1911\n",
            "weighted avg       0.73      0.74      0.73      1911\n",
            "\n",
            "0.7357404500261643\n",
            "##############################\n"
          ],
          "name": "stdout"
        },
        {
          "output_type": "stream",
          "text": [
            "[Parallel(n_jobs=4)]: Done 442 tasks      | elapsed:    0.3s\n",
            "[Parallel(n_jobs=4)]: Done 500 out of 500 | elapsed:    0.3s finished\n"
          ],
          "name": "stderr"
        }
      ]
    },
    {
      "cell_type": "markdown",
      "metadata": {
        "id": "5yTn22DkceZI",
        "colab_type": "text"
      },
      "source": [
        "# Resources\n",
        "\n",
        "\n",
        "1.   https://machinelearningmastery.com/prepare-text-data-machine-learning-scikit-learn/\n",
        "2.   https://kavita-ganesan.com/tfidftransformer-tfidfvectorizer-usage-differences/#.XyMvm5YzY2w\n",
        "\n",
        "3. Scikit-Learn's official website\n",
        "\n"
      ]
    }
  ]
}